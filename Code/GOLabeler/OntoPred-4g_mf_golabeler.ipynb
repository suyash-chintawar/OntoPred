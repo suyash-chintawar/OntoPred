{
 "cells": [
  {
   "cell_type": "code",
   "execution_count": 1,
   "id": "a056c8a4",
   "metadata": {},
   "outputs": [
    {
     "name": "stdout",
     "output_type": "stream",
     "text": [
      "Wed Feb  1 18:50:49 2023       \n",
      "+-----------------------------------------------------------------------------+\n",
      "| NVIDIA-SMI 460.106.00   Driver Version: 460.106.00   CUDA Version: 11.2     |\n",
      "|-------------------------------+----------------------+----------------------+\n",
      "| GPU  Name        Persistence-M| Bus-Id        Disp.A | Volatile Uncorr. ECC |\n",
      "| Fan  Temp  Perf  Pwr:Usage/Cap|         Memory-Usage | GPU-Util  Compute M. |\n",
      "|                               |                      |               MIG M. |\n",
      "|===============================+======================+======================|\n",
      "|   0  Tesla V100-DGXS...  Off  | 00000000:07:00.0 Off |                    0 |\n",
      "| N/A   39C    P0    52W / 300W |      0MiB / 32508MiB |      0%      Default |\n",
      "|                               |                      |                  N/A |\n",
      "+-------------------------------+----------------------+----------------------+\n",
      "|   1  Tesla V100-DGXS...  Off  | 00000000:08:00.0 Off |                    0 |\n",
      "| N/A   39C    P0    52W / 300W |      0MiB / 32508MiB |      0%      Default |\n",
      "|                               |                      |                  N/A |\n",
      "+-------------------------------+----------------------+----------------------+\n",
      "|   2  Tesla V100-DGXS...  Off  | 00000000:0E:00.0 Off |                    0 |\n",
      "| N/A   39C    P0    53W / 300W |      0MiB / 32508MiB |      0%      Default |\n",
      "|                               |                      |                  N/A |\n",
      "+-------------------------------+----------------------+----------------------+\n",
      "|   3  Tesla V100-DGXS...  Off  | 00000000:0F:00.0 Off |                    0 |\n",
      "| N/A   40C    P0    53W / 300W |      0MiB / 32508MiB |      0%      Default |\n",
      "|                               |                      |                  N/A |\n",
      "+-------------------------------+----------------------+----------------------+\n",
      "                                                                               \n",
      "+-----------------------------------------------------------------------------+\n",
      "| Processes:                                                                  |\n",
      "|  GPU   GI   CI        PID   Type   Process name                  GPU Memory |\n",
      "|        ID   ID                                                   Usage      |\n",
      "|=============================================================================|\n",
      "|  No running processes found                                                 |\n",
      "+-----------------------------------------------------------------------------+\n"
     ]
    }
   ],
   "source": [
    "!nvidia-smi"
   ]
  },
  {
   "cell_type": "code",
   "execution_count": 2,
   "id": "86add81b",
   "metadata": {},
   "outputs": [],
   "source": [
    "import os\n",
    "os.environ[\"CUDA_VISIBLE_DEVICES\"]=\"3\""
   ]
  },
  {
   "cell_type": "code",
   "execution_count": 3,
   "id": "6fb10a5a",
   "metadata": {},
   "outputs": [
    {
     "name": "stderr",
     "output_type": "stream",
     "text": [
      "2023-02-01 18:50:54.697127: I tensorflow/core/platform/cpu_feature_guard.cc:193] This TensorFlow binary is optimized with oneAPI Deep Neural Network Library (oneDNN) to use the following CPU instructions in performance-critical operations:  AVX2 FMA\n",
      "To enable them in other operations, rebuild TensorFlow with the appropriate compiler flags.\n",
      "2023-02-01 18:50:54.860759: E tensorflow/stream_executor/cuda/cuda_blas.cc:2981] Unable to register cuBLAS factory: Attempting to register factory for plugin cuBLAS when one has already been registered\n"
     ]
    },
    {
     "name": "stdout",
     "output_type": "stream",
     "text": [
      "[name: \"/device:CPU:0\"\n",
      "device_type: \"CPU\"\n",
      "memory_limit: 268435456\n",
      "locality {\n",
      "}\n",
      "incarnation: 14199316374074684166\n",
      "xla_global_id: -1\n",
      ", name: \"/device:GPU:0\"\n",
      "device_type: \"GPU\"\n",
      "memory_limit: 32476168192\n",
      "locality {\n",
      "  bus_id: 1\n",
      "  links {\n",
      "  }\n",
      "}\n",
      "incarnation: 7807855643240213277\n",
      "physical_device_desc: \"device: 0, name: Tesla V100-DGXS-32GB, pci bus id: 0000:0f:00.0, compute capability: 7.0\"\n",
      "xla_global_id: 416903419\n",
      "]\n"
     ]
    },
    {
     "name": "stderr",
     "output_type": "stream",
     "text": [
      "2023-02-01 18:50:57.964178: I tensorflow/core/platform/cpu_feature_guard.cc:193] This TensorFlow binary is optimized with oneAPI Deep Neural Network Library (oneDNN) to use the following CPU instructions in performance-critical operations:  AVX2 FMA\n",
      "To enable them in other operations, rebuild TensorFlow with the appropriate compiler flags.\n",
      "2023-02-01 18:51:02.086765: I tensorflow/core/common_runtime/gpu/gpu_device.cc:1616] Created device /device:GPU:0 with 30971 MB memory:  -> device: 0, name: Tesla V100-DGXS-32GB, pci bus id: 0000:0f:00.0, compute capability: 7.0\n"
     ]
    }
   ],
   "source": [
    "from tensorflow.python.client import device_lib\n",
    "print(device_lib.list_local_devices())"
   ]
  },
  {
   "cell_type": "code",
   "execution_count": 4,
   "id": "d8be3b48",
   "metadata": {},
   "outputs": [],
   "source": [
    "import gc\n",
    "import math\n",
    "import gdown\n",
    "import numpy as np\n",
    "import pandas as pd\n",
    "from tqdm import tqdm\n",
    "import matplotlib.pyplot as plt\n",
    "from collections import defaultdict\n",
    "import tqdm.notebook as tqdm"
   ]
  },
  {
   "cell_type": "code",
   "execution_count": 5,
   "id": "e6e98a41",
   "metadata": {},
   "outputs": [],
   "source": [
    "aspect = ['molecular','function']\n",
    "aspect_abbr = 'mf'"
   ]
  },
  {
   "cell_type": "code",
   "execution_count": 6,
   "id": "5ce40988",
   "metadata": {},
   "outputs": [],
   "source": [
    "file = 'golabeler_train/mf_df.csv'\n",
    "# if not os.path.exists(file):\n",
    "#     url = \"https://drive.google.com/file/d/1RyeLQPFTMWAIr-OzELTWIx60ln-mZ7g_/view?usp=sharing\"\n",
    "#     output = file\n",
    "#     gdown.download(url=url, output=output, quiet=False, fuzzy=True)"
   ]
  },
  {
   "cell_type": "code",
   "execution_count": 7,
   "id": "bd949fb2",
   "metadata": {},
   "outputs": [
    {
     "data": {
      "text/html": [
       "<div>\n",
       "<style scoped>\n",
       "    .dataframe tbody tr th:only-of-type {\n",
       "        vertical-align: middle;\n",
       "    }\n",
       "\n",
       "    .dataframe tbody tr th {\n",
       "        vertical-align: top;\n",
       "    }\n",
       "\n",
       "    .dataframe thead th {\n",
       "        text-align: right;\n",
       "    }\n",
       "</style>\n",
       "<table border=\"1\" class=\"dataframe\">\n",
       "  <thead>\n",
       "    <tr style=\"text-align: right;\">\n",
       "      <th></th>\n",
       "      <th>index</th>\n",
       "      <th>Entry</th>\n",
       "      <th>accessions</th>\n",
       "      <th>Sequence</th>\n",
       "      <th>Gene Ontology (molecular function)</th>\n",
       "      <th>interpros</th>\n",
       "      <th>orgs</th>\n",
       "    </tr>\n",
       "  </thead>\n",
       "  <tbody>\n",
       "    <tr>\n",
       "      <th>0</th>\n",
       "      <td>240</td>\n",
       "      <td>128UP_DROME</td>\n",
       "      <td>P32234; Q9V648;</td>\n",
       "      <td>MSTILEKISAIESEMARTQKNKATSAHLGLLKAKLAKLRRELISPK...</td>\n",
       "      <td>GO:0036094;GO:0043167;GO:0032553;GO:0017076;GO...</td>\n",
       "      <td>['IPR031167', 'IPR031662', 'IPR006074', 'IPR00...</td>\n",
       "      <td>7227</td>\n",
       "    </tr>\n",
       "    <tr>\n",
       "      <th>1</th>\n",
       "      <td>261</td>\n",
       "      <td>14310_ARATH</td>\n",
       "      <td>P48347; Q9LME5;</td>\n",
       "      <td>MENEREKQVYLAKLSEQTERYDEMVEAMKKVAQLDVELTVEERNLV...</td>\n",
       "      <td>GO:0036094;GO:0043167;GO:0032553;GO:0017076;GO...</td>\n",
       "      <td>['IPR000308', 'IPR023409', 'IPR023410']</td>\n",
       "      <td>3702</td>\n",
       "    </tr>\n",
       "    <tr>\n",
       "      <th>2</th>\n",
       "      <td>263</td>\n",
       "      <td>14311_ARATH</td>\n",
       "      <td>Q9S9Z8; A0JQ87; F4HWN0; Q0WL19;</td>\n",
       "      <td>MENERAKQVYLAKLNEQAERYDEMVEAMKKVAALDVELTIEERNLL...</td>\n",
       "      <td>GO:0051117;GO:0005515;GO:0005488;GO:0019899;GO...</td>\n",
       "      <td>['IPR000308', 'IPR023409', 'IPR023410']</td>\n",
       "      <td>3702</td>\n",
       "    </tr>\n",
       "    <tr>\n",
       "      <th>3</th>\n",
       "      <td>287</td>\n",
       "      <td>14333_ARATH</td>\n",
       "      <td>P42644; F4KBI7; Q945L2;</td>\n",
       "      <td>MSTREENVYMAKLAEQAERYEEMVEFMEKVAKTVDVEELSVEERNL...</td>\n",
       "      <td>GO:0036094;GO:0043167;GO:0032553;GO:0017076;GO...</td>\n",
       "      <td>['IPR000308', 'IPR023409', 'IPR023410']</td>\n",
       "      <td>3702</td>\n",
       "    </tr>\n",
       "    <tr>\n",
       "      <th>4</th>\n",
       "      <td>296</td>\n",
       "      <td>14335_ARATH</td>\n",
       "      <td>P42645;</td>\n",
       "      <td>MSSDSSREENVYLAKLAEQAERYEEMVEFMEKVAKTVETEELTVEE...</td>\n",
       "      <td>GO:0036094;GO:0043167;GO:0032553;GO:0017076;GO...</td>\n",
       "      <td>['IPR000308', 'IPR023409', 'IPR023410']</td>\n",
       "      <td>3702</td>\n",
       "    </tr>\n",
       "    <tr>\n",
       "      <th>...</th>\n",
       "      <td>...</td>\n",
       "      <td>...</td>\n",
       "      <td>...</td>\n",
       "      <td>...</td>\n",
       "      <td>...</td>\n",
       "      <td>...</td>\n",
       "      <td>...</td>\n",
       "    </tr>\n",
       "    <tr>\n",
       "      <th>34483</th>\n",
       "      <td>550264</td>\n",
       "      <td>ZYM1_SCHPO</td>\n",
       "      <td>Q9UTC0;</td>\n",
       "      <td>MEHTTQCKSKQGKPCDCQSKCGCQDCKESCGCKSSAVDNCKCSSCK...</td>\n",
       "      <td>GO:0043167;GO:0046914;GO:0043169;GO:0046872;GO...</td>\n",
       "      <td>['IPR001008']</td>\n",
       "      <td>284812</td>\n",
       "    </tr>\n",
       "    <tr>\n",
       "      <th>34484</th>\n",
       "      <td>550266</td>\n",
       "      <td>ZYX_CAEEL</td>\n",
       "      <td>Q9U3F4; H2L2F5; H2L2F6; H2L2F7; Q9U3F5;</td>\n",
       "      <td>MGPPPPPPPPPLLPSGEILPSRKWKTEDAPRRNNHPAPAPPKPSRP...</td>\n",
       "      <td>GO:0003674;GO:0005515;GO:0005488;GO:0019899</td>\n",
       "      <td>['IPR001781']</td>\n",
       "      <td>6239</td>\n",
       "    </tr>\n",
       "    <tr>\n",
       "      <th>34485</th>\n",
       "      <td>550267</td>\n",
       "      <td>ZYX_CHICK</td>\n",
       "      <td>Q04584;</td>\n",
       "      <td>MASPGTPGTRMTTTVSINISTPSFYNPQKKFAPVVAPKPKVNPFKT...</td>\n",
       "      <td>GO:0003674;GO:0008092;GO:0005515;GO:0005488</td>\n",
       "      <td>['IPR001781']</td>\n",
       "      <td>9031</td>\n",
       "    </tr>\n",
       "    <tr>\n",
       "      <th>34486</th>\n",
       "      <td>550268</td>\n",
       "      <td>ZYX_HUMAN</td>\n",
       "      <td>Q15942; A4D2G6; B4DQX7; Q6I9S4;</td>\n",
       "      <td>MAAPRPSPAISVSVSAPAFYAPQKKFGPVVAPKPKVNPFRPGDSEP...</td>\n",
       "      <td>GO:0003676;GO:0005488;GO:0003723;GO:0003674;GO...</td>\n",
       "      <td>['IPR001781']</td>\n",
       "      <td>9606</td>\n",
       "    </tr>\n",
       "    <tr>\n",
       "      <th>34487</th>\n",
       "      <td>550270</td>\n",
       "      <td>ZYX_XENLA</td>\n",
       "      <td>A5H447;</td>\n",
       "      <td>MDPAAPATRMTSSFTINISTPSFYNPPKKFAPVVPPKPKINPFKAP...</td>\n",
       "      <td>GO:0003674;GO:0005515;GO:0005488;GO:0008134</td>\n",
       "      <td>['IPR001781']</td>\n",
       "      <td>8355</td>\n",
       "    </tr>\n",
       "  </tbody>\n",
       "</table>\n",
       "<p>34488 rows × 7 columns</p>\n",
       "</div>"
      ],
      "text/plain": [
       "        index        Entry                               accessions  \\\n",
       "0         240  128UP_DROME                          P32234; Q9V648;   \n",
       "1         261  14310_ARATH                          P48347; Q9LME5;   \n",
       "2         263  14311_ARATH          Q9S9Z8; A0JQ87; F4HWN0; Q0WL19;   \n",
       "3         287  14333_ARATH                  P42644; F4KBI7; Q945L2;   \n",
       "4         296  14335_ARATH                                  P42645;   \n",
       "...       ...          ...                                      ...   \n",
       "34483  550264   ZYM1_SCHPO                                  Q9UTC0;   \n",
       "34484  550266    ZYX_CAEEL  Q9U3F4; H2L2F5; H2L2F6; H2L2F7; Q9U3F5;   \n",
       "34485  550267    ZYX_CHICK                                  Q04584;   \n",
       "34486  550268    ZYX_HUMAN          Q15942; A4D2G6; B4DQX7; Q6I9S4;   \n",
       "34487  550270    ZYX_XENLA                                  A5H447;   \n",
       "\n",
       "                                                Sequence  \\\n",
       "0      MSTILEKISAIESEMARTQKNKATSAHLGLLKAKLAKLRRELISPK...   \n",
       "1      MENEREKQVYLAKLSEQTERYDEMVEAMKKVAQLDVELTVEERNLV...   \n",
       "2      MENERAKQVYLAKLNEQAERYDEMVEAMKKVAALDVELTIEERNLL...   \n",
       "3      MSTREENVYMAKLAEQAERYEEMVEFMEKVAKTVDVEELSVEERNL...   \n",
       "4      MSSDSSREENVYLAKLAEQAERYEEMVEFMEKVAKTVETEELTVEE...   \n",
       "...                                                  ...   \n",
       "34483  MEHTTQCKSKQGKPCDCQSKCGCQDCKESCGCKSSAVDNCKCSSCK...   \n",
       "34484  MGPPPPPPPPPLLPSGEILPSRKWKTEDAPRRNNHPAPAPPKPSRP...   \n",
       "34485  MASPGTPGTRMTTTVSINISTPSFYNPQKKFAPVVAPKPKVNPFKT...   \n",
       "34486  MAAPRPSPAISVSVSAPAFYAPQKKFGPVVAPKPKVNPFRPGDSEP...   \n",
       "34487  MDPAAPATRMTSSFTINISTPSFYNPPKKFAPVVPPKPKINPFKAP...   \n",
       "\n",
       "                      Gene Ontology (molecular function)  \\\n",
       "0      GO:0036094;GO:0043167;GO:0032553;GO:0017076;GO...   \n",
       "1      GO:0036094;GO:0043167;GO:0032553;GO:0017076;GO...   \n",
       "2      GO:0051117;GO:0005515;GO:0005488;GO:0019899;GO...   \n",
       "3      GO:0036094;GO:0043167;GO:0032553;GO:0017076;GO...   \n",
       "4      GO:0036094;GO:0043167;GO:0032553;GO:0017076;GO...   \n",
       "...                                                  ...   \n",
       "34483  GO:0043167;GO:0046914;GO:0043169;GO:0046872;GO...   \n",
       "34484        GO:0003674;GO:0005515;GO:0005488;GO:0019899   \n",
       "34485        GO:0003674;GO:0008092;GO:0005515;GO:0005488   \n",
       "34486  GO:0003676;GO:0005488;GO:0003723;GO:0003674;GO...   \n",
       "34487        GO:0003674;GO:0005515;GO:0005488;GO:0008134   \n",
       "\n",
       "                                               interpros    orgs  \n",
       "0      ['IPR031167', 'IPR031662', 'IPR006074', 'IPR00...    7227  \n",
       "1                ['IPR000308', 'IPR023409', 'IPR023410']    3702  \n",
       "2                ['IPR000308', 'IPR023409', 'IPR023410']    3702  \n",
       "3                ['IPR000308', 'IPR023409', 'IPR023410']    3702  \n",
       "4                ['IPR000308', 'IPR023409', 'IPR023410']    3702  \n",
       "...                                                  ...     ...  \n",
       "34483                                      ['IPR001008']  284812  \n",
       "34484                                      ['IPR001781']    6239  \n",
       "34485                                      ['IPR001781']    9031  \n",
       "34486                                      ['IPR001781']    9606  \n",
       "34487                                      ['IPR001781']    8355  \n",
       "\n",
       "[34488 rows x 7 columns]"
      ]
     },
     "execution_count": 7,
     "metadata": {},
     "output_type": "execute_result"
    }
   ],
   "source": [
    "df = pd.read_csv(file)\n",
    "df"
   ]
  },
  {
   "cell_type": "code",
   "execution_count": 8,
   "id": "724323ff",
   "metadata": {},
   "outputs": [
    {
     "name": "stdout",
     "output_type": "stream",
     "text": [
      "652\n"
     ]
    }
   ],
   "source": [
    "go_terms_bp = set()\n",
    "for idx, row in df.iterrows():\n",
    "    for term in row['Gene Ontology ('+' '.join(aspect)+')'].split(';'):\n",
    "        go_terms_bp.add(term)\n",
    "go_terms_bp = list(go_terms_bp)\n",
    "go_terms_bp.sort()\n",
    "print(len(go_terms_bp))\n",
    "# print(go_terms_bp)"
   ]
  },
  {
   "cell_type": "code",
   "execution_count": 10,
   "id": "72f8a1f9",
   "metadata": {},
   "outputs": [],
   "source": [
    "def get_segments(sequence,segment_size=100,gap=30):\n",
    "    segments = []\n",
    "    start = 0\n",
    "    end = segment_size\n",
    "    while end <= len(sequence):\n",
    "        segments.append(sequence[start:end])\n",
    "        start += gap\n",
    "        end += gap\n",
    "    last_segment = sequence[start:]\n",
    "    segments.append(last_segment)\n",
    "    \n",
    "    return segments\n",
    "\n",
    "def get_training_data(df,segment_size=100,gap=30):\n",
    "    training_data = list()\n",
    "    for idx,row in tqdm.tqdm(df.iterrows()):\n",
    "        labels = [0] * len(go_terms_bp)\n",
    "        for term in row['Gene Ontology ('+' '.join(aspect)+')'].split(';'):\n",
    "            labels[go_terms_bp.index(term)] = 1\n",
    "        segments = get_segments(row['Sequence'],segment_size,gap)\n",
    "        for segment in segments:\n",
    "            training_data.append([row['Entry'],segment,labels])\n",
    "    return training_data"
   ]
  },
  {
   "cell_type": "code",
   "execution_count": 11,
   "id": "1f1d6c8d",
   "metadata": {},
   "outputs": [
    {
     "data": {
      "application/vnd.jupyter.widget-view+json": {
       "model_id": "ec0800d0a32f4c61b3577a2b4fa20a80",
       "version_major": 2,
       "version_minor": 0
      },
      "text/plain": [
       "0it [00:00, ?it/s]"
      ]
     },
     "metadata": {},
     "output_type": "display_data"
    },
    {
     "name": "stdout",
     "output_type": "stream",
     "text": [
      "574962\n"
     ]
    }
   ],
   "source": [
    "training_data = get_training_data(df,gap=30)\n",
    "print(len(training_data))"
   ]
  },
  {
   "cell_type": "code",
   "execution_count": 12,
   "id": "1c0991f7",
   "metadata": {},
   "outputs": [],
   "source": [
    "def get_ngrams(segment,n=3):\n",
    "    ngrams = []\n",
    "    for i in range(len(segment)-n+1):\n",
    "        ngrams.append(segment[i:i+n])\n",
    "    return ngrams"
   ]
  },
  {
   "cell_type": "code",
   "execution_count": 13,
   "id": "5358736d",
   "metadata": {},
   "outputs": [
    {
     "name": "stdout",
     "output_type": "stream",
     "text": [
      "Preparing from scratch...\n"
     ]
    },
    {
     "data": {
      "application/vnd.jupyter.widget-view+json": {
       "model_id": "3e2dcae2beaa4badb4868f8f96c210ff",
       "version_major": 2,
       "version_minor": 0
      },
      "text/plain": [
       "  0%|          | 0/574962 [00:00<?, ?it/s]"
      ]
     },
     "metadata": {},
     "output_type": "display_data"
    },
    {
     "name": "stdout",
     "output_type": "stream",
     "text": [
      "574962\n"
     ]
    }
   ],
   "source": [
    "# Generate training data of ngrams\n",
    "# if os.path.exists('bp/training_data_4grams.npy'):\n",
    "#     print('Loading saved ngrams...')\n",
    "#     training_data_ngrams = np.load('bp/training_data_4grams.npy',allow_pickle=True)\n",
    "# else:\n",
    "print('Preparing from scratch...')\n",
    "training_data_ngrams = []\n",
    "\n",
    "for i in tqdm.tqdm(range(len(training_data))):\n",
    "    training_data_ngrams.append([training_data[i][0],get_ngrams(training_data[i][1],n=4),training_data[i][2]])\n",
    "        \n",
    "#     np.save('bp/training_data_4grams.npy',training_data_ngrams)\n",
    "    \n",
    "print(len(training_data_ngrams))"
   ]
  },
  {
   "cell_type": "code",
   "execution_count": 14,
   "id": "4acd14a0",
   "metadata": {},
   "outputs": [],
   "source": [
    "def get_skip_grams(segment,skip=1,n=3):\n",
    "    skip_grams = []\n",
    "    window_size = skip + n\n",
    "    for i in range(len(segment)-window_size+1):\n",
    "        window = segment[i:i+window_size]\n",
    "        indices = list(range(window_size))\n",
    "        indices.pop(0)\n",
    "        for idx in indices[::-1]:\n",
    "            temp = ''\n",
    "            for j in range(window_size):\n",
    "                if j!=idx:\n",
    "                    temp+=window[j]\n",
    "            skip_grams.append(temp)\n",
    "\n",
    "    return skip_grams"
   ]
  },
  {
   "cell_type": "code",
   "execution_count": 15,
   "id": "fa91e8e9",
   "metadata": {},
   "outputs": [
    {
     "name": "stdout",
     "output_type": "stream",
     "text": [
      "Preparing from scratch...\n"
     ]
    },
    {
     "data": {
      "application/vnd.jupyter.widget-view+json": {
       "model_id": "36534e52d9954cacbf589e8952185296",
       "version_major": 2,
       "version_minor": 0
      },
      "text/plain": [
       "  0%|          | 0/574962 [00:00<?, ?it/s]"
      ]
     },
     "metadata": {},
     "output_type": "display_data"
    },
    {
     "name": "stdout",
     "output_type": "stream",
     "text": [
      "574962\n"
     ]
    }
   ],
   "source": [
    "# if os.path.exists('bp/training_data_skip1_4grams.npy'):\n",
    "#     print('Loading saved skip grams...')\n",
    "#     training_data_skip_grams = np.load('bp/training_data_skip1_4grams.npy',allow_pickle=True)\n",
    "# else:\n",
    "print('Preparing from scratch...')\n",
    "training_data_skip_grams = []\n",
    "for i in tqdm.tqdm(range(len(training_data))):\n",
    "    training_data_skip_grams.append([training_data[i][0],get_skip_grams(training_data[i][1],n=4),training_data[i][2]])\n",
    "#     np.save('bp/training_data_skip1_4grams.npy',training_data_skip_grams)\n",
    "print(len(training_data_skip_grams))"
   ]
  },
  {
   "cell_type": "code",
   "execution_count": 16,
   "id": "11d856c7",
   "metadata": {},
   "outputs": [],
   "source": [
    "import tensorflow as tf\n",
    "import tensorflow_addons as tfa"
   ]
  },
  {
   "cell_type": "code",
   "execution_count": 17,
   "id": "0e391f5a",
   "metadata": {},
   "outputs": [],
   "source": [
    "#Assuming training_data as global variable\n",
    "\n",
    "def train_test_split(X,y,fold_no,prev_index,Kfolds=5):\n",
    "    test_split = 1/Kfolds\n",
    "    \n",
    "    start_index = prev_index\n",
    "    end_index = (fold_no + 1) * (test_split) * len(X)\n",
    "    end_index = round(end_index)\n",
    "    \n",
    "    if end_index==len(X):\n",
    "        end_index -= 1\n",
    "    \n",
    "    entry = training_data[end_index][0]\n",
    "    entries = [sample[0] for sample in training_data]\n",
    "    \n",
    "    first_occurence = entries.index(entry)\n",
    "    entries.reverse()\n",
    "    \n",
    "    last_occurence = entries.index(entry)\n",
    "    last_occurence = len(entries) - last_occurence - 1\n",
    "    \n",
    "    del entries\n",
    "    gc.collect()\n",
    "    \n",
    "    end_index = first_occurence if (abs(end_index-first_occurence) < abs(end_index-last_occurence)) else last_occurence\n",
    "    \n",
    "    X_test = X[start_index:end_index+1]\n",
    "    y_test = y[start_index:end_index+1]\n",
    "    X_train = X[:start_index]\n",
    "    X_train.extend(X[end_index+1:])\n",
    "    y_train = y[:start_index]\n",
    "    y_train.extend(y[end_index+1:])\n",
    "    \n",
    "    return X_train, y_train, X_test, y_test, start_index, end_index + 1"
   ]
  },
  {
   "cell_type": "code",
   "execution_count": 18,
   "id": "730f9429",
   "metadata": {},
   "outputs": [],
   "source": [
    "# MAX_WORDS = 13824\n",
    "# MAX_LEN_NG = 98 #100\n",
    "# MAX_LEN_SG = 291 #300\n",
    "MAX_WORDS = 331776\n",
    "MAX_LEN_NG = 97 #100\n",
    "MAX_LEN_SG = 384 #300\n",
    "# MAX_WORDS = 7962624\n",
    "# MAX_LEN_NG = 96 #100\n",
    "# MAX_LEN_SG = 475 #300\n",
    "\n",
    "def tokenization(X_train,X_test,maxlen):\n",
    "\n",
    "    tokenizer = tf.keras.preprocessing.text.Tokenizer(num_words=MAX_WORDS)\n",
    "    tokenizer.fit_on_texts(X_train)\n",
    "\n",
    "    X_train = tokenizer.texts_to_sequences(X_train)\n",
    "    X_test = tokenizer.texts_to_sequences(X_test)\n",
    "\n",
    "    vocab_size = len(tokenizer.word_index) + 1\n",
    "\n",
    "    X_train = tf.keras.preprocessing.sequence.pad_sequences(X_train, padding='post', maxlen=maxlen)\n",
    "    X_test = tf.keras.preprocessing.sequence.pad_sequences(X_test, padding='post', maxlen=maxlen)\n",
    "    \n",
    "    return X_train, X_test, vocab_size, tokenizer"
   ]
  },
  {
   "cell_type": "code",
   "execution_count": 19,
   "id": "10a7f090",
   "metadata": {},
   "outputs": [],
   "source": [
    "from tensorflow.keras import backend as K\n",
    "\n",
    "false_negative_penalty = 6\n",
    "false_positive_penalty = 1\n",
    "\n",
    "def custom_loss(y_true, y_logit):\n",
    "\n",
    "    loss = float(0)\n",
    "    y_true = tf.cast(y_true, tf.float32)\n",
    "    y_logit = tf.cast(y_logit, tf.float32)\n",
    "    \n",
    "    first_term = false_negative_penalty * float(y_true) * - K.log(y_logit + K.epsilon())\n",
    "    second_term = false_positive_penalty * (1 - float(y_true)) * - K.log(1 - y_logit + K.epsilon())\n",
    "    \n",
    "    loss = K.mean(first_term+second_term)\n",
    "\n",
    "    return loss\n",
    "\n",
    "def precision(y_true, y_pred):\n",
    "    \n",
    "    true_positives = K.sum(K.round(K.clip(y_true * y_pred, 0, 1)), axis=1)\n",
    "    predicted_positives = K.sum(K.round(K.clip(y_pred, 0, 1)), axis=1)\n",
    "    precision = true_positives / (predicted_positives + K.epsilon())\n",
    "    \n",
    "    return K.mean(precision)\n",
    "\n",
    "\n",
    "def recall(y_true, y_pred):\n",
    "    true_positives = K.sum(K.round(K.clip(y_true * y_pred, 0, 1)), axis=1)\n",
    "    possible_positives = K.sum(K.round(K.clip(y_true, 0, 1)), axis=1)\n",
    "    recall = true_positives / (possible_positives + K.epsilon())\n",
    "    return K.mean(recall)\n",
    "\n",
    "def f1_score(y_true, y_pred):\n",
    "    rec = recall(y_true,y_pred)\n",
    "    prec = precision(y_true,y_pred)\n",
    "    f1 = 2*prec*rec/(prec+rec)\n",
    "    return f1"
   ]
  },
  {
   "cell_type": "code",
   "execution_count": 20,
   "id": "36c30cf1",
   "metadata": {},
   "outputs": [],
   "source": [
    "class attention(tf.keras.layers.Layer):\n",
    "    \n",
    "    def __init__(self, return_sequences=True,**kwargs):\n",
    "        self.return_sequences = return_sequences\n",
    "        super(attention,self).__init__()\n",
    "\n",
    "    def get_config(self):\n",
    "      config = super().get_config().copy()\n",
    "      config.update({\n",
    "          'return_sequences': self.return_sequences \n",
    "      })\n",
    "      return config\n",
    "        \n",
    "    def build(self, input_shape):\n",
    "        \n",
    "        self.W=self.add_weight(name=\"att_weight\", shape=(input_shape[-1],1),\n",
    "                               initializer=\"normal\")\n",
    "        self.b=self.add_weight(name=\"att_bias\", shape=(input_shape[1],1),\n",
    "                               initializer=\"zeros\")\n",
    "        \n",
    "        super(attention,self).build(input_shape)\n",
    "        \n",
    "    def call(self, x):\n",
    "        \n",
    "        e = K.tanh(K.dot(x,self.W)+self.b)\n",
    "        a = K.softmax(e, axis=1)\n",
    "        output = x*a\n",
    "        \n",
    "        if self.return_sequences:\n",
    "            return output\n",
    "        \n",
    "        return K.sum(output, axis=1)"
   ]
  },
  {
   "cell_type": "code",
   "execution_count": 21,
   "id": "03b912ca",
   "metadata": {},
   "outputs": [],
   "source": [
    "NUM_CLASSES = 652 #For bp (Change according to aspects)\n",
    "\n",
    "def get_model_ng_sg(vocab_size_ng, vocab_size_sg):\n",
    "    #Input layers\n",
    "\n",
    "    input_ngrams = tf.keras.layers.Input(shape=(MAX_LEN_NG,)) \n",
    "    input_skip_grams = tf.keras.layers.Input(shape=(MAX_LEN_SG,)) \n",
    "\n",
    "    #embeddings\n",
    "    embedding_layer_ngrams = tf.keras.layers.Embedding(vocab_size_ng, 32)(input_ngrams)\n",
    "    embedding_layer_skip_grams = tf.keras.layers.Embedding(vocab_size_sg, 32)(input_skip_grams)\n",
    "\n",
    "    #BI-LSTMs for each of the inputs\n",
    "    sequence_output_1 = tf.keras.layers.Bidirectional(tf.keras.layers.LSTM(64,return_sequences=True))(embedding_layer_ngrams)\n",
    "    attention_output_1 = attention(return_sequences=False)(sequence_output_1)\n",
    "    dropout_1 = tf.keras.layers.Dropout(0.3)(attention_output_1)\n",
    "    dense_layer_1 = tf.keras.layers.Dense(NUM_CLASSES, activation='sigmoid')(dropout_1)\n",
    "\n",
    "    sequence_output_2 = tf.keras.layers.Bidirectional(tf.keras.layers.LSTM(64, return_sequences=True))(embedding_layer_skip_grams)\n",
    "    attention_output_2 = attention(return_sequences=False)(sequence_output_2)\n",
    "    dropout_2 = tf.keras.layers.Dropout(0.3)(attention_output_2)\n",
    "    dense_layer_2 = tf.keras.layers.Dense(NUM_CLASSES, activation='sigmoid')(dropout_2)\n",
    "\n",
    "    max_layer = tf.keras.layers.Maximum()([dense_layer_1,dense_layer_2])\n",
    "\n",
    "    model = tf.keras.models.Model(\n",
    "        inputs=[\n",
    "            input_ngrams,\n",
    "            input_skip_grams\n",
    "        ], \n",
    "        outputs=max_layer)\n",
    "    \n",
    "    return model"
   ]
  },
  {
   "cell_type": "markdown",
   "id": "84680b09",
   "metadata": {},
   "source": [
    "### Model using skip grams and ngrams"
   ]
  },
  {
   "cell_type": "code",
   "execution_count": 22,
   "id": "6163d660",
   "metadata": {},
   "outputs": [],
   "source": [
    "#Considering ngrams and skip grams\n",
    "X_train_ng = [' '.join(sample[1]) for sample in training_data_ngrams]\n",
    "X_train_sg = [' '.join(sample[1]) for sample in training_data_skip_grams]\n",
    "y_train = [sample[2] for sample in training_data]\n",
    "\n",
    "del training_data_ngrams\n",
    "del training_data_skip_grams"
   ]
  },
  {
   "cell_type": "code",
   "execution_count": 23,
   "id": "32366243",
   "metadata": {},
   "outputs": [
    {
     "name": "stdout",
     "output_type": "stream",
     "text": [
      "574962 574962\n"
     ]
    }
   ],
   "source": [
    "print(len(X_train_ng),len(X_train_sg))"
   ]
  },
  {
   "cell_type": "code",
   "execution_count": 24,
   "id": "27dfda2e",
   "metadata": {},
   "outputs": [
    {
     "data": {
      "text/html": [
       "<div>\n",
       "<style scoped>\n",
       "    .dataframe tbody tr th:only-of-type {\n",
       "        vertical-align: middle;\n",
       "    }\n",
       "\n",
       "    .dataframe tbody tr th {\n",
       "        vertical-align: top;\n",
       "    }\n",
       "\n",
       "    .dataframe thead th {\n",
       "        text-align: right;\n",
       "    }\n",
       "</style>\n",
       "<table border=\"1\" class=\"dataframe\">\n",
       "  <thead>\n",
       "    <tr style=\"text-align: right;\">\n",
       "      <th></th>\n",
       "      <th>level_0</th>\n",
       "      <th>index</th>\n",
       "      <th>Entry</th>\n",
       "      <th>accessions</th>\n",
       "      <th>Sequence</th>\n",
       "      <th>Gene Ontology (molecular function)</th>\n",
       "      <th>interpros</th>\n",
       "      <th>orgs</th>\n",
       "    </tr>\n",
       "  </thead>\n",
       "  <tbody>\n",
       "    <tr>\n",
       "      <th>0</th>\n",
       "      <td>181</td>\n",
       "      <td>1028</td>\n",
       "      <td>3BHS7_MOUSE</td>\n",
       "      <td>Q9EQC1; A2RTR5;</td>\n",
       "      <td>MADSAQVPTLVYLVTGGCGFLGEHIVRMLLEREPRLRELRVFDLHL...</td>\n",
       "      <td>GO:0016491;GO:0003824;GO:0003674;GO:0016616;GO...</td>\n",
       "      <td>['IPR002225', 'IPR016040']</td>\n",
       "      <td>10090</td>\n",
       "    </tr>\n",
       "    <tr>\n",
       "      <th>1</th>\n",
       "      <td>183</td>\n",
       "      <td>1043</td>\n",
       "      <td>3BP1_MOUSE</td>\n",
       "      <td>P55194; E9QMQ2; Q99KK8;</td>\n",
       "      <td>MAESFKELDPDSSMGKALEMTCAIQNQLARILAEFEMTLERDVLQP...</td>\n",
       "      <td>GO:0017124;GO:0005515;GO:0005488;GO:0003674;GO...</td>\n",
       "      <td>['IPR027267', 'IPR004148', 'IPR008936', 'IPR00...</td>\n",
       "      <td>10090</td>\n",
       "    </tr>\n",
       "    <tr>\n",
       "      <th>2</th>\n",
       "      <td>392</td>\n",
       "      <td>3170</td>\n",
       "      <td>AA3R_MOUSE</td>\n",
       "      <td>Q61618; Q9R202;</td>\n",
       "      <td>MEADNTTETDWLNITYITMEAAIGLCAVVGNMLVIWVVKLNPTLRT...</td>\n",
       "      <td>GO:0004930;GO:0004872;GO:0003674;GO:0004871;GO...</td>\n",
       "      <td>['IPR000466', 'IPR001634', 'IPR000276', 'IPR01...</td>\n",
       "      <td>10090</td>\n",
       "    </tr>\n",
       "    <tr>\n",
       "      <th>3</th>\n",
       "      <td>462</td>\n",
       "      <td>3586</td>\n",
       "      <td>AARE_ARATH</td>\n",
       "      <td>Q84LM4; O23313;</td>\n",
       "      <td>MDSSGTDSAKELHVGLDPTTEEEYATQSKLLQEFINIPSIDKAWIF...</td>\n",
       "      <td>GO:0008233;GO:0017171;GO:0016787;GO:0008236;GO...</td>\n",
       "      <td>['IPR011042', 'IPR029058', 'IPR011659', 'IPR00...</td>\n",
       "      <td>3702</td>\n",
       "    </tr>\n",
       "    <tr>\n",
       "      <th>4</th>\n",
       "      <td>716</td>\n",
       "      <td>4346</td>\n",
       "      <td>ABHD2_HUMAN</td>\n",
       "      <td>P08910; Q53G48; Q53GU0; Q5FVD9; Q8TC79;</td>\n",
       "      <td>MNAMLETPELPAVFDGVKLAAVAAVLYVIVRCLNLKSPTAPPDLYF...</td>\n",
       "      <td>GO:0005488;GO:0016787;GO:0016298;GO:0052689;GO...</td>\n",
       "      <td>['IPR029058', 'IPR000073', 'IPR000952', 'IPR01...</td>\n",
       "      <td>9606</td>\n",
       "    </tr>\n",
       "    <tr>\n",
       "      <th>...</th>\n",
       "      <td>...</td>\n",
       "      <td>...</td>\n",
       "      <td>...</td>\n",
       "      <td>...</td>\n",
       "      <td>...</td>\n",
       "      <td>...</td>\n",
       "      <td>...</td>\n",
       "      <td>...</td>\n",
       "    </tr>\n",
       "    <tr>\n",
       "      <th>674</th>\n",
       "      <td>55712</td>\n",
       "      <td>551992</td>\n",
       "      <td>ZN683_HUMAN</td>\n",
       "      <td>Q8IZ20; Q5T141; Q5T146; Q5T147; Q5T149; Q8NEN4;</td>\n",
       "      <td>MKEESAAQLGCCHRPMALGGTGGSLSPSLDFQLFRGDQVFSACRPL...</td>\n",
       "      <td>GO:0044212;GO:0001191;GO:0005515;GO:0005488;GO...</td>\n",
       "      <td>['IPR007087', 'IPR015880', 'IPR013087']</td>\n",
       "      <td>9606</td>\n",
       "    </tr>\n",
       "    <tr>\n",
       "      <th>675</th>\n",
       "      <td>55713</td>\n",
       "      <td>551993</td>\n",
       "      <td>ZN683_MOUSE</td>\n",
       "      <td>I7HJS4;</td>\n",
       "      <td>MKALDGLRESLYPSLDFQLYQDDQVCSADASQPLADSVGAHDLAWS...</td>\n",
       "      <td>GO:0044877;GO:0005488;GO:0003674;GO:0003682</td>\n",
       "      <td>['IPR007087', 'IPR015880', 'IPR013087']</td>\n",
       "      <td>10090</td>\n",
       "    </tr>\n",
       "    <tr>\n",
       "      <th>676</th>\n",
       "      <td>55718</td>\n",
       "      <td>552022</td>\n",
       "      <td>ZN704_MOUSE</td>\n",
       "      <td>Q9ERQ3; Q7TQL8; Q8BJW9;</td>\n",
       "      <td>MQARRLAKRPSLGSRRGGAAPAPAPEAAALGLPPPGPSPAAAPGSW...</td>\n",
       "      <td>GO:0035326;GO:0003690;GO:0044212;GO:0003676;GO...</td>\n",
       "      <td>['IPR007087']</td>\n",
       "      <td>10090</td>\n",
       "    </tr>\n",
       "    <tr>\n",
       "      <th>677</th>\n",
       "      <td>55732</td>\n",
       "      <td>552113</td>\n",
       "      <td>ZN809_MOUSE</td>\n",
       "      <td>G3X9G7; Q4KL58; Q8BIJ2;</td>\n",
       "      <td>MGLVSFEDVAVDFTLEEWQDLDAAQRTLYRDVMLETYSSLVFLDPC...</td>\n",
       "      <td>GO:0004527;GO:0016779;GO:0016772;GO:0016740;GO...</td>\n",
       "      <td>['IPR001909', 'IPR007087', 'IPR015880', 'IPR01...</td>\n",
       "      <td>10090</td>\n",
       "    </tr>\n",
       "    <tr>\n",
       "      <th>678</th>\n",
       "      <td>55796</td>\n",
       "      <td>552531</td>\n",
       "      <td>ZOP1_ARATH</td>\n",
       "      <td>Q7XA66; Q94AV7; Q9FX87;</td>\n",
       "      <td>MTEYWVSQGNKWCEFCKIWIQNNPTSIRNHDLGKRHRECVDKKLTD...</td>\n",
       "      <td>GO:0003690;GO:0003676;GO:0005488;GO:0003723;GO...</td>\n",
       "      <td>['IPR000690', 'IPR003604', 'IPR013085']</td>\n",
       "      <td>3702</td>\n",
       "    </tr>\n",
       "  </tbody>\n",
       "</table>\n",
       "<p>679 rows × 8 columns</p>\n",
       "</div>"
      ],
      "text/plain": [
       "     level_0   index        Entry  \\\n",
       "0        181    1028  3BHS7_MOUSE   \n",
       "1        183    1043   3BP1_MOUSE   \n",
       "2        392    3170   AA3R_MOUSE   \n",
       "3        462    3586   AARE_ARATH   \n",
       "4        716    4346  ABHD2_HUMAN   \n",
       "..       ...     ...          ...   \n",
       "674    55712  551992  ZN683_HUMAN   \n",
       "675    55713  551993  ZN683_MOUSE   \n",
       "676    55718  552022  ZN704_MOUSE   \n",
       "677    55732  552113  ZN809_MOUSE   \n",
       "678    55796  552531   ZOP1_ARATH   \n",
       "\n",
       "                                          accessions  \\\n",
       "0                                    Q9EQC1; A2RTR5;   \n",
       "1                            P55194; E9QMQ2; Q99KK8;   \n",
       "2                                    Q61618; Q9R202;   \n",
       "3                                    Q84LM4; O23313;   \n",
       "4            P08910; Q53G48; Q53GU0; Q5FVD9; Q8TC79;   \n",
       "..                                               ...   \n",
       "674  Q8IZ20; Q5T141; Q5T146; Q5T147; Q5T149; Q8NEN4;   \n",
       "675                                          I7HJS4;   \n",
       "676                          Q9ERQ3; Q7TQL8; Q8BJW9;   \n",
       "677                          G3X9G7; Q4KL58; Q8BIJ2;   \n",
       "678                          Q7XA66; Q94AV7; Q9FX87;   \n",
       "\n",
       "                                              Sequence  \\\n",
       "0    MADSAQVPTLVYLVTGGCGFLGEHIVRMLLEREPRLRELRVFDLHL...   \n",
       "1    MAESFKELDPDSSMGKALEMTCAIQNQLARILAEFEMTLERDVLQP...   \n",
       "2    MEADNTTETDWLNITYITMEAAIGLCAVVGNMLVIWVVKLNPTLRT...   \n",
       "3    MDSSGTDSAKELHVGLDPTTEEEYATQSKLLQEFINIPSIDKAWIF...   \n",
       "4    MNAMLETPELPAVFDGVKLAAVAAVLYVIVRCLNLKSPTAPPDLYF...   \n",
       "..                                                 ...   \n",
       "674  MKEESAAQLGCCHRPMALGGTGGSLSPSLDFQLFRGDQVFSACRPL...   \n",
       "675  MKALDGLRESLYPSLDFQLYQDDQVCSADASQPLADSVGAHDLAWS...   \n",
       "676  MQARRLAKRPSLGSRRGGAAPAPAPEAAALGLPPPGPSPAAAPGSW...   \n",
       "677  MGLVSFEDVAVDFTLEEWQDLDAAQRTLYRDVMLETYSSLVFLDPC...   \n",
       "678  MTEYWVSQGNKWCEFCKIWIQNNPTSIRNHDLGKRHRECVDKKLTD...   \n",
       "\n",
       "                    Gene Ontology (molecular function)  \\\n",
       "0    GO:0016491;GO:0003824;GO:0003674;GO:0016616;GO...   \n",
       "1    GO:0017124;GO:0005515;GO:0005488;GO:0003674;GO...   \n",
       "2    GO:0004930;GO:0004872;GO:0003674;GO:0004871;GO...   \n",
       "3    GO:0008233;GO:0017171;GO:0016787;GO:0008236;GO...   \n",
       "4    GO:0005488;GO:0016787;GO:0016298;GO:0052689;GO...   \n",
       "..                                                 ...   \n",
       "674  GO:0044212;GO:0001191;GO:0005515;GO:0005488;GO...   \n",
       "675        GO:0044877;GO:0005488;GO:0003674;GO:0003682   \n",
       "676  GO:0035326;GO:0003690;GO:0044212;GO:0003676;GO...   \n",
       "677  GO:0004527;GO:0016779;GO:0016772;GO:0016740;GO...   \n",
       "678  GO:0003690;GO:0003676;GO:0005488;GO:0003723;GO...   \n",
       "\n",
       "                                             interpros   orgs  \n",
       "0                           ['IPR002225', 'IPR016040']  10090  \n",
       "1    ['IPR027267', 'IPR004148', 'IPR008936', 'IPR00...  10090  \n",
       "2    ['IPR000466', 'IPR001634', 'IPR000276', 'IPR01...  10090  \n",
       "3    ['IPR011042', 'IPR029058', 'IPR011659', 'IPR00...   3702  \n",
       "4    ['IPR029058', 'IPR000073', 'IPR000952', 'IPR01...   9606  \n",
       "..                                                 ...    ...  \n",
       "674            ['IPR007087', 'IPR015880', 'IPR013087']   9606  \n",
       "675            ['IPR007087', 'IPR015880', 'IPR013087']  10090  \n",
       "676                                      ['IPR007087']  10090  \n",
       "677  ['IPR001909', 'IPR007087', 'IPR015880', 'IPR01...  10090  \n",
       "678            ['IPR000690', 'IPR003604', 'IPR013085']   3702  \n",
       "\n",
       "[679 rows x 8 columns]"
      ]
     },
     "execution_count": 24,
     "metadata": {},
     "output_type": "execute_result"
    }
   ],
   "source": [
    "test_df = pd.read_csv('golabeler_test/mf_df.csv')\n",
    "test_df"
   ]
  },
  {
   "cell_type": "code",
   "execution_count": 25,
   "id": "37914add",
   "metadata": {},
   "outputs": [
    {
     "data": {
      "application/vnd.jupyter.widget-view+json": {
       "model_id": "3da0da256d824e3c8207987b1f245a95",
       "version_major": 2,
       "version_minor": 0
      },
      "text/plain": [
       "0it [00:00, ?it/s]"
      ]
     },
     "metadata": {},
     "output_type": "display_data"
    },
    {
     "name": "stdout",
     "output_type": "stream",
     "text": [
      "9913\n"
     ]
    }
   ],
   "source": [
    "testing_data = get_training_data(test_df,gap=30)\n",
    "print(len(testing_data))"
   ]
  },
  {
   "cell_type": "code",
   "execution_count": 26,
   "id": "bedb4917",
   "metadata": {},
   "outputs": [
    {
     "name": "stdout",
     "output_type": "stream",
     "text": [
      "Preparing from scratch...\n"
     ]
    },
    {
     "data": {
      "application/vnd.jupyter.widget-view+json": {
       "model_id": "31aa9d501e1f4b29aea92f6fb2afb644",
       "version_major": 2,
       "version_minor": 0
      },
      "text/plain": [
       "  0%|          | 0/9913 [00:00<?, ?it/s]"
      ]
     },
     "metadata": {},
     "output_type": "display_data"
    },
    {
     "name": "stdout",
     "output_type": "stream",
     "text": [
      "9913\n"
     ]
    }
   ],
   "source": [
    "print('Preparing from scratch...')\n",
    "testing_data_ngrams = []\n",
    "\n",
    "for i in tqdm.tqdm(range(len(testing_data))):\n",
    "    testing_data_ngrams.append([testing_data[i][0],get_ngrams(testing_data[i][1],n=4),testing_data[i][2]])\n",
    "    \n",
    "print(len(testing_data_ngrams))"
   ]
  },
  {
   "cell_type": "code",
   "execution_count": 27,
   "id": "da1d8eea",
   "metadata": {},
   "outputs": [
    {
     "name": "stdout",
     "output_type": "stream",
     "text": [
      "Preparing from scratch...\n"
     ]
    },
    {
     "data": {
      "application/vnd.jupyter.widget-view+json": {
       "model_id": "8e46f7130ba345b6b1c975c213cd1c78",
       "version_major": 2,
       "version_minor": 0
      },
      "text/plain": [
       "  0%|          | 0/9913 [00:00<?, ?it/s]"
      ]
     },
     "metadata": {},
     "output_type": "display_data"
    },
    {
     "name": "stdout",
     "output_type": "stream",
     "text": [
      "9913\n"
     ]
    }
   ],
   "source": [
    "print('Preparing from scratch...')\n",
    "testing_data_skip_grams = []\n",
    "\n",
    "for i in tqdm.tqdm(range(len(testing_data))):\n",
    "    testing_data_skip_grams.append([testing_data[i][0],get_skip_grams(testing_data[i][1],n=4),testing_data[i][2]])\n",
    "    \n",
    "print(len(testing_data_skip_grams))"
   ]
  },
  {
   "cell_type": "code",
   "execution_count": 28,
   "id": "5eac38b0",
   "metadata": {},
   "outputs": [],
   "source": [
    "#Considering ngrams and skip grams\n",
    "X_test_ng = [' '.join(sample[1]) for sample in testing_data_ngrams]\n",
    "X_test_sg = [' '.join(sample[1]) for sample in testing_data_skip_grams]\n",
    "y_test = [sample[2] for sample in testing_data]\n",
    "\n",
    "del testing_data_ngrams\n",
    "del testing_data_skip_grams"
   ]
  },
  {
   "cell_type": "code",
   "execution_count": 29,
   "id": "2079b237",
   "metadata": {},
   "outputs": [
    {
     "name": "stdout",
     "output_type": "stream",
     "text": [
      "9913 9913\n"
     ]
    }
   ],
   "source": [
    "print(len(X_test_ng),len(X_test_sg))"
   ]
  },
  {
   "cell_type": "code",
   "execution_count": 31,
   "id": "66234f34",
   "metadata": {},
   "outputs": [],
   "source": [
    "from utils import FUNC_DICT, Ontology, NAMESPACES\n",
    "NUM_CLASSES = 652\n",
    "\n",
    "train_df = pd.read_pickle('data_golabeler/train_data.pkl')\n",
    "test_df = pd.read_pickle('data_golabeler/test_data.pkl')\n",
    "annotations = train_df['annotations'].values\n",
    "annotations = list(map(lambda x: set(x), annotations))\n",
    "test_annotations = test_df['annotations'].values\n",
    "test_annotations = list(map(lambda x: set(x), test_annotations))\n",
    "\n",
    "go_rels = Ontology('data_golabeler/go.obo', with_rels=True)\n",
    "go_rels.calculate_ic(annotations + test_annotations)"
   ]
  },
  {
   "cell_type": "code",
   "execution_count": 32,
   "id": "08fb6188",
   "metadata": {},
   "outputs": [],
   "source": [
    "def evaluate_annotations(real_annots, pred_annots):\n",
    "    total = 0\n",
    "    p = 0.0\n",
    "    r = 0.0\n",
    "    p_total= 0\n",
    "    fps = []\n",
    "    fns = []\n",
    "    ru = 0.0\n",
    "    mi = 0.0\n",
    "    for i in range(len(real_annots)):\n",
    "        if len(real_annots[i]) == 0:\n",
    "            continue\n",
    "        tp = set(real_annots[i]).intersection(set(pred_annots[i]))\n",
    "        fp = set(pred_annots[i]) - tp\n",
    "        fn = set(real_annots[i]) - tp\n",
    "        for go_id in fp:\n",
    "            mi += go_rels.get_ic(go_id)\n",
    "        for go_id in fn:\n",
    "            ru += go_rels.get_ic(go_id)\n",
    "        fps.append(fp)\n",
    "        fns.append(fn)\n",
    "        tpn = len(tp)\n",
    "        fpn = len(fp)\n",
    "        fnn = len(fn)\n",
    "        total += 1\n",
    "        recall = tpn / (1.0 * (tpn + fnn))\n",
    "        r += recall\n",
    "        if len(pred_annots[i]) > 0:\n",
    "            p_total += 1\n",
    "            precision = tpn / (1.0 * (tpn + fpn))\n",
    "            p += precision\n",
    "    ru /= total\n",
    "    mi /= total\n",
    "    r /= total\n",
    "    if p_total > 0:\n",
    "        p /= p_total\n",
    "    f = 0.0\n",
    "    if p + r > 0:\n",
    "        f = 2 * p * r / (p + r)\n",
    "    s = math.sqrt(ru * ru + mi * mi)\n",
    "    return f, p, r, fps, fns, s, ru, mi"
   ]
  },
  {
   "cell_type": "code",
   "execution_count": 33,
   "id": "3d593615",
   "metadata": {},
   "outputs": [],
   "source": [
    "def compute_metrics(predictions):\n",
    "    final_predictions = []\n",
    "    actual_y_test = []\n",
    "\n",
    "    current_entry = ''\n",
    "    counter = 0\n",
    "    total_counts = 0\n",
    "    start_index = 0\n",
    "\n",
    "    if len(predictions) == len(testing_data):\n",
    "        temp = np.zeros(NUM_CLASSES)\n",
    "        for i in range(len(predictions)):\n",
    "            if current_entry != testing_data[start_index+i][0]:\n",
    "                #compute prev\n",
    "                if i!=0:\n",
    "                    temp /= counter\n",
    "                    final_predictions.append(temp)\n",
    "\n",
    "                #reset\n",
    "                total_counts += counter\n",
    "                counter = 1\n",
    "                temp = np.zeros(NUM_CLASSES)\n",
    "\n",
    "                #init new\n",
    "                current_entry = testing_data[start_index+i][0]\n",
    "                temp += np.array(predictions[i])\n",
    "                actual_y_test.append(testing_data[start_index+i][2])\n",
    "            else:\n",
    "                temp += np.array(predictions[i])\n",
    "                counter += 1\n",
    "\n",
    "        total_counts += counter\n",
    "        temp /= counter\n",
    "        final_predictions.append(temp)\n",
    "\n",
    "    else:\n",
    "        print('Lengths of predictions dont match with test data')\n",
    "    \n",
    "    final_predictions = np.array(final_predictions, dtype=float)\n",
    "    actual_y_test = np.array(actual_y_test, dtype=float)\n",
    "    \n",
    "    #Computing maximal F1-score\n",
    "    fmax = 0.0\n",
    "    tmax = 0.0\n",
    "    precisions = []\n",
    "    recalls = []\n",
    "    smin = 1000000.0\n",
    "    rus = []\n",
    "    mis = []\n",
    "    \n",
    "    for t in tqdm.tqdm(range(0, 101)):\n",
    "        \n",
    "        threshold = t / 100.0\n",
    "        pred_annots = []\n",
    "        real_annots = []\n",
    "    \n",
    "        for i in range(len(final_predictions)):\n",
    "            new_preds = []\n",
    "            new_ys = []\n",
    "            for j in range(NUM_CLASSES):\n",
    "                if final_predictions[i][j]>=threshold:\n",
    "                    new_preds.append(go_terms_bp[j]) #GO_TERMS_BP\n",
    "                if actual_y_test[i][j]==1:\n",
    "                    new_ys.append(go_terms_bp[j])\n",
    "            pred_annots.append(new_preds)\n",
    "            real_annots.append(new_ys)\n",
    "    \n",
    "        fscore, prec, rec, fps, fns, s, ru, mi = evaluate_annotations(real_annots, pred_annots)\n",
    "        avg_fp = sum(map(lambda x: len(x), fps)) / len(fps)\n",
    "        avg_ic = sum(map(lambda x: sum(map(lambda go_id: go_rels.get_ic(go_id), x)), fps)) / len(fps)\n",
    "        print(f'{avg_fp} {avg_ic}')\n",
    "        precisions.append(prec)\n",
    "        recalls.append(rec)\n",
    "        print(f'Fscore: {fscore}, Precision: {prec}, Recall: {rec} S: {s}, RU: {ru}, MI: {mi} threshold: {threshold}')\n",
    "        if fmax < fscore:\n",
    "            fmax = fscore\n",
    "            tmax = threshold\n",
    "        if smin > s:\n",
    "            smin = s\n",
    "    print('\\nFinal Results (Maximal F1-score):')\n",
    "    print(f'Fmax: {fmax:0.3f}, Smin: {smin:0.3f}, threshold: {tmax}')\n",
    "    precisions = np.array(precisions)\n",
    "    recalls = np.array(recalls)\n",
    "    sorted_index = np.argsort(recalls)\n",
    "    recalls = recalls[sorted_index]\n",
    "    precisions = precisions[sorted_index]\n",
    "    aupr = np.trapz(precisions, recalls)\n",
    "    print(f'AUPR: {aupr:0.3f}')\n",
    "        \n",
    "    \n",
    "#     rec = recall(actual_y_test,final_predictions)\n",
    "#     prec = precision(actual_y_test,final_predictions)\n",
    "#     f1 = f1_score(actual_y_test,final_predictions)\n",
    "    \n",
    "#     return rec,prec,f1"
   ]
  },
  {
   "cell_type": "code",
   "execution_count": 34,
   "id": "2f8a951e",
   "metadata": {},
   "outputs": [
    {
     "name": "stdout",
     "output_type": "stream",
     "text": [
      "Tokenizing...\n",
      "Shuffling...\n"
     ]
    },
    {
     "name": "stderr",
     "output_type": "stream",
     "text": [
      "2023-02-01 19:05:32.659168: I tensorflow/core/common_runtime/gpu/gpu_device.cc:1616] Created device /job:localhost/replica:0/task:0/device:GPU:0 with 30971 MB memory:  -> device: 0, name: Tesla V100-DGXS-32GB, pci bus id: 0000:0f:00.0, compute capability: 7.0\n"
     ]
    },
    {
     "name": "stdout",
     "output_type": "stream",
     "text": [
      "Training...\n"
     ]
    },
    {
     "name": "stderr",
     "output_type": "stream",
     "text": [
      "2023-02-01 19:05:36.180172: W tensorflow/core/framework/cpu_allocator_impl.cc:82] Allocation of 2399198304 exceeds 10% of free system memory.\n",
      "2023-02-01 19:05:37.917801: W tensorflow/core/framework/cpu_allocator_impl.cc:82] Allocation of 2399198304 exceeds 10% of free system memory.\n"
     ]
    },
    {
     "name": "stdout",
     "output_type": "stream",
     "text": [
      "Epoch 1/10\n"
     ]
    },
    {
     "name": "stderr",
     "output_type": "stream",
     "text": [
      "2023-02-01 19:05:48.162670: I tensorflow/stream_executor/cuda/cuda_dnn.cc:384] Loaded cuDNN version 8100\n"
     ]
    },
    {
     "name": "stdout",
     "output_type": "stream",
     "text": [
      "14375/14375 [==============================] - 578s 39ms/step - loss: 0.2135 - recall: 0.4766 - precision: 0.3897 - f1_score: 0.4267 - val_loss: 0.1866 - val_recall: 0.5235 - val_precision: 0.4164 - val_f1_score: 0.4626\n",
      "Epoch 2/10\n",
      "14375/14375 [==============================] - 563s 39ms/step - loss: 0.1623 - recall: 0.5784 - precision: 0.4271 - f1_score: 0.4900 - val_loss: 0.1543 - val_recall: 0.6035 - val_precision: 0.4349 - val_f1_score: 0.5046\n",
      "Epoch 3/10\n",
      "14375/14375 [==============================] - 572s 40ms/step - loss: 0.1303 - recall: 0.6548 - precision: 0.4794 - f1_score: 0.5524 - val_loss: 0.1344 - val_recall: 0.6448 - val_precision: 0.4994 - val_f1_score: 0.5618\n",
      "Epoch 4/10\n",
      "14375/14375 [==============================] - 575s 40ms/step - loss: 0.1064 - recall: 0.7221 - precision: 0.5349 - f1_score: 0.6135 - val_loss: 0.1197 - val_recall: 0.7004 - val_precision: 0.5279 - val_f1_score: 0.6010\n",
      "Epoch 5/10\n",
      "14375/14375 [==============================] - 575s 40ms/step - loss: 0.0887 - recall: 0.7746 - precision: 0.5778 - f1_score: 0.6608 - val_loss: 0.1097 - val_recall: 0.7302 - val_precision: 0.5544 - val_f1_score: 0.6293\n",
      "Epoch 6/10\n",
      "14375/14375 [==============================] - 576s 40ms/step - loss: 0.0756 - recall: 0.8140 - precision: 0.6117 - f1_score: 0.6976 - val_loss: 0.1028 - val_recall: 0.7582 - val_precision: 0.5782 - val_f1_score: 0.6551\n",
      "Epoch 7/10\n",
      "14375/14375 [==============================] - 576s 40ms/step - loss: 0.0656 - recall: 0.8447 - precision: 0.6406 - f1_score: 0.7278 - val_loss: 0.0997 - val_recall: 0.7614 - val_precision: 0.6232 - val_f1_score: 0.6844\n",
      "Epoch 8/10\n",
      "14375/14375 [==============================] - 575s 40ms/step - loss: 0.0577 - recall: 0.8695 - precision: 0.6660 - f1_score: 0.7535 - val_loss: 0.1022 - val_recall: 0.7606 - val_precision: 0.6618 - val_f1_score: 0.7068\n",
      "Epoch 9/10\n",
      "14375/14375 [==============================] - 575s 40ms/step - loss: 0.0515 - recall: 0.8881 - precision: 0.6883 - f1_score: 0.7748 - val_loss: 0.0959 - val_recall: 0.7850 - val_precision: 0.6609 - val_f1_score: 0.7167\n",
      "Epoch 10/10\n",
      "14375/14375 [==============================] - 575s 40ms/step - loss: 0.0465 - recall: 0.9026 - precision: 0.7081 - f1_score: 0.7930 - val_loss: 0.0935 - val_recall: 0.7946 - val_precision: 0.6765 - val_f1_score: 0.7299\n",
      "Evaluating model...\n",
      "310/310 [==============================] - 6s 13ms/step\n",
      "Computing Metrics...\n",
      "\n"
     ]
    },
    {
     "data": {
      "application/vnd.jupyter.widget-view+json": {
       "model_id": "af6546a770964e9e898a6b14dde065d0",
       "version_major": 2,
       "version_minor": 0
      },
      "text/plain": [
       "  0%|          | 0/101 [00:00<?, ?it/s]"
      ]
     },
     "metadata": {},
     "output_type": "display_data"
    },
    {
     "name": "stdout",
     "output_type": "stream",
     "text": [
      "642.5905743740796 1234.5234915187455\n",
      "Fscore: 0.028452650540974435, Precision: 0.014431634395583539, Recall: 1.0 S: 1234.5234915186497, RU: 0.0, MI: 1234.5234915186497 threshold: 0.0\n",
      "110.61855670103093 225.58672493776353\n",
      "Fscore: 0.13713553038631346, Precision: 0.07456892382755981, Recall: 0.8520062160001708 S: 225.60000217480157, RU: 2.447552476108176, MI: 225.58672493776572 threshold: 0.01\n",
      "76.71281296023564 142.5605632065176\n",
      "Fscore: 0.17830285724055342, Precision: 0.1001461502414523, Recall: 0.8120416935023513 S: 142.59423594455382, RU: 3.0987001874582916, MI: 142.560563206517 threshold: 0.02\n",
      "60.44182621502209 106.2774415177051\n",
      "Fscore: 0.2100198084787348, Precision: 0.12110049777414421, Recall: 0.790322100121274 S: 106.33400432789908, RU: 3.4678380667629765, MI: 106.27744151770106 threshold: 0.03\n",
      "50.34756995581738 85.24928994671515\n",
      "Fscore: 0.23642561986338265, Precision: 0.13941906792714148, Recall: 0.7771818951396704 S: 85.32871997514599, RU: 3.6808988275139396, MI: 85.24928994671149 threshold: 0.04\n",
      "43.40500736377025 71.47556524081763\n",
      "Fscore: 0.2590346581938086, Precision: 0.15592611279063545, Recall: 0.7647127523672973 S: 71.58152388163654, RU: 3.8933449273363996, MI: 71.4755652408156 threshold: 0.05\n",
      "37.889543446244474 61.35201726563923\n",
      "Fscore: 0.281399427840445, Precision: 0.1730429120537585, Recall: 0.7527730597748482 S: 61.48832133656106, RU: 4.091899097612501, MI: 61.35201726563804 threshold: 0.06\n",
      "33.511045655375554 53.54015422412779\n",
      "Fscore: 0.3020741462932979, Precision: 0.18972094913896417, Recall: 0.7407452365488363 S: 53.707444113995095, RU: 4.235733574549917, MI: 53.540154224127306 threshold: 0.07\n",
      "30.007363770250368 46.99463031947772\n",
      "Fscore: 0.32052881182196996, Precision: 0.20528470073913033, Recall: 0.7307777688297828 S: 47.19997708680736, RU: 4.398017522789378, MI: 46.99463031947775 threshold: 0.08\n",
      "27.05743740795287 41.622796577901674\n",
      "Fscore: 0.33729950298270145, Precision: 0.220151638624686, Recall: 0.720915702532287 S: 41.87235334791534, RU: 4.564732185716388, MI: 41.62279657790142 threshold: 0.09\n",
      "24.567010309278352 37.34716203811714\n",
      "Fscore: 0.35336708130875955, Precision: 0.23497330204044328, Recall: 0.7122334004558571 S: 37.64204035628547, RU: 4.70241319780477, MI: 37.34716203811657 threshold: 0.1\n",
      "22.399116347569954 33.53670268191997\n",
      "Fscore: 0.3684839254888092, Precision: 0.24957902710125582, Recall: 0.7037801631525639 S: 33.88285901868675, RU: 4.830911767435472, MI: 33.53670268191934 threshold: 0.11\n",
      "20.484536082474225 30.34268224001202\n",
      "Fscore: 0.38300226406854565, Precision: 0.264087053239237, Recall: 0.6967324904247472 S: 30.73861423553863, RU: 4.917727076908421, MI: 30.342682240011346 threshold: 0.12\n",
      "18.830633284241532 27.67879532376789\n",
      "Fscore: 0.3975913334754496, Precision: 0.27917872701517393, Recall: 0.6904380224441485 S: 28.134992911171903, RU: 5.045999954093149, MI: 27.678795323766984 threshold: 0.13\n",
      "17.36966126656848 25.257429028135988\n",
      "Fscore: 0.4099760882666762, Precision: 0.2929991563070163, Recall: 0.6824288717721287 S: 25.777377231541234, RU: 5.151257693602892, MI: 25.257429028135018 threshold: 0.14\n",
      "16.1060382916053 23.29659151181081\n",
      "Fscore: 0.4211470215953823, Precision: 0.3058213423644887, Recall: 0.6761085546959741 S: 23.873847652276616, RU: 5.21818221759108, MI: 23.296591511809833 threshold: 0.15\n",
      "15.0 21.44083364448716\n",
      "Fscore: 0.4306126234590762, Precision: 0.3175954757313806, Recall: 0.6685000426876093 S: 22.086890040599254, RU: 5.302958070264848, MI: 21.440833644486297 threshold: 0.16\n",
      "13.985272459499264 19.71688337174418\n",
      "Fscore: 0.44169612963922417, Precision: 0.3309860708293433, Recall: 0.6636912712805879 S: 20.440613072395262, RU: 5.3910270710172234, MI: 19.716883371743506 threshold: 0.17\n",
      "13.054491899852724 18.27585565270076\n",
      "Fscore: 0.45006791622989534, Precision: 0.34259129407765554, Recall: 0.6558048827039872 S: 19.082044700232906, RU: 5.487944068898041, MI: 18.27585565270019 threshold: 0.18\n",
      "12.23122238586156 16.945829064167636\n",
      "Fscore: 0.45902378809659505, Precision: 0.35495701207749303, Recall: 0.6494222926130108 S: 17.839550509774373, RU: 5.575700827592948, MI: 16.9458290641671 threshold: 0.19\n",
      "11.46539027982327 15.762759680433849\n",
      "Fscore: 0.46754917384025824, Precision: 0.36746144425516447, Recall: 0.6425698759941787 S: 16.746385099601802, RU: 5.65480513908896, MI: 15.762759680433447 threshold: 0.2\n",
      "10.820324005891017 14.745915905062908\n",
      "Fscore: 0.47643339256417744, Precision: 0.380076436536371, Recall: 0.6382399466125492 S: 15.807280718373548, RU: 5.694566518207137, MI: 14.745915905062608 threshold: 0.21\n",
      "10.244477172312223 13.78882877013558\n",
      "Fscore: 0.48355656661885754, Precision: 0.39113497938347636, Recall: 0.6331684239367555 S: 14.936748572219285, RU: 5.742356577014403, MI: 13.788828770135419 threshold: 0.22\n",
      "9.655375552282768 12.959875738702245\n",
      "Fscore: 0.4901623878244601, Precision: 0.401798992280138, Recall: 0.6283483928837026 S: 14.200250478796374, RU: 5.80419972933008, MI: 12.959875738702175 threshold: 0.23\n",
      "9.163475699558173 12.241346176491245\n",
      "Fscore: 0.49805218788323746, Precision: 0.414321154783566, Recall: 0.6241975911899048 S: 13.576165502607962, RU: 5.8704099977347886, MI: 12.24134617649129 threshold: 0.24\n",
      "8.695139911634756 11.566364316618765\n",
      "Fscore: 0.503181638471583, Precision: 0.42482895091999745, Recall: 0.6169719262031763 S: 13.009942125794572, RU: 5.95632526074347, MI: 11.566364316618833 threshold: 0.25\n",
      "8.278350515463918 10.860516386916542\n",
      "Fscore: 0.5093982483015594, Precision: 0.43618333792871467, Recall: 0.6121497392359664 S: 12.417854363899869, RU: 6.020987528017544, MI: 10.86051638691661 threshold: 0.26\n",
      "7.865979381443299 10.22961450381146\n",
      "Fscore: 0.513618070615789, Precision: 0.44561687338965006, Recall: 0.6061106389161836 S: 11.902391302787727, RU: 6.084562911835672, MI: 10.229614503811508 threshold: 0.27\n",
      "7.475699558173785 9.60496077312307\n",
      "Fscore: 0.5188003747831592, Precision: 0.4560081519186166, Recall: 0.6016470408222466 S: 11.39030590643265, RU: 6.122401260035229, MI: 9.604960773123103 threshold: 0.28\n",
      "7.153166421207659 9.15643391583163\n",
      "Fscore: 0.5221675534476847, Precision: 0.46439936211366273, Recall: 0.5963494590752064 S: 11.047250794234255, RU: 6.1807336179224475, MI: 9.15643391583168 threshold: 0.29\n",
      "6.774668630338733 8.608049981225415\n",
      "Fscore: 0.527488650138702, Precision: 0.47541681356301774, Recall: 0.5923702579967127 S: 10.62521807286146, RU: 6.228702482587059, MI: 8.608049981225458 threshold: 0.3\n",
      "6.434462444771723 8.090798255457859\n",
      "Fscore: 0.5326446115346228, Precision: 0.48725710152237073, Recall: 0.5873562574670319 S: 10.248325073304779, RU: 6.290242475263348, MI: 8.090798255457877 threshold: 0.31\n",
      "6.147275405007364 7.682307138200554\n",
      "Fscore: 0.5362081116500067, Precision: 0.49569642784951684, Recall: 0.5839309181685028 S: 9.972984906028334, RU: 6.359448480035178, MI: 7.6823071382005566 threshold: 0.32\n",
      "5.885125184094257 7.320484118426236\n",
      "Fscore: 0.5410089655645799, Precision: 0.5060270073907719, Recall: 0.5811867639227112 S: 9.720007488708506, RU: 6.394455242819256, MI: 7.320484118426237 threshold: 0.33\n",
      "5.652430044182622 6.959278081749158\n",
      "Fscore: 0.5432639705811558, Precision: 0.5135304937718823, Recall: 0.5766522018108597 S: 9.489484592532914, RU: 6.451260838999265, MI: 6.959278081749144 threshold: 0.34\n",
      "5.390279823269514 6.584318758849767\n",
      "Fscore: 0.5440791551831617, Precision: 0.5208224063118254, Recall: 0.5695099944884991 S: 9.281585012009081, RU: 6.541755637213213, MI: 6.584318758849754 threshold: 0.35\n",
      "5.172312223858616 6.281378066912385\n",
      "Fscore: 0.5470560123943179, Precision: 0.5295304549003187, Recall: 0.5657813442148182 S: 9.098993135396583, RU: 6.583005822457286, MI: 6.281378066912358 threshold: 0.36\n",
      "4.9617083946980856 5.962642697973077\n",
      "Fscore: 0.5493754622403427, Precision: 0.5375722640903333, Recall: 0.561708609737293 S: 8.901153855481212, RU: 6.608890377004064, MI: 5.962642697973031 threshold: 0.37\n",
      "4.749631811487482 5.676176383123761\n",
      "Fscore: 0.551355778530282, Precision: 0.5458969732948356, Recall: 0.5569248593027265 S: 8.755055284028792, RU: 6.6657343702002505, MI: 5.676176383123726 threshold: 0.38\n",
      "4.556701030927835 5.402496953310689\n",
      "Fscore: 0.5543669238324196, Precision: 0.5560894959062841, Recall: 0.5526549906626591 S: 8.617473353865387, RU: 6.7137078931130905, MI: 5.40249695331066 threshold: 0.39\n"
     ]
    },
    {
     "name": "stdout",
     "output_type": "stream",
     "text": [
      "4.394698085419735 5.193631442791221\n",
      "Fscore: 0.5564413008186877, Precision: 0.565277908050197, Recall: 0.5478767146745591 S: 8.53241857834973, RU: 6.76966463221172, MI: 5.193631442791198 threshold: 0.4\n",
      "4.2341678939617085 4.959574650128183\n",
      "Fscore: 0.5586058172276288, Precision: 0.573900148332341, Recall: 0.5441055076967917 S: 8.427043000454603, RU: 6.813051667301293, MI: 4.959574650128171 threshold: 0.41\n",
      "4.045655375552283 4.7141736355091615\n",
      "Fscore: 0.5618235486187743, Precision: 0.5846879697081014, Recall: 0.5406800713020948 S: 8.321727151756361, RU: 6.8576752418403055, MI: 4.714173635509149 threshold: 0.42\n",
      "3.898379970544919 4.522282169834803\n",
      "Fscore: 0.5630947307848053, Precision: 0.592541186176711, Recall: 0.5364364135396984 S: 8.261255338852237, RU: 6.913559412495772, MI: 4.522282169834796 threshold: 0.43\n",
      "3.727540500736377 4.288102450995912\n",
      "Fscore: 0.5656388554818158, Precision: 0.6037925428589651, Recall: 0.5320204509427255 S: 8.17594222315551, RU: 6.96119304474024, MI: 4.288102450995914 threshold: 0.44\n",
      "3.5949926362297497 4.116753874464717\n",
      "Fscore: 0.5670157462777563, Precision: 0.6118677555734421, Recall: 0.5282902550053591 S: 8.124342869902884, RU: 7.0040905622944045, MI: 4.11675387446472 threshold: 0.45\n",
      "3.471281296023564 3.9394541248776056\n",
      "Fscore: 0.5687618448955741, Precision: 0.62094394780569, Recall: 0.5246702678571766 S: 8.080688179986419, RU: 7.055368357510258, MI: 3.9394541248776105 threshold: 0.46\n",
      "3.3490427098674522 3.753780990750667\n",
      "Fscore: 0.5692818208961846, Precision: 0.6286847572117712, Recall: 0.5201354518062791 S: 8.05860495304932, RU: 7.130935567146146, MI: 3.7537809907506725 threshold: 0.47\n",
      "3.235640648011782 3.616031883105755\n",
      "Fscore: 0.5691817563528778, Precision: 0.6358207002211856, Recall: 0.5151862401241449 S: 8.031766587457229, RU: 7.17172140673053, MI: 3.6160318831057645 threshold: 0.48\n",
      "3.1399116347569955 3.466154156659306\n",
      "Fscore: 0.5683245693535189, Precision: 0.6412930091326057, Recall: 0.5102649370199605 S: 8.004916077836114, RU: 7.21557044006033, MI: 3.4661541566593215 threshold: 0.49\n",
      "3.0250368188512518 3.291067810895162\n",
      "Fscore: 0.5674873956927623, Precision: 0.6473299460906079, Recall: 0.5051780520232152 S: 7.9779524582806305, RU: 7.267502878614879, MI: 3.29106781089518 threshold: 0.5\n",
      "2.9160530191458025 3.1631747522457867\n",
      "Fscore: 0.5659805353979284, Precision: 0.65340930299583, Recall: 0.49918728777961374 S: 7.996131322780559, RU: 7.343871024051761, MI: 3.163174752245805 threshold: 0.51\n",
      "2.795287187039764 3.00648738999759\n",
      "Fscore: 0.5648664500330204, Precision: 0.6593222313808608, Recall: 0.49408314116214563 S: 7.992116130953724, RU: 7.4050627157665625, MI: 3.006487389997612 threshold: 0.52\n",
      "2.7054491899852726 2.88114389307691\n",
      "Fscore: 0.5628864139195259, Precision: 0.663301335997128, Recall: 0.48887699642361165 S: 7.999150058186222, RU: 7.462265843613865, MI: 2.88114389307693 threshold: 0.53\n",
      "2.6229749631811488 2.7926231554153453\n",
      "Fscore: 0.5632829099478571, Precision: 0.6715432858959827, Recall: 0.4850821748398704 S: 7.997350739768, RU: 7.49392252206451, MI: 2.792623155415363 threshold: 0.54\n",
      "2.5419734904270985 2.7039993369606306\n",
      "Fscore: 0.5604858854064522, Precision: 0.6767169613048035, Recall: 0.47832933235360503 S: 8.019395220040733, RU: 7.5497739887316175, MI: 2.703999336960649 threshold: 0.55\n",
      "2.4609720176730487 2.597755408246834\n",
      "Fscore: 0.5591500514403495, Precision: 0.682334640651061, Recall: 0.47364164041750245 S: 8.016587374169317, RU: 7.58401872140458, MI: 2.5977554082468504 threshold: 0.56\n",
      "2.3755522827687776 2.5120912630338377\n",
      "Fscore: 0.5585689548123857, Precision: 0.6900175022614466, Recall: 0.46918841646134457 S: 8.023997939458765, RU: 7.6206259860084655, MI: 2.512091263033852 threshold: 0.57\n",
      "2.3063328424153164 2.420249855450694\n",
      "Fscore: 0.5589642209380102, Precision: 0.696492971088205, Recall: 0.46679198042353554 S: 8.029459122665406, RU: 7.656017531311272, MI: 2.420249855450706 threshold: 0.58\n",
      "2.2091310751104567 2.2773126315307675\n",
      "Fscore: 0.5594135969618019, Precision: 0.7057268114610153, Recall: 0.463350502374425 S: 8.020486445216445, RU: 7.6903868560802, MI: 2.2773126315307777 threshold: 0.59\n",
      "2.122238586156112 2.1767232876599993\n",
      "Fscore: 0.5582832481255704, Precision: 0.7130657902292765, Recall: 0.4587122780155138 S: 8.037913782354403, RU: 7.737566393997629, MI: 2.1767232876600078 threshold: 0.6\n",
      "2.0471281296023562 2.0808056407237125\n",
      "Fscore: 0.5569330465876884, Precision: 0.7213852242659056, Recall: 0.4535406495955296 S: 8.049472092250184, RU: 7.775876082439001, MI: 2.08080564072372 threshold: 0.61\n",
      "1.9941089837997055 2.019775088485984\n",
      "Fscore: 0.5552286909749075, Precision: 0.7256445085813418, Recall: 0.4496333994909155 S: 8.08382134336532, RU: 7.827431002786298, MI: 2.0197750884859915 threshold: 0.62\n",
      "1.923416789396171 1.941236089591213\n",
      "Fscore: 0.5538766226919342, Precision: 0.7323411638104494, Recall: 0.4453492641454719 S: 8.098357461668865, RU: 7.862251332884009, MI: 1.9412360895912215 threshold: 0.63\n",
      "1.8600883652430045 1.8823545985060308\n",
      "Fscore: 0.5521003679300625, Precision: 0.7380554612566645, Recall: 0.4409913822860738 S: 8.120158110709827, RU: 7.898968850958318, MI: 1.8823545985060381 threshold: 0.64\n",
      "1.7997054491899853 1.8175541747670216\n",
      "Fscore: 0.5488839896875343, Precision: 0.743471773194657, Recall: 0.4350254204817855 S: 8.160384786126471, RU: 7.95539921559134, MI: 1.817554174767028 threshold: 0.65\n",
      "1.727540500736377 1.7236699643658755\n",
      "Fscore: 0.5475283381017929, Precision: 0.752320807278606, Recall: 0.4303743051754029 S: 8.181584088886362, RU: 7.997954742148859, MI: 1.723669964365879 threshold: 0.66\n",
      "1.6848306332842415 1.6660872185509705\n",
      "Fscore: 0.5454773419629437, Precision: 0.7561949095892523, Recall: 0.4266024061210818 S: 8.197631120273007, RU: 8.026537819274855, MI: 1.6660872185509732 threshold: 0.67\n",
      "1.6126656848306333 1.589195642462342\n",
      "Fscore: 0.5430206416632964, Precision: 0.763791698180616, Recall: 0.42125771675202545 S: 8.231062417024006, RU: 8.076190049950768, MI: 1.589195642462343 threshold: 0.68\n",
      "1.5390279823269515 1.495487850332854\n",
      "Fscore: 0.5415317750739413, Precision: 0.7709489407186083, Recall: 0.4173405573250331 S: 8.245258565429122, RU: 8.108502013336933, MI: 1.4954878503328553 threshold: 0.69\n",
      "1.491899852724595 1.4453192284043623\n",
      "Fscore: 0.5381907372150635, Precision: 0.7776567800637899, Recall: 0.41148194331573024 S: 8.303418246936461, RU: 8.176662333223868, MI: 1.4453192284043639 threshold: 0.7\n",
      "1.4359351988217968 1.3862755417867805\n",
      "Fscore: 0.5363701946528485, Precision: 0.783491252582438, Recall: 0.40775891319177293 S: 8.31960682358917, RU: 8.203297984430119, MI: 1.3862755417867818 threshold: 0.71\n",
      "1.3755522827687776 1.3044763620148938\n",
      "Fscore: 0.5361236481517464, Precision: 0.7915101653855828, Recall: 0.40533829599494 S: 8.32906041232226, RU: 8.226274294786082, MI: 1.3044763620148945 threshold: 0.72\n",
      "1.3284241531664212 1.2511105773665239\n",
      "Fscore: 0.5332286139076663, Precision: 0.7988398684811061, Recall: 0.40017269612344136 S: 8.365942736662173, RU: 8.271863163538924, MI: 1.2511105773665245 threshold: 0.73\n",
      "1.2592047128129602 1.1763921156143708\n",
      "Fscore: 0.531147296002956, Precision: 0.8058584297118384, Recall: 0.39611473466607106 S: 8.385792922668022, RU: 8.302868452058568, MI: 1.176392115614371 threshold: 0.74\n",
      "1.21060382916053 1.1324919864818457\n",
      "Fscore: 0.5260707915497851, Precision: 0.8119349852780979, Recall: 0.3890832572664164 S: 8.437288716756148, RU: 8.360939109361759, MI: 1.1324919864818461 threshold: 0.75\n",
      "1.150220913107511 1.0639183777046652\n",
      "Fscore: 0.5208128337552198, Precision: 0.8189333154860017, Recall: 0.38181776182803684 S: 8.492201220589013, RU: 8.425292829128006, MI: 1.0639183777046655 threshold: 0.76\n",
      "1.0839469808541973 1.008368029617183\n",
      "Fscore: 0.5178261041992664, Precision: 0.8325272612196409, Recall: 0.3757790004700345 S: 8.536022721143368, RU: 8.47625376051955, MI: 1.0083680296171835 threshold: 0.77\n",
      "1.0206185567010309 0.9481672043170057\n",
      "Fscore: 0.5123675823661181, Precision: 0.8400207708153723, Recall: 0.36859553821946217 S: 8.582492153364013, RU: 8.529956067601551, MI: 0.9481672043170057 threshold: 0.78\n",
      "0.9720176730486009 0.8948893547533392\n",
      "Fscore: 0.5070621237423757, Precision: 0.8480505858874526, Recall: 0.361648620230421 S: 8.637080672921742, RU: 8.590595764748068, MI: 0.894889354753339 threshold: 0.79\n"
     ]
    },
    {
     "name": "stdout",
     "output_type": "stream",
     "text": [
      "0.9204712812960235 0.8414609451364234\n",
      "Fscore: 0.502043295911881, Precision: 0.8569550305935144, Recall: 0.35501305946760064 S: 8.681578399712956, RU: 8.640702922110718, MI: 0.8414609451364236 threshold: 0.8\n",
      "0.8792341678939617 0.8071415941393397\n",
      "Fscore: 0.49346794505620534, Precision: 0.8603102482632351, Recall: 0.3459517154673327 S: 8.740983117618367, RU: 8.703637648104355, MI: 0.8071415941393404 threshold: 0.81\n",
      "0.8247422680412371 0.7514218664539972\n",
      "Fscore: 0.4880668286548922, Precision: 0.8656515474011502, Recall: 0.3398354898136352 S: 8.803601657352626, RU: 8.771474637708113, MI: 0.7514218664539974 threshold: 0.82\n",
      "0.7643593519882179 0.7050059157919096\n",
      "Fscore: 0.48242227255350106, Precision: 0.8700269200008037, Recall: 0.33373873143243094 S: 8.863860659467493, RU: 8.835779108214165, MI: 0.7050059157919099 threshold: 0.83\n",
      "0.7231222385861561 0.6643055948433997\n",
      "Fscore: 0.4761763086719848, Precision: 0.8768158492940551, Recall: 0.3268364107253466 S: 8.924412770317703, RU: 8.899654002918847, MI: 0.6643055948433997 threshold: 0.84\n",
      "0.678939617083947 0.6189908799827772\n",
      "Fscore: 0.4703058230977544, Precision: 0.8814710178433817, Recall: 0.3207096850190563 S: 8.97378268661242, RU: 8.9524089493858, MI: 0.6189908799827776 threshold: 0.85\n",
      "0.6362297496318114 0.5779970289074629\n",
      "Fscore: 0.4618365843943644, Precision: 0.887379333894651, Recall: 0.31214665806239883 S: 9.064500044763449, RU: 9.046053310482462, MI: 0.5779970289074632 threshold: 0.86\n",
      "0.6067746686303387 0.5520157699037984\n",
      "Fscore: 0.45205115228046805, Precision: 0.8908162144388508, Recall: 0.3028731701440725 S: 9.142441832829638, RU: 9.125761406943033, MI: 0.5520157699037985 threshold: 0.87\n",
      "0.5699558173784978 0.5168033030405766\n",
      "Fscore: 0.44545804709826137, Precision: 0.8975676041690079, Recall: 0.29624025920726577 S: 9.20015935689071, RU: 9.18563261502168, MI: 0.5168033030405769 threshold: 0.88\n",
      "0.5257731958762887 0.48674229799797775\n",
      "Fscore: 0.4367902825631751, Precision: 0.9046487164783967, Recall: 0.287897784997106 S: 9.259715600236273, RU: 9.246913805838068, MI: 0.486742297997978 threshold: 0.89\n",
      "0.49337260677466865 0.4452894888625372\n",
      "Fscore: 0.4286642919445104, Precision: 0.9078227760957555, Recall: 0.28057423606205384 S: 9.332802534313299, RU: 9.322173588578647, MI: 0.4452894888625375 threshold: 0.9\n",
      "0.4536082474226804 0.4028314240613603\n",
      "Fscore: 0.4202213054373092, Precision: 0.9157424399576172, Recall: 0.2726737163224047 S: 9.392154725302234, RU: 9.383511987939578, MI: 0.40283142406136035 threshold: 0.91\n",
      "0.41237113402061853 0.3610840096704284\n",
      "Fscore: 0.4135701754506455, Precision: 0.9217670554151539, Recall: 0.26659089323917495 S: 9.447926914648217, RU: 9.44102437887407, MI: 0.3610840096704286 threshold: 0.92\n",
      "0.3637702503681885 0.32023394996814303\n",
      "Fscore: 0.4027549062529276, Precision: 0.9305647293477695, Recall: 0.25699125763200686 S: 9.534452346926606, RU: 9.529072975536607, MI: 0.3202339499681432 threshold: 0.93\n",
      "0.32989690721649484 0.29061205760014447\n",
      "Fscore: 0.391291133678872, Precision: 0.9352472229129075, Recall: 0.24739935553041453 S: 9.633500551824163, RU: 9.629116133580167, MI: 0.29061205760014464 threshold: 0.94\n",
      "0.28424153166421207 0.25200142186068686\n",
      "Fscore: 0.3800957928426453, Precision: 0.946075493615128, Recall: 0.23782155318759932 S: 9.726333233076595, RU: 9.723068108587453, MI: 0.25200142186068686 threshold: 0.95\n",
      "0.24153166421207659 0.21133358747871528\n",
      "Fscore: 0.36911944059395435, Precision: 0.9533186922427153, Recall: 0.2288678735662475 S: 9.805978873909762, RU: 9.803701331148758, MI: 0.2113335874787153 threshold: 0.96\n",
      "0.19882179675994108 0.17273027485382986\n",
      "Fscore: 0.34806290561006975, Precision: 0.9594428378854004, Recall: 0.21259334169633487 S: 9.928654904173323, RU: 9.927152283425187, MI: 0.17273027485382988 threshold: 0.97\n",
      "0.16494845360824742 0.15137088915379368\n",
      "Fscore: 0.3282411772117358, Precision: 0.9661547243633902, Recall: 0.1977046549235638 S: 10.081645931031764, RU: 10.080509487749422, MI: 0.1513708891537936 threshold: 0.98\n",
      "0.10456553755522828 0.08781977630709181\n",
      "Fscore: 0.3043064816527866, Precision: 0.9774540056572458, Recall: 0.18020435828624345 S: 10.275394430858857, RU: 10.275019143369738, MI: 0.0878197763070918 threshold: 0.99\n",
      "0.0 0.0\n",
      "Fscore: 0.06645771385453239, Precision: 1.0, Recall: 0.03437096479902511 S: 10.555925762842786, RU: 10.555925762842786, MI: 0.0 threshold: 1.0\n",
      "\n",
      "Final Results (Maximal F1-score):\n",
      "Fmax: 0.569, Smin: 7.978, threshold: 0.47\n",
      "AUPR: 0.536\n"
     ]
    }
   ],
   "source": [
    "\n",
    "recs = []\n",
    "precs = []\n",
    "f1s = []\n",
    "\n",
    "for i in range(1):\n",
    "    \n",
    "#     print('Splitting into train-test...')\n",
    "#     X_train_ng, y_train, X_test_ng, y_test, start_index, prev_index1 = train_test_split(X_ng,y,i,prev_index,Kfolds)\n",
    "#     X_train_sg, _, X_test_sg, _, _, _= train_test_split(X_sg,y,i,prev_index,Kfolds)\n",
    "    \n",
    "#     prev_index = prev_index1\n",
    "    \n",
    "    print('Tokenizing...')\n",
    "    X_train_ng, X_test_ng, vocab_size_ng, tokenizer1 = tokenization(X_train_ng, X_test_ng, MAX_LEN_NG)  \n",
    "    X_train_sg, X_test_sg, vocab_size_sg, tokenizer2 = tokenization(X_train_sg, X_test_sg, MAX_LEN_SG)\n",
    "    \n",
    "   \n",
    "    print('Shuffling...')   \n",
    "    shuffled = [[X_train_ng[i],X_train_sg[i],y_train[i]] for i in range(len(X_train_ng))]\n",
    "    np.random.shuffle(shuffled)\n",
    "\n",
    "    X_train_ng = [shuffled[i][0] for i in range(len(shuffled))]\n",
    "    X_train_sg = [shuffled[i][1] for i in range(len(shuffled))]\n",
    "    y_train = [shuffled[i][2] for i in range(len(shuffled))]\n",
    "    X_train_ng = np.array(X_train_ng)\n",
    "    X_train_sg = np.array(X_train_sg)\n",
    "    y_train = np.array(y_train)\n",
    "    \n",
    "    \n",
    "    model = get_model_ng_sg(vocab_size_ng, vocab_size_sg)\n",
    "    \n",
    "    model.compile(\n",
    "        loss=custom_loss, \n",
    "        optimizer='adam', \n",
    "        metrics=[\n",
    "            recall,\n",
    "            precision,\n",
    "            f1_score\n",
    "        ])\n",
    "\n",
    "    print('Training...')\n",
    "    history = model.fit([X_train_ng,X_train_sg], y_train, batch_size=32, epochs=10,validation_split=0.2)\n",
    "    \n",
    "    print('Evaluating model...')\n",
    "    predictions = model.predict([X_test_ng,X_test_sg])\n",
    "    \n",
    "    print('Computing Metrics...\\n')\n",
    "    compute_metrics(predictions)\n",
    "    \n",
    "#     recs.append(rec.numpy())\n",
    "#     precs.append(prec.numpy())\n",
    "#     f1s.append(f1.numpy())\n",
    "\n",
    "# print('Recall:',sum(recs)/len(recs))\n",
    "# print('Precision:',sum(precs)/len(precs))\n",
    "# print('F1-Score:',sum(f1s)/len(f1s))"
   ]
  },
  {
   "cell_type": "code",
   "execution_count": 35,
   "id": "f3d5d51f",
   "metadata": {},
   "outputs": [
    {
     "name": "stdout",
     "output_type": "stream",
     "text": [
      "9913\n"
     ]
    }
   ],
   "source": [
    "print(len(predictions))"
   ]
  },
  {
   "cell_type": "code",
   "execution_count": 36,
   "id": "d734cd02",
   "metadata": {},
   "outputs": [],
   "source": [
    "model.save('mf_model.h5')"
   ]
  },
  {
   "cell_type": "code",
   "execution_count": 37,
   "id": "eb50bb0b",
   "metadata": {},
   "outputs": [],
   "source": [
    "np.save('mf_predictions',predictions)"
   ]
  },
  {
   "cell_type": "code",
   "execution_count": 70,
   "id": "ab990bc8",
   "metadata": {},
   "outputs": [
    {
     "name": "stdout",
     "output_type": "stream",
     "text": [
      "35365\n"
     ]
    }
   ],
   "source": [
    "predictions = np.load('mf_predictions.npy')\n",
    "print(len(predictions))"
   ]
  },
  {
   "cell_type": "code",
   "execution_count": null,
   "id": "f2506bfb",
   "metadata": {},
   "outputs": [],
   "source": []
  }
 ],
 "metadata": {
  "kernelspec": {
   "display_name": "Python 3",
   "language": "python",
   "name": "python3"
  },
  "language_info": {
   "codemirror_mode": {
    "name": "ipython",
    "version": 3
   },
   "file_extension": ".py",
   "mimetype": "text/x-python",
   "name": "python",
   "nbconvert_exporter": "python",
   "pygments_lexer": "ipython3",
   "version": "3.8.8"
  }
 },
 "nbformat": 4,
 "nbformat_minor": 5
}
