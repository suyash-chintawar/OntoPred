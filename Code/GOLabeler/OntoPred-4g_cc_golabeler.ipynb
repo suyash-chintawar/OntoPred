{
 "cells": [
  {
   "cell_type": "code",
   "execution_count": 1,
   "id": "a056c8a4",
   "metadata": {},
   "outputs": [
    {
     "name": "stdout",
     "output_type": "stream",
     "text": [
      "Wed Feb  1 19:05:35 2023       \n",
      "+-----------------------------------------------------------------------------+\n",
      "| NVIDIA-SMI 460.106.00   Driver Version: 460.106.00   CUDA Version: 11.2     |\n",
      "|-------------------------------+----------------------+----------------------+\n",
      "| GPU  Name        Persistence-M| Bus-Id        Disp.A | Volatile Uncorr. ECC |\n",
      "| Fan  Temp  Perf  Pwr:Usage/Cap|         Memory-Usage | GPU-Util  Compute M. |\n",
      "|                               |                      |               MIG M. |\n",
      "|===============================+======================+======================|\n",
      "|   0  Tesla V100-DGXS...  Off  | 00000000:07:00.0 Off |                    0 |\n",
      "| N/A   40C    P0    52W / 300W |      0MiB / 32508MiB |      0%      Default |\n",
      "|                               |                      |                  N/A |\n",
      "+-------------------------------+----------------------+----------------------+\n",
      "|   1  Tesla V100-DGXS...  Off  | 00000000:08:00.0 Off |                    0 |\n",
      "| N/A   39C    P0    52W / 300W |      0MiB / 32508MiB |      0%      Default |\n",
      "|                               |                      |                  N/A |\n",
      "+-------------------------------+----------------------+----------------------+\n",
      "|   2  Tesla V100-DGXS...  Off  | 00000000:0E:00.0 Off |                    0 |\n",
      "| N/A   39C    P0    52W / 300W |      0MiB / 32508MiB |      0%      Default |\n",
      "|                               |                      |                  N/A |\n",
      "+-------------------------------+----------------------+----------------------+\n",
      "|   3  Tesla V100-DGXS...  Off  | 00000000:0F:00.0 Off |                    0 |\n",
      "| N/A   40C    P0    53W / 300W |  31458MiB / 32508MiB |      0%      Default |\n",
      "|                               |                      |                  N/A |\n",
      "+-------------------------------+----------------------+----------------------+\n",
      "                                                                               \n",
      "+-----------------------------------------------------------------------------+\n",
      "| Processes:                                                                  |\n",
      "|  GPU   GI   CI        PID   Type   Process name                  GPU Memory |\n",
      "|        ID   ID                                                   Usage      |\n",
      "|=============================================================================|\n",
      "|    3   N/A  N/A   2141026      C   /usr/bin/python3                31455MiB |\n",
      "+-----------------------------------------------------------------------------+\n"
     ]
    }
   ],
   "source": [
    "!nvidia-smi"
   ]
  },
  {
   "cell_type": "code",
   "execution_count": 2,
   "id": "86add81b",
   "metadata": {},
   "outputs": [],
   "source": [
    "import os\n",
    "os.environ[\"CUDA_VISIBLE_DEVICES\"]=\"2\""
   ]
  },
  {
   "cell_type": "code",
   "execution_count": 3,
   "id": "6fb10a5a",
   "metadata": {},
   "outputs": [
    {
     "name": "stderr",
     "output_type": "stream",
     "text": [
      "2023-02-01 19:05:50.467692: I tensorflow/core/platform/cpu_feature_guard.cc:193] This TensorFlow binary is optimized with oneAPI Deep Neural Network Library (oneDNN) to use the following CPU instructions in performance-critical operations:  AVX2 FMA\n",
      "To enable them in other operations, rebuild TensorFlow with the appropriate compiler flags.\n",
      "2023-02-01 19:05:50.633190: E tensorflow/stream_executor/cuda/cuda_blas.cc:2981] Unable to register cuBLAS factory: Attempting to register factory for plugin cuBLAS when one has already been registered\n"
     ]
    },
    {
     "name": "stdout",
     "output_type": "stream",
     "text": [
      "[name: \"/device:CPU:0\"\n",
      "device_type: \"CPU\"\n",
      "memory_limit: 268435456\n",
      "locality {\n",
      "}\n",
      "incarnation: 10319156353171029586\n",
      "xla_global_id: -1\n",
      ", name: \"/device:GPU:0\"\n",
      "device_type: \"GPU\"\n",
      "memory_limit: 32476168192\n",
      "locality {\n",
      "  bus_id: 1\n",
      "  links {\n",
      "  }\n",
      "}\n",
      "incarnation: 15131982686062205013\n",
      "physical_device_desc: \"device: 0, name: Tesla V100-DGXS-32GB, pci bus id: 0000:0e:00.0, compute capability: 7.0\"\n",
      "xla_global_id: 416903419\n",
      "]\n"
     ]
    },
    {
     "name": "stderr",
     "output_type": "stream",
     "text": [
      "2023-02-01 19:05:53.707999: I tensorflow/core/platform/cpu_feature_guard.cc:193] This TensorFlow binary is optimized with oneAPI Deep Neural Network Library (oneDNN) to use the following CPU instructions in performance-critical operations:  AVX2 FMA\n",
      "To enable them in other operations, rebuild TensorFlow with the appropriate compiler flags.\n",
      "2023-02-01 19:05:56.981076: I tensorflow/core/common_runtime/gpu/gpu_device.cc:1616] Created device /device:GPU:0 with 30971 MB memory:  -> device: 0, name: Tesla V100-DGXS-32GB, pci bus id: 0000:0e:00.0, compute capability: 7.0\n"
     ]
    }
   ],
   "source": [
    "from tensorflow.python.client import device_lib\n",
    "print(device_lib.list_local_devices())"
   ]
  },
  {
   "cell_type": "code",
   "execution_count": 4,
   "id": "d8be3b48",
   "metadata": {},
   "outputs": [],
   "source": [
    "import gc\n",
    "import math\n",
    "import gdown\n",
    "import numpy as np\n",
    "import pandas as pd\n",
    "from tqdm import tqdm\n",
    "import matplotlib.pyplot as plt\n",
    "from collections import defaultdict\n",
    "import tqdm.notebook as tqdm"
   ]
  },
  {
   "cell_type": "code",
   "execution_count": 5,
   "id": "e6e98a41",
   "metadata": {},
   "outputs": [],
   "source": [
    "aspect = ['cellular','component']\n",
    "aspect_abbr = 'cc'"
   ]
  },
  {
   "cell_type": "code",
   "execution_count": 6,
   "id": "5ce40988",
   "metadata": {},
   "outputs": [],
   "source": [
    "file = 'golabeler_train/cc_df.csv'\n",
    "# if not os.path.exists(file):\n",
    "#     url = \"https://drive.google.com/file/d/1RyeLQPFTMWAIr-OzELTWIx60ln-mZ7g_/view?usp=sharing\"\n",
    "#     output = file\n",
    "#     gdown.download(url=url, output=output, quiet=False, fuzzy=True)"
   ]
  },
  {
   "cell_type": "code",
   "execution_count": 7,
   "id": "bd949fb2",
   "metadata": {},
   "outputs": [
    {
     "data": {
      "text/html": [
       "<div>\n",
       "<style scoped>\n",
       "    .dataframe tbody tr th:only-of-type {\n",
       "        vertical-align: middle;\n",
       "    }\n",
       "\n",
       "    .dataframe tbody tr th {\n",
       "        vertical-align: top;\n",
       "    }\n",
       "\n",
       "    .dataframe thead th {\n",
       "        text-align: right;\n",
       "    }\n",
       "</style>\n",
       "<table border=\"1\" class=\"dataframe\">\n",
       "  <thead>\n",
       "    <tr style=\"text-align: right;\">\n",
       "      <th></th>\n",
       "      <th>index</th>\n",
       "      <th>Entry</th>\n",
       "      <th>accessions</th>\n",
       "      <th>Sequence</th>\n",
       "      <th>Gene Ontology (cellular component)</th>\n",
       "      <th>interpros</th>\n",
       "      <th>orgs</th>\n",
       "    </tr>\n",
       "  </thead>\n",
       "  <tbody>\n",
       "    <tr>\n",
       "      <th>0</th>\n",
       "      <td>225</td>\n",
       "      <td>11K_PAVHV</td>\n",
       "      <td>P0DJZ0;</td>\n",
       "      <td>MQNNTTGMDTKSLKNCGQPKAVCTHCKHSPPCPQPGCVTKRPPVPP...</td>\n",
       "      <td>GO:0030430;GO:0033643;GO:0044216;GO:0044215;GO...</td>\n",
       "      <td>[]</td>\n",
       "      <td>648237</td>\n",
       "    </tr>\n",
       "    <tr>\n",
       "      <th>1</th>\n",
       "      <td>252</td>\n",
       "      <td>13KDA_SCYCA</td>\n",
       "      <td>P83011;</td>\n",
       "      <td>MIFTAXDRSAIEXV</td>\n",
       "      <td>GO:0043227;GO:0005575;GO:0005622;GO:0044424;GO...</td>\n",
       "      <td>[]</td>\n",
       "      <td>7830</td>\n",
       "    </tr>\n",
       "    <tr>\n",
       "      <th>2</th>\n",
       "      <td>253</td>\n",
       "      <td>13KDA_TRISC</td>\n",
       "      <td>P83010;</td>\n",
       "      <td>AGEPANNEDRFNY</td>\n",
       "      <td>GO:0043227;GO:0005575;GO:0005622;GO:0044424;GO...</td>\n",
       "      <td>[]</td>\n",
       "      <td>30494</td>\n",
       "    </tr>\n",
       "    <tr>\n",
       "      <th>3</th>\n",
       "      <td>261</td>\n",
       "      <td>14310_ARATH</td>\n",
       "      <td>P48347; Q9LME5;</td>\n",
       "      <td>MENEREKQVYLAKLSEQTERYDEMVEAMKKVAQLDVELTVEERNLV...</td>\n",
       "      <td>GO:0005622;GO:0043231;GO:0043226;GO:0005829;GO...</td>\n",
       "      <td>['IPR000308', 'IPR023409', 'IPR023410']</td>\n",
       "      <td>3702</td>\n",
       "    </tr>\n",
       "    <tr>\n",
       "      <th>4</th>\n",
       "      <td>266</td>\n",
       "      <td>14331_CAEEL</td>\n",
       "      <td>P41932; Q21537;</td>\n",
       "      <td>MSDTVEELVQRAKLAEQAERYDDMAAAMKKVTEQGQELSNEERNLL...</td>\n",
       "      <td>GO:0043227;GO:0005634;GO:0044464;GO:0005938;GO...</td>\n",
       "      <td>['IPR000308', 'IPR023409', 'IPR023410']</td>\n",
       "      <td>6239</td>\n",
       "    </tr>\n",
       "    <tr>\n",
       "      <th>...</th>\n",
       "      <td>...</td>\n",
       "      <td>...</td>\n",
       "      <td>...</td>\n",
       "      <td>...</td>\n",
       "      <td>...</td>\n",
       "      <td>...</td>\n",
       "      <td>...</td>\n",
       "    </tr>\n",
       "    <tr>\n",
       "      <th>49341</th>\n",
       "      <td>550266</td>\n",
       "      <td>ZYX_CAEEL</td>\n",
       "      <td>Q9U3F4; H2L2F5; H2L2F6; H2L2F7; Q9U3F5;</td>\n",
       "      <td>MGPPPPPPPPPLLPSGEILPSRKWKTEDAPRRNNHPAPAPPKPSRP...</td>\n",
       "      <td>GO:0005634;GO:0030017;GO:0005622;GO:0044449;GO...</td>\n",
       "      <td>['IPR001781']</td>\n",
       "      <td>6239</td>\n",
       "    </tr>\n",
       "    <tr>\n",
       "      <th>49342</th>\n",
       "      <td>550267</td>\n",
       "      <td>ZYX_CHICK</td>\n",
       "      <td>Q04584;</td>\n",
       "      <td>MASPGTPGTRMTTTVSINISTPSFYNPQKKFAPVVAPKPKVNPFKT...</td>\n",
       "      <td>GO:0030055;GO:0005622;GO:0043226;GO:0005925;GO...</td>\n",
       "      <td>['IPR001781']</td>\n",
       "      <td>9031</td>\n",
       "    </tr>\n",
       "    <tr>\n",
       "      <th>49343</th>\n",
       "      <td>550268</td>\n",
       "      <td>ZYX_HUMAN</td>\n",
       "      <td>Q15942; A4D2G6; B4DQX7; Q6I9S4;</td>\n",
       "      <td>MAAPRPSPAISVSVSAPAFYAPQKKFGPVVAPKPKVNPFRPGDSEP...</td>\n",
       "      <td>GO:0005634;GO:0030055;GO:0005622;GO:0016021;GO...</td>\n",
       "      <td>['IPR001781']</td>\n",
       "      <td>9606</td>\n",
       "    </tr>\n",
       "    <tr>\n",
       "      <th>49344</th>\n",
       "      <td>550274</td>\n",
       "      <td>ZZZ3_HUMAN</td>\n",
       "      <td>Q8IYH5; B7WPC6; Q6N004; Q6N070; Q8IYP0; Q8IYR1...</td>\n",
       "      <td>MAASRSTRVTRSTVGLNGLDESFCGRTLRNRSIAHPEEISSNSQVR...</td>\n",
       "      <td>GO:0005634;GO:0031981;GO:0005622;GO:0043233;GO...</td>\n",
       "      <td>['IPR009057', 'IPR017930', 'IPR001005', 'IPR00...</td>\n",
       "      <td>9606</td>\n",
       "    </tr>\n",
       "    <tr>\n",
       "      <th>49345</th>\n",
       "      <td>550275</td>\n",
       "      <td>ZZZ3_MOUSE</td>\n",
       "      <td>Q6KAQ7; Q3TMK6; Q3V189;</td>\n",
       "      <td>MVGTCHSMAASRSTRVTRSTVGLNGLDESFCGRTLRNRSIAHPEEI...</td>\n",
       "      <td>GO:0005634;GO:0031981;GO:1902493;GO:0005622;GO...</td>\n",
       "      <td>['IPR009057', 'IPR017930', 'IPR001005', 'IPR00...</td>\n",
       "      <td>10090</td>\n",
       "    </tr>\n",
       "  </tbody>\n",
       "</table>\n",
       "<p>49346 rows × 7 columns</p>\n",
       "</div>"
      ],
      "text/plain": [
       "        index        Entry                                         accessions  \\\n",
       "0         225    11K_PAVHV                                            P0DJZ0;   \n",
       "1         252  13KDA_SCYCA                                            P83011;   \n",
       "2         253  13KDA_TRISC                                            P83010;   \n",
       "3         261  14310_ARATH                                    P48347; Q9LME5;   \n",
       "4         266  14331_CAEEL                                    P41932; Q21537;   \n",
       "...       ...          ...                                                ...   \n",
       "49341  550266    ZYX_CAEEL            Q9U3F4; H2L2F5; H2L2F6; H2L2F7; Q9U3F5;   \n",
       "49342  550267    ZYX_CHICK                                            Q04584;   \n",
       "49343  550268    ZYX_HUMAN                    Q15942; A4D2G6; B4DQX7; Q6I9S4;   \n",
       "49344  550274   ZZZ3_HUMAN  Q8IYH5; B7WPC6; Q6N004; Q6N070; Q8IYP0; Q8IYR1...   \n",
       "49345  550275   ZZZ3_MOUSE                            Q6KAQ7; Q3TMK6; Q3V189;   \n",
       "\n",
       "                                                Sequence  \\\n",
       "0      MQNNTTGMDTKSLKNCGQPKAVCTHCKHSPPCPQPGCVTKRPPVPP...   \n",
       "1                                         MIFTAXDRSAIEXV   \n",
       "2                                          AGEPANNEDRFNY   \n",
       "3      MENEREKQVYLAKLSEQTERYDEMVEAMKKVAQLDVELTVEERNLV...   \n",
       "4      MSDTVEELVQRAKLAEQAERYDDMAAAMKKVTEQGQELSNEERNLL...   \n",
       "...                                                  ...   \n",
       "49341  MGPPPPPPPPPLLPSGEILPSRKWKTEDAPRRNNHPAPAPPKPSRP...   \n",
       "49342  MASPGTPGTRMTTTVSINISTPSFYNPQKKFAPVVAPKPKVNPFKT...   \n",
       "49343  MAAPRPSPAISVSVSAPAFYAPQKKFGPVVAPKPKVNPFRPGDSEP...   \n",
       "49344  MAASRSTRVTRSTVGLNGLDESFCGRTLRNRSIAHPEEISSNSQVR...   \n",
       "49345  MVGTCHSMAASRSTRVTRSTVGLNGLDESFCGRTLRNRSIAHPEEI...   \n",
       "\n",
       "                      Gene Ontology (cellular component)  \\\n",
       "0      GO:0030430;GO:0033643;GO:0044216;GO:0044215;GO...   \n",
       "1      GO:0043227;GO:0005575;GO:0005622;GO:0044424;GO...   \n",
       "2      GO:0043227;GO:0005575;GO:0005622;GO:0044424;GO...   \n",
       "3      GO:0005622;GO:0043231;GO:0043226;GO:0005829;GO...   \n",
       "4      GO:0043227;GO:0005634;GO:0044464;GO:0005938;GO...   \n",
       "...                                                  ...   \n",
       "49341  GO:0005634;GO:0030017;GO:0005622;GO:0044449;GO...   \n",
       "49342  GO:0030055;GO:0005622;GO:0043226;GO:0005925;GO...   \n",
       "49343  GO:0005634;GO:0030055;GO:0005622;GO:0016021;GO...   \n",
       "49344  GO:0005634;GO:0031981;GO:0005622;GO:0043233;GO...   \n",
       "49345  GO:0005634;GO:0031981;GO:1902493;GO:0005622;GO...   \n",
       "\n",
       "                                               interpros    orgs  \n",
       "0                                                     []  648237  \n",
       "1                                                     []    7830  \n",
       "2                                                     []   30494  \n",
       "3                ['IPR000308', 'IPR023409', 'IPR023410']    3702  \n",
       "4                ['IPR000308', 'IPR023409', 'IPR023410']    6239  \n",
       "...                                                  ...     ...  \n",
       "49341                                      ['IPR001781']    6239  \n",
       "49342                                      ['IPR001781']    9031  \n",
       "49343                                      ['IPR001781']    9606  \n",
       "49344  ['IPR009057', 'IPR017930', 'IPR001005', 'IPR00...    9606  \n",
       "49345  ['IPR009057', 'IPR017930', 'IPR001005', 'IPR00...   10090  \n",
       "\n",
       "[49346 rows x 7 columns]"
      ]
     },
     "execution_count": 7,
     "metadata": {},
     "output_type": "execute_result"
    }
   ],
   "source": [
    "df = pd.read_csv(file)\n",
    "df"
   ]
  },
  {
   "cell_type": "code",
   "execution_count": 8,
   "id": "724323ff",
   "metadata": {},
   "outputs": [
    {
     "name": "stdout",
     "output_type": "stream",
     "text": [
      "545\n"
     ]
    }
   ],
   "source": [
    "go_terms_bp = set()\n",
    "for idx, row in df.iterrows():\n",
    "    for term in row['Gene Ontology ('+' '.join(aspect)+')'].split(';'):\n",
    "        go_terms_bp.add(term)\n",
    "go_terms_bp = list(go_terms_bp)\n",
    "go_terms_bp.sort()\n",
    "print(len(go_terms_bp))\n",
    "# print(go_terms_bp)"
   ]
  },
  {
   "cell_type": "code",
   "execution_count": 9,
   "id": "72f8a1f9",
   "metadata": {},
   "outputs": [],
   "source": [
    "def get_segments(sequence,segment_size=100,gap=30):\n",
    "    segments = []\n",
    "    start = 0\n",
    "    end = segment_size\n",
    "    while end <= len(sequence):\n",
    "        segments.append(sequence[start:end])\n",
    "        start += gap\n",
    "        end += gap\n",
    "    last_segment = sequence[start:]\n",
    "    segments.append(last_segment)\n",
    "    \n",
    "    return segments\n",
    "\n",
    "def get_training_data(df,segment_size=100,gap=30):\n",
    "    training_data = list()\n",
    "    for idx,row in tqdm.tqdm(df.iterrows()):\n",
    "        labels = [0] * len(go_terms_bp)\n",
    "        for term in row['Gene Ontology ('+' '.join(aspect)+')'].split(';'):\n",
    "            labels[go_terms_bp.index(term)] = 1\n",
    "        segments = get_segments(row['Sequence'],segment_size,gap)\n",
    "        for segment in segments:\n",
    "            training_data.append([row['Entry'],segment,labels])\n",
    "    return training_data"
   ]
  },
  {
   "cell_type": "code",
   "execution_count": 10,
   "id": "1f1d6c8d",
   "metadata": {},
   "outputs": [
    {
     "data": {
      "application/vnd.jupyter.widget-view+json": {
       "model_id": "52bc8369af444852a3b2805e24418c37",
       "version_major": 2,
       "version_minor": 0
      },
      "text/plain": [
       "0it [00:00, ?it/s]"
      ]
     },
     "metadata": {},
     "output_type": "display_data"
    },
    {
     "name": "stdout",
     "output_type": "stream",
     "text": [
      "1178692\n"
     ]
    }
   ],
   "source": [
    "training_data = get_training_data(df,gap=20)\n",
    "print(len(training_data))"
   ]
  },
  {
   "cell_type": "code",
   "execution_count": 11,
   "id": "1c0991f7",
   "metadata": {},
   "outputs": [],
   "source": [
    "def get_ngrams(segment,n=3):\n",
    "    ngrams = []\n",
    "    for i in range(len(segment)-n+1):\n",
    "        ngrams.append(segment[i:i+n])\n",
    "    return ngrams"
   ]
  },
  {
   "cell_type": "code",
   "execution_count": 12,
   "id": "5358736d",
   "metadata": {},
   "outputs": [
    {
     "name": "stdout",
     "output_type": "stream",
     "text": [
      "Preparing from scratch...\n"
     ]
    },
    {
     "data": {
      "application/vnd.jupyter.widget-view+json": {
       "model_id": "53be1d2e097c43259d4d93cde7628510",
       "version_major": 2,
       "version_minor": 0
      },
      "text/plain": [
       "  0%|          | 0/1178692 [00:00<?, ?it/s]"
      ]
     },
     "metadata": {},
     "output_type": "display_data"
    },
    {
     "name": "stdout",
     "output_type": "stream",
     "text": [
      "1178692\n"
     ]
    }
   ],
   "source": [
    "# Generate training data of ngrams\n",
    "# if os.path.exists('bp/training_data_4grams.npy'):\n",
    "#     print('Loading saved ngrams...')\n",
    "#     training_data_ngrams = np.load('bp/training_data_4grams.npy',allow_pickle=True)\n",
    "# else:\n",
    "print('Preparing from scratch...')\n",
    "training_data_ngrams = []\n",
    "\n",
    "for i in tqdm.tqdm(range(len(training_data))):\n",
    "    training_data_ngrams.append([training_data[i][0],get_ngrams(training_data[i][1],n=4),training_data[i][2]])\n",
    "        \n",
    "#     np.save('bp/training_data_4grams.npy',training_data_ngrams)\n",
    "    \n",
    "print(len(training_data_ngrams))"
   ]
  },
  {
   "cell_type": "code",
   "execution_count": 13,
   "id": "4acd14a0",
   "metadata": {},
   "outputs": [],
   "source": [
    "def get_skip_grams(segment,skip=1,n=3):\n",
    "    skip_grams = []\n",
    "    window_size = skip + n\n",
    "    for i in range(len(segment)-window_size+1):\n",
    "        window = segment[i:i+window_size]\n",
    "        indices = list(range(window_size))\n",
    "        indices.pop(0)\n",
    "        for idx in indices[::-1]:\n",
    "            temp = ''\n",
    "            for j in range(window_size):\n",
    "                if j!=idx:\n",
    "                    temp+=window[j]\n",
    "            skip_grams.append(temp)\n",
    "\n",
    "    return skip_grams"
   ]
  },
  {
   "cell_type": "code",
   "execution_count": 14,
   "id": "fa91e8e9",
   "metadata": {},
   "outputs": [
    {
     "name": "stdout",
     "output_type": "stream",
     "text": [
      "Preparing from scratch...\n"
     ]
    },
    {
     "data": {
      "application/vnd.jupyter.widget-view+json": {
       "model_id": "3270b3817332479cafe7f6ea4f3617fb",
       "version_major": 2,
       "version_minor": 0
      },
      "text/plain": [
       "  0%|          | 0/1178692 [00:00<?, ?it/s]"
      ]
     },
     "metadata": {},
     "output_type": "display_data"
    },
    {
     "name": "stdout",
     "output_type": "stream",
     "text": [
      "1178692\n"
     ]
    }
   ],
   "source": [
    "# if os.path.exists('bp/training_data_skip1_4grams.npy'):\n",
    "#     print('Loading saved skip grams...')\n",
    "#     training_data_skip_grams = np.load('bp/training_data_skip1_4grams.npy',allow_pickle=True)\n",
    "# else:\n",
    "print('Preparing from scratch...')\n",
    "training_data_skip_grams = []\n",
    "for i in tqdm.tqdm(range(len(training_data))):\n",
    "    training_data_skip_grams.append([training_data[i][0],get_skip_grams(training_data[i][1],n=4),training_data[i][2]])\n",
    "#     np.save('bp/training_data_skip1_4grams.npy',training_data_skip_grams)\n",
    "print(len(training_data_skip_grams))"
   ]
  },
  {
   "cell_type": "code",
   "execution_count": 15,
   "id": "11d856c7",
   "metadata": {},
   "outputs": [],
   "source": [
    "import tensorflow as tf\n",
    "import tensorflow_addons as tfa"
   ]
  },
  {
   "cell_type": "code",
   "execution_count": 16,
   "id": "0e391f5a",
   "metadata": {},
   "outputs": [],
   "source": [
    "#Assuming training_data as global variable\n",
    "\n",
    "def train_test_split(X,y,fold_no,prev_index,Kfolds=5):\n",
    "    test_split = 1/Kfolds\n",
    "    \n",
    "    start_index = prev_index\n",
    "    end_index = (fold_no + 1) * (test_split) * len(X)\n",
    "    end_index = round(end_index)\n",
    "    \n",
    "    if end_index==len(X):\n",
    "        end_index -= 1\n",
    "    \n",
    "    entry = training_data[end_index][0]\n",
    "    entries = [sample[0] for sample in training_data]\n",
    "    \n",
    "    first_occurence = entries.index(entry)\n",
    "    entries.reverse()\n",
    "    \n",
    "    last_occurence = entries.index(entry)\n",
    "    last_occurence = len(entries) - last_occurence - 1\n",
    "    \n",
    "    del entries\n",
    "    gc.collect()\n",
    "    \n",
    "    end_index = first_occurence if (abs(end_index-first_occurence) < abs(end_index-last_occurence)) else last_occurence\n",
    "    \n",
    "    X_test = X[start_index:end_index+1]\n",
    "    y_test = y[start_index:end_index+1]\n",
    "    X_train = X[:start_index]\n",
    "    X_train.extend(X[end_index+1:])\n",
    "    y_train = y[:start_index]\n",
    "    y_train.extend(y[end_index+1:])\n",
    "    \n",
    "    return X_train, y_train, X_test, y_test, start_index, end_index + 1"
   ]
  },
  {
   "cell_type": "code",
   "execution_count": 17,
   "id": "730f9429",
   "metadata": {},
   "outputs": [],
   "source": [
    "# MAX_WORDS = 13824\n",
    "# MAX_LEN_NG = 98 #100\n",
    "# MAX_LEN_SG = 291 #300\n",
    "MAX_WORDS = 331776\n",
    "MAX_LEN_NG = 97 #100\n",
    "MAX_LEN_SG = 384 #300\n",
    "# MAX_WORDS = 7962624\n",
    "# MAX_LEN_NG = 96 #100\n",
    "# MAX_LEN_SG = 475 #300\n",
    "\n",
    "def tokenization(X_train,X_test,maxlen):\n",
    "\n",
    "    tokenizer = tf.keras.preprocessing.text.Tokenizer(num_words=MAX_WORDS)\n",
    "    tokenizer.fit_on_texts(X_train)\n",
    "\n",
    "    X_train = tokenizer.texts_to_sequences(X_train)\n",
    "    X_test = tokenizer.texts_to_sequences(X_test)\n",
    "\n",
    "    vocab_size = len(tokenizer.word_index) + 1\n",
    "\n",
    "    X_train = tf.keras.preprocessing.sequence.pad_sequences(X_train, padding='post', maxlen=maxlen)\n",
    "    X_test = tf.keras.preprocessing.sequence.pad_sequences(X_test, padding='post', maxlen=maxlen)\n",
    "    \n",
    "    return X_train, X_test, vocab_size, tokenizer"
   ]
  },
  {
   "cell_type": "code",
   "execution_count": 18,
   "id": "10a7f090",
   "metadata": {},
   "outputs": [],
   "source": [
    "from tensorflow.keras import backend as K\n",
    "\n",
    "false_negative_penalty = 6\n",
    "false_positive_penalty = 1\n",
    "\n",
    "def custom_loss(y_true, y_logit):\n",
    "\n",
    "    loss = float(0)\n",
    "    y_true = tf.cast(y_true, tf.float32)\n",
    "    y_logit = tf.cast(y_logit, tf.float32)\n",
    "    \n",
    "    first_term = false_negative_penalty * float(y_true) * - K.log(y_logit + K.epsilon())\n",
    "    second_term = false_positive_penalty * (1 - float(y_true)) * - K.log(1 - y_logit + K.epsilon())\n",
    "    \n",
    "    loss = K.mean(first_term+second_term)\n",
    "\n",
    "    return loss\n",
    "\n",
    "def precision(y_true, y_pred):\n",
    "    \n",
    "    true_positives = K.sum(K.round(K.clip(y_true * y_pred, 0, 1)), axis=1)\n",
    "    predicted_positives = K.sum(K.round(K.clip(y_pred, 0, 1)), axis=1)\n",
    "    precision = true_positives / (predicted_positives + K.epsilon())\n",
    "    \n",
    "    return K.mean(precision)\n",
    "\n",
    "\n",
    "def recall(y_true, y_pred):\n",
    "    true_positives = K.sum(K.round(K.clip(y_true * y_pred, 0, 1)), axis=1)\n",
    "    possible_positives = K.sum(K.round(K.clip(y_true, 0, 1)), axis=1)\n",
    "    recall = true_positives / (possible_positives + K.epsilon())\n",
    "    return K.mean(recall)\n",
    "\n",
    "def f1_score(y_true, y_pred):\n",
    "    rec = recall(y_true,y_pred)\n",
    "    prec = precision(y_true,y_pred)\n",
    "    f1 = 2*prec*rec/(prec+rec)\n",
    "    return f1"
   ]
  },
  {
   "cell_type": "code",
   "execution_count": 19,
   "id": "36c30cf1",
   "metadata": {},
   "outputs": [],
   "source": [
    "class attention(tf.keras.layers.Layer):\n",
    "    \n",
    "    def __init__(self, return_sequences=True,**kwargs):\n",
    "        self.return_sequences = return_sequences\n",
    "        super(attention,self).__init__()\n",
    "\n",
    "    def get_config(self):\n",
    "      config = super().get_config().copy()\n",
    "      config.update({\n",
    "          'return_sequences': self.return_sequences \n",
    "      })\n",
    "      return config\n",
    "        \n",
    "    def build(self, input_shape):\n",
    "        \n",
    "        self.W=self.add_weight(name=\"att_weight\", shape=(input_shape[-1],1),\n",
    "                               initializer=\"normal\")\n",
    "        self.b=self.add_weight(name=\"att_bias\", shape=(input_shape[1],1),\n",
    "                               initializer=\"zeros\")\n",
    "        \n",
    "        super(attention,self).build(input_shape)\n",
    "        \n",
    "    def call(self, x):\n",
    "        \n",
    "        e = K.tanh(K.dot(x,self.W)+self.b)\n",
    "        a = K.softmax(e, axis=1)\n",
    "        output = x*a\n",
    "        \n",
    "        if self.return_sequences:\n",
    "            return output\n",
    "        \n",
    "        return K.sum(output, axis=1)"
   ]
  },
  {
   "cell_type": "code",
   "execution_count": 20,
   "id": "03b912ca",
   "metadata": {},
   "outputs": [],
   "source": [
    "NUM_CLASSES = 545 #For bp (Change according to aspects)\n",
    "\n",
    "def get_model_ng_sg(vocab_size_ng, vocab_size_sg):\n",
    "    #Input layers\n",
    "\n",
    "    input_ngrams = tf.keras.layers.Input(shape=(MAX_LEN_NG,)) \n",
    "    input_skip_grams = tf.keras.layers.Input(shape=(MAX_LEN_SG,)) \n",
    "\n",
    "    #embeddings\n",
    "    embedding_layer_ngrams = tf.keras.layers.Embedding(vocab_size_ng, 32)(input_ngrams)\n",
    "    embedding_layer_skip_grams = tf.keras.layers.Embedding(vocab_size_sg, 32)(input_skip_grams)\n",
    "\n",
    "    #BI-LSTMs for each of the inputs\n",
    "    sequence_output_1 = tf.keras.layers.Bidirectional(tf.keras.layers.LSTM(64,return_sequences=True))(embedding_layer_ngrams)\n",
    "    attention_output_1 = attention(return_sequences=False)(sequence_output_1)\n",
    "    dropout_1 = tf.keras.layers.Dropout(0.3)(attention_output_1)\n",
    "    dense_layer_1 = tf.keras.layers.Dense(NUM_CLASSES, activation='sigmoid')(dropout_1)\n",
    "\n",
    "    sequence_output_2 = tf.keras.layers.Bidirectional(tf.keras.layers.LSTM(64, return_sequences=True))(embedding_layer_skip_grams)\n",
    "    attention_output_2 = attention(return_sequences=False)(sequence_output_2)\n",
    "    dropout_2 = tf.keras.layers.Dropout(0.3)(attention_output_2)\n",
    "    dense_layer_2 = tf.keras.layers.Dense(NUM_CLASSES, activation='sigmoid')(dropout_2)\n",
    "\n",
    "    max_layer = tf.keras.layers.Maximum()([dense_layer_1,dense_layer_2])\n",
    "\n",
    "    model = tf.keras.models.Model(\n",
    "        inputs=[\n",
    "            input_ngrams,\n",
    "            input_skip_grams\n",
    "        ], \n",
    "        outputs=max_layer)\n",
    "    \n",
    "    return model"
   ]
  },
  {
   "cell_type": "markdown",
   "id": "84680b09",
   "metadata": {},
   "source": [
    "### Model using skip grams and ngrams"
   ]
  },
  {
   "cell_type": "code",
   "execution_count": 21,
   "id": "6163d660",
   "metadata": {},
   "outputs": [],
   "source": [
    "#Considering ngrams and skip grams\n",
    "X_train_ng = [' '.join(sample[1]) for sample in training_data_ngrams]\n",
    "X_train_sg = [' '.join(sample[1]) for sample in training_data_skip_grams]\n",
    "y_train = [sample[2] for sample in training_data]\n",
    "\n",
    "del training_data_ngrams\n",
    "del training_data_skip_grams"
   ]
  },
  {
   "cell_type": "code",
   "execution_count": 22,
   "id": "32366243",
   "metadata": {},
   "outputs": [
    {
     "name": "stdout",
     "output_type": "stream",
     "text": [
      "1178692 1178692\n"
     ]
    }
   ],
   "source": [
    "print(len(X_train_ng),len(X_train_sg))"
   ]
  },
  {
   "cell_type": "code",
   "execution_count": 23,
   "id": "27dfda2e",
   "metadata": {},
   "outputs": [
    {
     "data": {
      "text/html": [
       "<div>\n",
       "<style scoped>\n",
       "    .dataframe tbody tr th:only-of-type {\n",
       "        vertical-align: middle;\n",
       "    }\n",
       "\n",
       "    .dataframe tbody tr th {\n",
       "        vertical-align: top;\n",
       "    }\n",
       "\n",
       "    .dataframe thead th {\n",
       "        text-align: right;\n",
       "    }\n",
       "</style>\n",
       "<table border=\"1\" class=\"dataframe\">\n",
       "  <thead>\n",
       "    <tr style=\"text-align: right;\">\n",
       "      <th></th>\n",
       "      <th>level_0</th>\n",
       "      <th>index</th>\n",
       "      <th>Entry</th>\n",
       "      <th>accessions</th>\n",
       "      <th>Sequence</th>\n",
       "      <th>Gene Ontology (cellular component)</th>\n",
       "      <th>interpros</th>\n",
       "      <th>orgs</th>\n",
       "    </tr>\n",
       "  </thead>\n",
       "  <tbody>\n",
       "    <tr>\n",
       "      <th>0</th>\n",
       "      <td>84</td>\n",
       "      <td>617</td>\n",
       "      <td>1B48_HUMAN</td>\n",
       "      <td>P30486; Q29764;</td>\n",
       "      <td>MLVMAPRTVLLLLSAALALTETWAGSHSMRYFYTSVSRPGRGEPRF...</td>\n",
       "      <td>GO:0044433;GO:0045335;GO:0031988;GO:0005794;GO...</td>\n",
       "      <td>['IPR007110', 'IPR013783', 'IPR003006', 'IPR00...</td>\n",
       "      <td>9606</td>\n",
       "    </tr>\n",
       "    <tr>\n",
       "      <th>1</th>\n",
       "      <td>326</td>\n",
       "      <td>2607</td>\n",
       "      <td>8ODP_RAT</td>\n",
       "      <td>P53369;</td>\n",
       "      <td>MSTSRLYTLVLVLQPQRVLLGMKKRGFGAGRWNGFGGKVQEGETIE...</td>\n",
       "      <td>GO:0005634;GO:0031988;GO:0005622;GO:0043231;GO...</td>\n",
       "      <td>['IPR020476', 'IPR020084', 'IPR000086', 'IPR01...</td>\n",
       "      <td>10116</td>\n",
       "    </tr>\n",
       "    <tr>\n",
       "      <th>2</th>\n",
       "      <td>392</td>\n",
       "      <td>3170</td>\n",
       "      <td>AA3R_MOUSE</td>\n",
       "      <td>Q61618; Q9R202;</td>\n",
       "      <td>MEADNTTETDWLNITYITMEAAIGLCAVVGNMLVIWVVKLNPTLRT...</td>\n",
       "      <td>GO:0005622;GO:0016021;GO:0000323;GO:0043231;GO...</td>\n",
       "      <td>['IPR000466', 'IPR001634', 'IPR000276', 'IPR01...</td>\n",
       "      <td>10090</td>\n",
       "    </tr>\n",
       "    <tr>\n",
       "      <th>3</th>\n",
       "      <td>462</td>\n",
       "      <td>3586</td>\n",
       "      <td>AARE_ARATH</td>\n",
       "      <td>Q84LM4; O23313;</td>\n",
       "      <td>MDSSGTDSAKELHVGLDPTTEEEYATQSKLLQEFINIPSIDKAWIF...</td>\n",
       "      <td>GO:0043227;GO:0005634;GO:0005575;GO:0005622;GO...</td>\n",
       "      <td>['IPR011042', 'IPR029058', 'IPR011659', 'IPR00...</td>\n",
       "      <td>3702</td>\n",
       "    </tr>\n",
       "    <tr>\n",
       "      <th>4</th>\n",
       "      <td>575</td>\n",
       "      <td>3984</td>\n",
       "      <td>ABA4_ARATH</td>\n",
       "      <td>Q8LFP9; Q9FZH4;</td>\n",
       "      <td>MGFSSFISQPLSSSLSVMKRNVSAKRSELCLDSSKIRLDHRWSFIG...</td>\n",
       "      <td>GO:0005622;GO:0043231;GO:0043226;GO:0044435;GO...</td>\n",
       "      <td>['IPR025461']</td>\n",
       "      <td>3702</td>\n",
       "    </tr>\n",
       "    <tr>\n",
       "      <th>...</th>\n",
       "      <td>...</td>\n",
       "      <td>...</td>\n",
       "      <td>...</td>\n",
       "      <td>...</td>\n",
       "      <td>...</td>\n",
       "      <td>...</td>\n",
       "      <td>...</td>\n",
       "      <td>...</td>\n",
       "    </tr>\n",
       "    <tr>\n",
       "      <th>1143</th>\n",
       "      <td>55732</td>\n",
       "      <td>552113</td>\n",
       "      <td>ZN809_MOUSE</td>\n",
       "      <td>G3X9G7; Q4KL58; Q8BIJ2;</td>\n",
       "      <td>MGLVSFEDVAVDFTLEEWQDLDAAQRTLYRDVMLETYSSLVFLDPC...</td>\n",
       "      <td>GO:0043227;GO:0005634;GO:0044464;GO:0005622;GO...</td>\n",
       "      <td>['IPR001909', 'IPR007087', 'IPR015880', 'IPR01...</td>\n",
       "      <td>10090</td>\n",
       "    </tr>\n",
       "    <tr>\n",
       "      <th>1144</th>\n",
       "      <td>55751</td>\n",
       "      <td>552243</td>\n",
       "      <td>ZNF8_MOUSE</td>\n",
       "      <td>Q8BGV5; Q52KP6; Q8BJ50;</td>\n",
       "      <td>MDHQDKAATVAMASRPQATQLQEPVTFRDVAVDFTQEEWGQLDPTQ...</td>\n",
       "      <td>GO:0043227;GO:0005634;GO:0044464;GO:0005622;GO...</td>\n",
       "      <td>['IPR001909', 'IPR007087', 'IPR015880', 'IPR01...</td>\n",
       "      <td>10090</td>\n",
       "    </tr>\n",
       "    <tr>\n",
       "      <th>1145</th>\n",
       "      <td>55763</td>\n",
       "      <td>552282</td>\n",
       "      <td>ZNRF4_HUMAN</td>\n",
       "      <td>Q8WWF5; A8K886; O75866;</td>\n",
       "      <td>MPLCRPEHLMPRASRVPVAASLPLSHAVIPTQLPSRPGHRPPGRPR...</td>\n",
       "      <td>GO:0005783;GO:0005622;GO:0043231;GO:0043226;GO...</td>\n",
       "      <td>['IPR003137', 'IPR001841', 'IPR013083']</td>\n",
       "      <td>9606</td>\n",
       "    </tr>\n",
       "    <tr>\n",
       "      <th>1146</th>\n",
       "      <td>55764</td>\n",
       "      <td>552284</td>\n",
       "      <td>ZNRF4_MOUSE</td>\n",
       "      <td>Q9DAH2; Q9WTN2;</td>\n",
       "      <td>MARFAWTRVAPVALVTFWLVLSLSPTDAQVNLSSVDFLDLPALLGV...</td>\n",
       "      <td>GO:0005575;GO:0005622;GO:0044424;GO:0005623;GO...</td>\n",
       "      <td>['IPR001841', 'IPR013083']</td>\n",
       "      <td>10090</td>\n",
       "    </tr>\n",
       "    <tr>\n",
       "      <th>1147</th>\n",
       "      <td>55796</td>\n",
       "      <td>552531</td>\n",
       "      <td>ZOP1_ARATH</td>\n",
       "      <td>Q7XA66; Q94AV7; Q9FX87;</td>\n",
       "      <td>MTEYWVSQGNKWCEFCKIWIQNNPTSIRNHDLGKRHRECVDKKLTD...</td>\n",
       "      <td>GO:0005634;GO:0031981;GO:0005622;GO:0043233;GO...</td>\n",
       "      <td>['IPR000690', 'IPR003604', 'IPR013085']</td>\n",
       "      <td>3702</td>\n",
       "    </tr>\n",
       "  </tbody>\n",
       "</table>\n",
       "<p>1148 rows × 8 columns</p>\n",
       "</div>"
      ],
      "text/plain": [
       "      level_0   index        Entry               accessions  \\\n",
       "0          84     617   1B48_HUMAN          P30486; Q29764;   \n",
       "1         326    2607     8ODP_RAT                  P53369;   \n",
       "2         392    3170   AA3R_MOUSE          Q61618; Q9R202;   \n",
       "3         462    3586   AARE_ARATH          Q84LM4; O23313;   \n",
       "4         575    3984   ABA4_ARATH          Q8LFP9; Q9FZH4;   \n",
       "...       ...     ...          ...                      ...   \n",
       "1143    55732  552113  ZN809_MOUSE  G3X9G7; Q4KL58; Q8BIJ2;   \n",
       "1144    55751  552243   ZNF8_MOUSE  Q8BGV5; Q52KP6; Q8BJ50;   \n",
       "1145    55763  552282  ZNRF4_HUMAN  Q8WWF5; A8K886; O75866;   \n",
       "1146    55764  552284  ZNRF4_MOUSE          Q9DAH2; Q9WTN2;   \n",
       "1147    55796  552531   ZOP1_ARATH  Q7XA66; Q94AV7; Q9FX87;   \n",
       "\n",
       "                                               Sequence  \\\n",
       "0     MLVMAPRTVLLLLSAALALTETWAGSHSMRYFYTSVSRPGRGEPRF...   \n",
       "1     MSTSRLYTLVLVLQPQRVLLGMKKRGFGAGRWNGFGGKVQEGETIE...   \n",
       "2     MEADNTTETDWLNITYITMEAAIGLCAVVGNMLVIWVVKLNPTLRT...   \n",
       "3     MDSSGTDSAKELHVGLDPTTEEEYATQSKLLQEFINIPSIDKAWIF...   \n",
       "4     MGFSSFISQPLSSSLSVMKRNVSAKRSELCLDSSKIRLDHRWSFIG...   \n",
       "...                                                 ...   \n",
       "1143  MGLVSFEDVAVDFTLEEWQDLDAAQRTLYRDVMLETYSSLVFLDPC...   \n",
       "1144  MDHQDKAATVAMASRPQATQLQEPVTFRDVAVDFTQEEWGQLDPTQ...   \n",
       "1145  MPLCRPEHLMPRASRVPVAASLPLSHAVIPTQLPSRPGHRPPGRPR...   \n",
       "1146  MARFAWTRVAPVALVTFWLVLSLSPTDAQVNLSSVDFLDLPALLGV...   \n",
       "1147  MTEYWVSQGNKWCEFCKIWIQNNPTSIRNHDLGKRHRECVDKKLTD...   \n",
       "\n",
       "                     Gene Ontology (cellular component)  \\\n",
       "0     GO:0044433;GO:0045335;GO:0031988;GO:0005794;GO...   \n",
       "1     GO:0005634;GO:0031988;GO:0005622;GO:0043231;GO...   \n",
       "2     GO:0005622;GO:0016021;GO:0000323;GO:0043231;GO...   \n",
       "3     GO:0043227;GO:0005634;GO:0005575;GO:0005622;GO...   \n",
       "4     GO:0005622;GO:0043231;GO:0043226;GO:0044435;GO...   \n",
       "...                                                 ...   \n",
       "1143  GO:0043227;GO:0005634;GO:0044464;GO:0005622;GO...   \n",
       "1144  GO:0043227;GO:0005634;GO:0044464;GO:0005622;GO...   \n",
       "1145  GO:0005783;GO:0005622;GO:0043231;GO:0043226;GO...   \n",
       "1146  GO:0005575;GO:0005622;GO:0044424;GO:0005623;GO...   \n",
       "1147  GO:0005634;GO:0031981;GO:0005622;GO:0043233;GO...   \n",
       "\n",
       "                                              interpros   orgs  \n",
       "0     ['IPR007110', 'IPR013783', 'IPR003006', 'IPR00...   9606  \n",
       "1     ['IPR020476', 'IPR020084', 'IPR000086', 'IPR01...  10116  \n",
       "2     ['IPR000466', 'IPR001634', 'IPR000276', 'IPR01...  10090  \n",
       "3     ['IPR011042', 'IPR029058', 'IPR011659', 'IPR00...   3702  \n",
       "4                                         ['IPR025461']   3702  \n",
       "...                                                 ...    ...  \n",
       "1143  ['IPR001909', 'IPR007087', 'IPR015880', 'IPR01...  10090  \n",
       "1144  ['IPR001909', 'IPR007087', 'IPR015880', 'IPR01...  10090  \n",
       "1145            ['IPR003137', 'IPR001841', 'IPR013083']   9606  \n",
       "1146                         ['IPR001841', 'IPR013083']  10090  \n",
       "1147            ['IPR000690', 'IPR003604', 'IPR013085']   3702  \n",
       "\n",
       "[1148 rows x 8 columns]"
      ]
     },
     "execution_count": 23,
     "metadata": {},
     "output_type": "execute_result"
    }
   ],
   "source": [
    "test_df = pd.read_csv('golabeler_test/cc_df.csv')\n",
    "test_df"
   ]
  },
  {
   "cell_type": "code",
   "execution_count": 24,
   "id": "37914add",
   "metadata": {},
   "outputs": [
    {
     "data": {
      "application/vnd.jupyter.widget-view+json": {
       "model_id": "9dca90895ee3456996242f019ffc4505",
       "version_major": 2,
       "version_minor": 0
      },
      "text/plain": [
       "0it [00:00, ?it/s]"
      ]
     },
     "metadata": {},
     "output_type": "display_data"
    },
    {
     "name": "stdout",
     "output_type": "stream",
     "text": [
      "24017\n"
     ]
    }
   ],
   "source": [
    "testing_data = get_training_data(test_df,gap=20)\n",
    "print(len(testing_data))"
   ]
  },
  {
   "cell_type": "code",
   "execution_count": 25,
   "id": "bedb4917",
   "metadata": {},
   "outputs": [
    {
     "name": "stdout",
     "output_type": "stream",
     "text": [
      "Preparing from scratch...\n"
     ]
    },
    {
     "data": {
      "application/vnd.jupyter.widget-view+json": {
       "model_id": "f523dc20c1724c7b920de7e755ce4a57",
       "version_major": 2,
       "version_minor": 0
      },
      "text/plain": [
       "  0%|          | 0/24017 [00:00<?, ?it/s]"
      ]
     },
     "metadata": {},
     "output_type": "display_data"
    },
    {
     "name": "stdout",
     "output_type": "stream",
     "text": [
      "24017\n"
     ]
    }
   ],
   "source": [
    "print('Preparing from scratch...')\n",
    "testing_data_ngrams = []\n",
    "\n",
    "for i in tqdm.tqdm(range(len(testing_data))):\n",
    "    testing_data_ngrams.append([testing_data[i][0],get_ngrams(testing_data[i][1],n=4),testing_data[i][2]])\n",
    "    \n",
    "print(len(testing_data_ngrams))"
   ]
  },
  {
   "cell_type": "code",
   "execution_count": 26,
   "id": "da1d8eea",
   "metadata": {},
   "outputs": [
    {
     "name": "stdout",
     "output_type": "stream",
     "text": [
      "Preparing from scratch...\n"
     ]
    },
    {
     "data": {
      "application/vnd.jupyter.widget-view+json": {
       "model_id": "15ae7b257da64e948eb6c6fdb5408c91",
       "version_major": 2,
       "version_minor": 0
      },
      "text/plain": [
       "  0%|          | 0/24017 [00:00<?, ?it/s]"
      ]
     },
     "metadata": {},
     "output_type": "display_data"
    },
    {
     "name": "stdout",
     "output_type": "stream",
     "text": [
      "24017\n"
     ]
    }
   ],
   "source": [
    "print('Preparing from scratch...')\n",
    "testing_data_skip_grams = []\n",
    "\n",
    "for i in tqdm.tqdm(range(len(testing_data))):\n",
    "    testing_data_skip_grams.append([testing_data[i][0],get_skip_grams(testing_data[i][1],n=4),testing_data[i][2]])\n",
    "    \n",
    "print(len(testing_data_skip_grams))"
   ]
  },
  {
   "cell_type": "code",
   "execution_count": 27,
   "id": "5eac38b0",
   "metadata": {},
   "outputs": [],
   "source": [
    "#Considering ngrams and skip grams\n",
    "X_test_ng = [' '.join(sample[1]) for sample in testing_data_ngrams]\n",
    "X_test_sg = [' '.join(sample[1]) for sample in testing_data_skip_grams]\n",
    "y_test = [sample[2] for sample in testing_data]\n",
    "\n",
    "del testing_data_ngrams\n",
    "del testing_data_skip_grams"
   ]
  },
  {
   "cell_type": "code",
   "execution_count": 28,
   "id": "2079b237",
   "metadata": {},
   "outputs": [
    {
     "name": "stdout",
     "output_type": "stream",
     "text": [
      "24017 24017\n"
     ]
    }
   ],
   "source": [
    "print(len(X_test_ng),len(X_test_sg))"
   ]
  },
  {
   "cell_type": "code",
   "execution_count": 29,
   "id": "66234f34",
   "metadata": {},
   "outputs": [],
   "source": [
    "from utils import FUNC_DICT, Ontology, NAMESPACES\n",
    "NUM_CLASSES = 545\n",
    "\n",
    "train_df = pd.read_pickle('data_golabeler/train_data.pkl')\n",
    "test_df = pd.read_pickle('data_golabeler/test_data.pkl')\n",
    "annotations = train_df['annotations'].values\n",
    "annotations = list(map(lambda x: set(x), annotations))\n",
    "test_annotations = test_df['annotations'].values\n",
    "test_annotations = list(map(lambda x: set(x), test_annotations))\n",
    "\n",
    "go_rels = Ontology('data_golabeler/go.obo', with_rels=True)\n",
    "go_rels.calculate_ic(annotations + test_annotations)"
   ]
  },
  {
   "cell_type": "code",
   "execution_count": 30,
   "id": "08fb6188",
   "metadata": {},
   "outputs": [],
   "source": [
    "def evaluate_annotations(real_annots, pred_annots):\n",
    "    total = 0\n",
    "    p = 0.0\n",
    "    r = 0.0\n",
    "    p_total= 0\n",
    "    fps = []\n",
    "    fns = []\n",
    "    ru = 0.0\n",
    "    mi = 0.0\n",
    "    for i in range(len(real_annots)):\n",
    "        if len(real_annots[i]) == 0:\n",
    "            continue\n",
    "        tp = set(real_annots[i]).intersection(set(pred_annots[i]))\n",
    "        fp = set(pred_annots[i]) - tp\n",
    "        fn = set(real_annots[i]) - tp\n",
    "        for go_id in fp:\n",
    "            mi += go_rels.get_ic(go_id)\n",
    "        for go_id in fn:\n",
    "            ru += go_rels.get_ic(go_id)\n",
    "        fps.append(fp)\n",
    "        fns.append(fn)\n",
    "        tpn = len(tp)\n",
    "        fpn = len(fp)\n",
    "        fnn = len(fn)\n",
    "        total += 1\n",
    "        recall = tpn / (1.0 * (tpn + fnn))\n",
    "        r += recall\n",
    "        if len(pred_annots[i]) > 0:\n",
    "            p_total += 1\n",
    "            precision = tpn / (1.0 * (tpn + fpn))\n",
    "            p += precision\n",
    "    ru /= total\n",
    "    mi /= total\n",
    "    r /= total\n",
    "    if p_total > 0:\n",
    "        p /= p_total\n",
    "    f = 0.0\n",
    "    if p + r > 0:\n",
    "        f = 2 * p * r / (p + r)\n",
    "    s = math.sqrt(ru * ru + mi * mi)\n",
    "    return f, p, r, fps, fns, s, ru, mi"
   ]
  },
  {
   "cell_type": "code",
   "execution_count": 31,
   "id": "3d593615",
   "metadata": {},
   "outputs": [],
   "source": [
    "def compute_metrics(predictions):\n",
    "    final_predictions = []\n",
    "    actual_y_test = []\n",
    "\n",
    "    current_entry = ''\n",
    "    counter = 0\n",
    "    total_counts = 0\n",
    "    start_index = 0\n",
    "\n",
    "    if len(predictions) == len(testing_data):\n",
    "        temp = np.zeros(NUM_CLASSES)\n",
    "        for i in range(len(predictions)):\n",
    "            if current_entry != testing_data[start_index+i][0]:\n",
    "                #compute prev\n",
    "                if i!=0:\n",
    "                    temp /= counter\n",
    "                    final_predictions.append(temp)\n",
    "\n",
    "                #reset\n",
    "                total_counts += counter\n",
    "                counter = 1\n",
    "                temp = np.zeros(NUM_CLASSES)\n",
    "\n",
    "                #init new\n",
    "                current_entry = testing_data[start_index+i][0]\n",
    "                temp += np.array(predictions[i])\n",
    "                actual_y_test.append(testing_data[start_index+i][2])\n",
    "            else:\n",
    "                temp += np.array(predictions[i])\n",
    "                counter += 1\n",
    "\n",
    "        total_counts += counter\n",
    "        temp /= counter\n",
    "        final_predictions.append(temp)\n",
    "\n",
    "    else:\n",
    "        print('Lengths of predictions dont match with test data')\n",
    "    \n",
    "    final_predictions = np.array(final_predictions, dtype=float)\n",
    "    actual_y_test = np.array(actual_y_test, dtype=float)\n",
    "    \n",
    "    #Computing maximal F1-score\n",
    "    fmax = 0.0\n",
    "    tmax = 0.0\n",
    "    precisions = []\n",
    "    recalls = []\n",
    "    smin = 1000000.0\n",
    "    rus = []\n",
    "    mis = []\n",
    "    \n",
    "    for t in tqdm.tqdm(range(0, 101)):\n",
    "        \n",
    "        threshold = t / 100.0\n",
    "        pred_annots = []\n",
    "        real_annots = []\n",
    "    \n",
    "        for i in range(len(final_predictions)):\n",
    "            new_preds = []\n",
    "            new_ys = []\n",
    "            for j in range(NUM_CLASSES):\n",
    "                if final_predictions[i][j]>=threshold:\n",
    "                    new_preds.append(go_terms_bp[j]) #GO_TERMS_BP\n",
    "                if actual_y_test[i][j]==1:\n",
    "                    new_ys.append(go_terms_bp[j])\n",
    "            pred_annots.append(new_preds)\n",
    "            real_annots.append(new_ys)\n",
    "    \n",
    "        fscore, prec, rec, fps, fns, s, ru, mi = evaluate_annotations(real_annots, pred_annots)\n",
    "        avg_fp = sum(map(lambda x: len(x), fps)) / len(fps)\n",
    "        avg_ic = sum(map(lambda x: sum(map(lambda go_id: go_rels.get_ic(go_id), x)), fps)) / len(fps)\n",
    "        print(f'{avg_fp} {avg_ic}')\n",
    "        precisions.append(prec)\n",
    "        recalls.append(rec)\n",
    "        print(f'Fscore: {fscore}, Precision: {prec}, Recall: {rec} S: {s}, RU: {ru}, MI: {mi} threshold: {threshold}')\n",
    "        if fmax < fscore:\n",
    "            fmax = fscore\n",
    "            tmax = threshold\n",
    "        if smin > s:\n",
    "            smin = s\n",
    "    print('\\nFinal Results (Maximal F1-score):')\n",
    "    print(f'Fmax: {fmax:0.3f}, Smin: {smin:0.3f}, threshold: {tmax}')\n",
    "    precisions = np.array(precisions)\n",
    "    recalls = np.array(recalls)\n",
    "    sorted_index = np.argsort(recalls)\n",
    "    recalls = recalls[sorted_index]\n",
    "    precisions = precisions[sorted_index]\n",
    "    aupr = np.trapz(precisions, recalls)\n",
    "    print(f'AUPR: {aupr:0.3f}')\n",
    "        \n",
    "    \n",
    "#     rec = recall(actual_y_test,final_predictions)\n",
    "#     prec = precision(actual_y_test,final_predictions)\n",
    "#     f1 = f1_score(actual_y_test,final_predictions)\n",
    "    \n",
    "#     return rec,prec,f1"
   ]
  },
  {
   "cell_type": "code",
   "execution_count": 32,
   "id": "2f8a951e",
   "metadata": {},
   "outputs": [
    {
     "name": "stdout",
     "output_type": "stream",
     "text": [
      "Tokenizing...\n",
      "Shuffling...\n"
     ]
    },
    {
     "name": "stderr",
     "output_type": "stream",
     "text": [
      "2023-02-01 19:28:25.177543: I tensorflow/core/common_runtime/gpu/gpu_device.cc:1616] Created device /job:localhost/replica:0/task:0/device:GPU:0 with 30971 MB memory:  -> device: 0, name: Tesla V100-DGXS-32GB, pci bus id: 0000:0e:00.0, compute capability: 7.0\n"
     ]
    },
    {
     "name": "stdout",
     "output_type": "stream",
     "text": [
      "Training...\n"
     ]
    },
    {
     "name": "stderr",
     "output_type": "stream",
     "text": [
      "2023-02-01 19:28:27.346541: W tensorflow/core/framework/cpu_allocator_impl.cc:82] Allocation of 4111275080 exceeds 10% of free system memory.\n",
      "2023-02-01 19:28:30.353804: W tensorflow/core/framework/cpu_allocator_impl.cc:82] Allocation of 4111275080 exceeds 10% of free system memory.\n"
     ]
    },
    {
     "name": "stdout",
     "output_type": "stream",
     "text": [
      "Epoch 1/10\n"
     ]
    },
    {
     "name": "stderr",
     "output_type": "stream",
     "text": [
      "2023-02-01 19:28:39.361206: I tensorflow/stream_executor/cuda/cuda_dnn.cc:384] Loaded cuDNN version 8100\n"
     ]
    },
    {
     "name": "stdout",
     "output_type": "stream",
     "text": [
      "29468/29468 [==============================] - 1159s 39ms/step - loss: 0.2192 - recall: 0.7831 - precision: 0.4449 - f1_score: 0.5661 - val_loss: 0.1825 - val_recall: 0.8201 - val_precision: 0.4750 - val_f1_score: 0.6005\n",
      "Epoch 2/10\n",
      "29468/29468 [==============================] - 1149s 39ms/step - loss: 0.1556 - recall: 0.8458 - precision: 0.5171 - f1_score: 0.6408 - val_loss: 0.1452 - val_recall: 0.8456 - val_precision: 0.5622 - val_f1_score: 0.6744\n",
      "Epoch 3/10\n",
      "29468/29468 [==============================] - 1150s 39ms/step - loss: 0.1200 - recall: 0.8813 - precision: 0.5773 - f1_score: 0.6967 - val_loss: 0.1206 - val_recall: 0.8764 - val_precision: 0.5900 - val_f1_score: 0.7044\n",
      "Epoch 4/10\n",
      "29468/29468 [==============================] - 1142s 39ms/step - loss: 0.0973 - recall: 0.9056 - precision: 0.6277 - f1_score: 0.7407 - val_loss: 0.1048 - val_recall: 0.8935 - val_precision: 0.6357 - val_f1_score: 0.7421\n",
      "Epoch 5/10\n",
      "29468/29468 [==============================] - 1123s 38ms/step - loss: 0.0823 - recall: 0.9221 - precision: 0.6685 - f1_score: 0.7744 - val_loss: 0.0945 - val_recall: 0.9057 - val_precision: 0.6641 - val_f1_score: 0.7657\n",
      "Epoch 6/10\n",
      "29468/29468 [==============================] - 1125s 38ms/step - loss: 0.0717 - recall: 0.9338 - precision: 0.7019 - f1_score: 0.8008 - val_loss: 0.0871 - val_recall: 0.9135 - val_precision: 0.6956 - val_f1_score: 0.7891\n",
      "Epoch 7/10\n",
      "29468/29468 [==============================] - 1124s 38ms/step - loss: 0.0639 - recall: 0.9423 - precision: 0.7284 - f1_score: 0.8211 - val_loss: 0.0838 - val_recall: 0.9128 - val_precision: 0.7202 - val_f1_score: 0.8046\n",
      "Epoch 8/10\n",
      "29468/29468 [==============================] - 1124s 38ms/step - loss: 0.0581 - recall: 0.9484 - precision: 0.7488 - f1_score: 0.8363 - val_loss: 0.0799 - val_recall: 0.9186 - val_precision: 0.7320 - val_f1_score: 0.8141\n",
      "Epoch 9/10\n",
      "29468/29468 [==============================] - 1124s 38ms/step - loss: 0.0536 - recall: 0.9532 - precision: 0.7648 - f1_score: 0.8482 - val_loss: 0.0770 - val_recall: 0.9204 - val_precision: 0.7531 - val_f1_score: 0.8278\n",
      "Epoch 10/10\n",
      "29468/29468 [==============================] - 1148s 39ms/step - loss: 0.0501 - recall: 0.9568 - precision: 0.7779 - f1_score: 0.8577 - val_loss: 0.0735 - val_recall: 0.9268 - val_precision: 0.7563 - val_f1_score: 0.8324\n",
      "Evaluating model...\n",
      "751/751 [==============================] - 11s 13ms/step\n",
      "Computing Metrics...\n",
      "\n"
     ]
    },
    {
     "data": {
      "application/vnd.jupyter.widget-view+json": {
       "model_id": "ab0be9d95f724e2ba98772f04ccebe47",
       "version_major": 2,
       "version_minor": 0
      },
      "text/plain": [
       "  0%|          | 0/101 [00:00<?, ?it/s]"
      ]
     },
     "metadata": {},
     "output_type": "display_data"
    },
    {
     "name": "stdout",
     "output_type": "stream",
     "text": [
      "530.1123693379791 1033.3788351646888\n",
      "Fscore: 0.05318078073779726, Precision: 0.02731675350829518, Recall: 1.0 S: 1033.378835165043, RU: 0.0, MI: 1033.378835165043 threshold: 0.0\n",
      "84.86759581881533 153.0264491990172\n",
      "Fscore: 0.2758043188241583, Precision: 0.16156914198675762, Recall: 0.9414268804240831 S: 153.03911200142994, RU: 1.9686664847750839, MI: 153.02644919901246 threshold: 0.01\n",
      "64.31358885017421 106.18256834151573\n",
      "Fscore: 0.3263108142231591, Precision: 0.19792428257772524, Recall: 0.928773693951623 S: 106.20888781453542, RU: 2.364324681675039, MI: 106.18256834151353 threshold: 0.02\n",
      "53.9808362369338 83.83101333629317\n",
      "Fscore: 0.36003992909858756, Precision: 0.22378484728299403, Recall: 0.9205037865560765 S: 83.87172489241763, RU: 2.6129369375994433, MI: 83.83101333629169 threshold: 0.03\n",
      "47.492160278745644 70.28513248458212\n",
      "Fscore: 0.3850993105804115, Precision: 0.24389274921674692, Recall: 0.9146598149432735 S: 70.34004002512117, RU: 2.7787375479474967, MI: 70.28513248458222 threshold: 0.04\n",
      "42.73344947735192 60.907893436708754\n",
      "Fscore: 0.40530514696985565, Precision: 0.2608721543585462, Recall: 0.908052113018089 S: 60.97997676660528, RU: 2.9641328509693197, MI: 60.90789343670921 threshold: 0.05\n",
      "39.03310104529617 53.63280088279832\n",
      "Fscore: 0.42301734677693126, Precision: 0.2761170973768477, Recall: 0.9039248655338287 S: 53.722257741292125, RU: 3.0989750382795114, MI: 53.63280088279878 threshold: 0.06\n",
      "36.04006968641115 48.15287387488216\n",
      "Fscore: 0.43953992177767925, Precision: 0.29077384301746445, Recall: 0.8999980591439165 S: 48.25965899559956, RU: 3.208648307496392, MI: 48.15287387488263 threshold: 0.07\n",
      "33.3684668989547 43.495055502840316\n",
      "Fscore: 0.45468754882200313, Precision: 0.30464538920464473, Recall: 0.8959610070705533 S: 43.622794535050936, RU: 3.3359181422936377, MI: 43.49505550284062 threshold: 0.08\n",
      "31.14198606271777 39.51331481121406\n",
      "Fscore: 0.46811628688645623, Precision: 0.3175097380275749, Recall: 0.890525102342616 S: 39.663652350685325, RU: 3.4501116541260566, MI: 39.51331481121382 threshold: 0.09\n",
      "29.322299651567945 36.48979201679407\n",
      "Fscore: 0.4803463152800804, Precision: 0.3293469761584172, Recall: 0.887035057345504 S: 36.66184150050214, RU: 3.5476331235170377, MI: 36.489792016793764 threshold: 0.1\n",
      "27.665505226480835 33.68783761989239\n",
      "Fscore: 0.4913947134458035, Precision: 0.34046168194302495, Recall: 0.8827217956179918 S: 33.88368304602707, RU: 3.6377978585146504, MI: 33.68783761989197 threshold: 0.11\n",
      "26.148954703832754 31.184655340582065\n",
      "Fscore: 0.5024617776338576, Precision: 0.35175107414133516, Recall: 0.8791342227796373 S: 31.404368067461725, RU: 3.7083156561633377, MI: 31.184655340581585 threshold: 0.12\n",
      "24.820557491289197 29.027324330545113\n",
      "Fscore: 0.5121904422783654, Precision: 0.36185296925616983, Recall: 0.8762366619136054 S: 29.27097560217033, RU: 3.768879795407524, MI: 29.02732433054448 threshold: 0.13\n",
      "23.587108013937282 27.093338547590008\n",
      "Fscore: 0.5212862009237981, Precision: 0.37168688489196455, Recall: 0.8724272373865233 S: 27.365659857707488, RU: 3.8510187994151615, MI: 27.093338547589408 threshold: 0.14\n",
      "22.46951219512195 25.35190016475602\n",
      "Fscore: 0.530376189092777, Precision: 0.3816349872343469, Recall: 0.8691091083736332 S: 25.653430667663155, RU: 3.9216913515563454, MI: 25.351900164755474 threshold: 0.15\n",
      "21.50348432055749 23.88671357898741\n",
      "Fscore: 0.5389641107935184, Precision: 0.391087362348253, Recall: 0.8666646948832826 S: 24.215736527016507, RU: 3.9782923398520373, MI: 23.88671357898688 threshold: 0.16\n",
      "20.614111498257838 22.58895500174258\n",
      "Fscore: 0.5460108757229503, Precision: 0.39927552401660127, Recall: 0.8632637593008959 S: 22.95133449284669, RU: 4.062372081900588, MI: 22.58895500174209 threshold: 0.17\n",
      "19.777003484320556 21.446925140867474\n",
      "Fscore: 0.553080779742853, Precision: 0.40751749013648425, Recall: 0.860417930872711 S: 21.840436291779575, RU: 4.127233869957802, MI: 21.44692514086706 threshold: 0.18\n",
      "18.982578397212542 20.339744344991388\n",
      "Fscore: 0.5599111738565814, Precision: 0.4156507626843695, Recall: 0.8575378791186067 S: 20.76813037329762, RU: 4.196431720247076, MI: 20.339744344990947 threshold: 0.19\n",
      "18.220383275261323 19.217950849560996\n",
      "Fscore: 0.567616241962028, Precision: 0.4248142383509326, Recall: 0.8550390082443299 S: 19.68119050304957, RU: 4.244952857359313, MI: 19.217950849560566 threshold: 0.2\n",
      "17.566202090592334 18.314622066477153\n",
      "Fscore: 0.5741902554662179, Precision: 0.4328110288604909, Recall: 0.8527410986284687 S: 18.810421261479448, RU: 4.290287472470755, MI: 18.31462206647679 threshold: 0.21\n",
      "16.973867595818817 17.445196125756187\n",
      "Fscore: 0.5800247888441933, Precision: 0.4401625267150597, Recall: 0.8501663392373657 S: 17.978001458232704, RU: 4.3443835657239145, MI: 17.4451961257558 threshold: 0.22\n",
      "16.403310104529616 16.6348612723874\n",
      "Fscore: 0.5861169751096518, Precision: 0.4479118531383707, Recall: 0.8476688236252243 S: 17.20600186152614, RU: 4.396349679823319, MI: 16.634861272386928 threshold: 0.23\n",
      "15.843205574912892 15.91982226929162\n",
      "Fscore: 0.5924500886795524, Precision: 0.4559447320835842, Recall: 0.8456205392449068 S: 16.52693705868728, RU: 4.438345125831687, MI: 15.919822269291108 threshold: 0.24\n",
      "15.279616724738675 15.207925849713497\n",
      "Fscore: 0.5984165216561975, Precision: 0.4640165455372429, Recall: 0.8424187159685763 S: 15.85956428920381, RU: 4.4994189394877, MI: 15.207925849712975 threshold: 0.25\n",
      "14.760452961672474 14.549289265139338\n",
      "Fscore: 0.6040207551807593, Precision: 0.4716479897830852, Recall: 0.8396875294514321 S: 15.245563335321828, RU: 4.554710011693982, MI: 14.549289265138823 threshold: 0.26\n",
      "14.292682926829269 13.970574906414281\n",
      "Fscore: 0.6089497214075812, Precision: 0.4784401344151034, Recall: 0.8373682297242778 S: 14.70526328175267, RU: 4.5899678615373345, MI: 13.970574906413756 threshold: 0.27\n",
      "13.831881533101045 13.361651662786953\n",
      "Fscore: 0.6134815418253131, Precision: 0.48514329418450053, Recall: 0.8341430677777054 S: 14.143757908603023, RU: 4.638119513286311, MI: 13.361651662786429 threshold: 0.28\n",
      "13.415505226480835 12.849671763462784\n",
      "Fscore: 0.6175719925555545, Precision: 0.49141687640298426, Recall: 0.8308707139985197 S: 13.677858545497518, RU: 4.687189985686496, MI: 12.849671763462275 threshold: 0.29\n",
      "13.02787456445993 12.36732861899928\n",
      "Fscore: 0.6210310067845425, Precision: 0.49704412520667046, Recall: 0.8274328370918461 S: 13.248442563385536, RU: 4.750832893821789, MI: 12.367328618998785 threshold: 0.3\n",
      "12.6698606271777 11.904789294270126\n",
      "Fscore: 0.625068738438492, Precision: 0.5033872859896666, Recall: 0.8243302254008401 S: 12.83784650172121, RU: 4.804819940517925, MI: 11.904789294269632 threshold: 0.31\n",
      "12.358885017421603 11.513612082757378\n",
      "Fscore: 0.6282968703234652, Precision: 0.5085512591811864, Recall: 0.8218017566211446 S: 12.493562794487799, RU: 4.850345153450797, MI: 11.51361208275692 threshold: 0.32\n",
      "11.994773519163763 11.055973048706026\n",
      "Fscore: 0.6323729263173422, Precision: 0.5150059207982421, Recall: 0.8190239654419077 S: 12.095897778472041, RU: 4.906750759264267, MI: 11.055973048705592 threshold: 0.33\n",
      "11.641114982578397 10.604815013171098\n",
      "Fscore: 0.6354313081296896, Precision: 0.520672773932845, Recall: 0.815078037328383 S: 11.709608889535959, RU: 4.965162523254325, MI: 10.604815013170683 threshold: 0.34\n",
      "11.304006968641115 10.219914193532611\n",
      "Fscore: 0.6395976476764286, Precision: 0.5273977355772715, Recall: 0.8124376670362738 S: 11.386545201219356, RU: 5.020633973538598, MI: 10.219914193532231 threshold: 0.35\n",
      "10.990418118466899 9.874198899008903\n",
      "Fscore: 0.643178470440379, Precision: 0.5335727967613026, Recall: 0.8094555370109943 S: 11.104397874705976, RU: 5.08014254353097, MI: 9.874198899008531 threshold: 0.36\n",
      "10.679442508710801 9.553557802741654\n",
      "Fscore: 0.6468628445647167, Precision: 0.5398876011998973, Recall: 0.8067065380250258 S: 10.83873489546032, RU: 5.119346388334183, MI: 9.55355780274129 threshold: 0.37\n",
      "10.371080139372822 9.197615715306293\n",
      "Fscore: 0.6507808941965345, Precision: 0.5463579655429777, Recall: 0.804551112014287 S: 10.541186221750618, RU: 5.14980311421539, MI: 9.197615715305925 threshold: 0.38\n",
      "10.111498257839722 8.88742811992617\n",
      "Fscore: 0.6539934019899565, Precision: 0.552085812705353, Recall: 0.8020389704726035 S: 10.29421460287092, RU: 5.19465838175261, MI: 8.887428119925822 threshold: 0.39\n"
     ]
    },
    {
     "name": "stdout",
     "output_type": "stream",
     "text": [
      "9.87020905923345 8.628710424154413\n",
      "Fscore: 0.6569590153248824, Precision: 0.5574857388840062, Recall: 0.7996404292609762 S: 10.095120001692871, RU: 5.239924070506553, MI: 8.628710424154093 threshold: 0.4\n",
      "9.590592334494774 8.318241455778658\n",
      "Fscore: 0.6600352921035794, Precision: 0.5633422849686868, Recall: 0.7967992393337371 S: 9.85112753173147, RU: 5.277458927344445, MI: 8.31824145577839 threshold: 0.41\n",
      "9.326655052264808 8.01000465223538\n",
      "Fscore: 0.6629587722974688, Precision: 0.5693681217911405, Recall: 0.7933700391248847 S: 9.61944540932555, RU: 5.3266833446494175, MI: 8.010004652235159 threshold: 0.42\n",
      "9.076655052264808 7.754157022783947\n",
      "Fscore: 0.6665520677198566, Precision: 0.575734695471443, Recall: 0.7913867650136515 S: 9.426184556286467, RU: 5.359664556218686, MI: 7.7541570227837555 threshold: 0.43\n",
      "8.831881533101045 7.466946735369191\n",
      "Fscore: 0.6694631605873151, Precision: 0.5813422047685546, Recall: 0.7890722279622848 S: 9.217689169073717, RU: 5.404673909573124, MI: 7.4669467353690475 threshold: 0.44\n",
      "8.613240418118467 7.209697180457022\n",
      "Fscore: 0.6714583261041598, Precision: 0.5860354796069557, Recall: 0.7860337038044073 S: 9.04374813547836, RU: 5.459821142132804, MI: 7.209697180456884 threshold: 0.45\n",
      "8.40766550522648 6.965292198047665\n",
      "Fscore: 0.6734091480418679, Precision: 0.5909809543160935, Recall: 0.7825579011566306 S: 8.884033279410316, RU: 5.514594446148137, MI: 6.965292198047555 threshold: 0.46\n",
      "8.19773519163763 6.731025843633951\n",
      "Fscore: 0.6756942992048305, Precision: 0.5962290667274663, Recall: 0.779599025138021 S: 8.7334453832344, RU: 5.5647425236278, MI: 6.731025843633849 threshold: 0.47\n",
      "8.032229965156795 6.546310706959312\n",
      "Fscore: 0.6774555734099018, Precision: 0.6006065127767083, Recall: 0.7768562105258143 S: 8.61665528997082, RU: 5.602906791490752, MI: 6.546310706959221 threshold: 0.48\n",
      "7.808362369337979 6.316196752500417\n",
      "Fscore: 0.679474780747035, Precision: 0.6059544721070568, Recall: 0.7732989547412579 S: 8.480983983233251, RU: 5.659748042763326, MI: 6.316196752500326 threshold: 0.49\n",
      "7.623693379790941 6.121756915686751\n",
      "Fscore: 0.6807019806818203, Precision: 0.6106180449099756, Recall: 0.7689596374834211 S: 8.369956422040154, RU: 5.707912295410093, MI: 6.121756915686666 threshold: 0.5\n",
      "7.439895470383275 5.939170445213174\n",
      "Fscore: 0.6830188164051255, Precision: 0.6158489060690877, Recall: 0.7666347612700538 S: 8.264682987943923, RU: 5.747281036622182, MI: 5.939170445213097 threshold: 0.51\n",
      "7.270034843205575 5.7562458407739685\n",
      "Fscore: 0.6841981740047431, Precision: 0.620446822472091, Recall: 0.7625508112830159 S: 8.170989651724629, RU: 5.799198712681275, MI: 5.756245840773898 threshold: 0.52\n",
      "7.053135888501743 5.567872611008882\n",
      "Fscore: 0.6862164640258868, Precision: 0.6263032195437763, Recall: 0.7588050630249351 S: 8.077877361590406, RU: 5.852426612651603, MI: 5.567872611008812 threshold: 0.53\n",
      "6.895470383275262 5.408411013128714\n",
      "Fscore: 0.6875139905591864, Precision: 0.6308956281346317, Recall: 0.755296434012352 S: 7.998119739583755, RU: 5.8922839104873415, MI: 5.408411013128655 threshold: 0.54\n",
      "6.718641114982578 5.234136440609335\n",
      "Fscore: 0.6892145280981101, Precision: 0.6360185856948268, Recall: 0.7521211717610145 S: 7.9056093477198015, RU: 5.9247341611114255, MI: 5.234136440609282 threshold: 0.55\n",
      "6.551393728222997 5.062951563035366\n",
      "Fscore: 0.6898301428853796, Precision: 0.6403046405180675, Recall: 0.7476591726670562 S: 7.827457714501541, RU: 5.969557415978835, MI: 5.06295156303532 threshold: 0.56\n",
      "6.388501742160279 4.883862217854213\n",
      "Fscore: 0.691005024064408, Precision: 0.64531150520889, Recall: 0.7436626357687656 S: 7.744863615760454, RU: 6.010890305416219, MI: 4.883862217854165 threshold: 0.57\n",
      "6.2212543554006965 4.694360052953124\n",
      "Fscore: 0.6920170572978079, Precision: 0.6502335549359057, Recall: 0.7395392758032663 S: 7.6698231985415255, RU: 6.065407784322837, MI: 4.694360052953084 threshold: 0.58\n",
      "6.051393728222997 4.5487194544218035\n",
      "Fscore: 0.693044421340576, Precision: 0.6553244186823811, Recall: 0.7353718994753663 S: 7.627958320681238, RU: 6.123307886021666, MI: 4.548719454421761 threshold: 0.59\n",
      "5.871951219512195 4.3779025244685545\n",
      "Fscore: 0.6945122858781522, Precision: 0.6612495277634326, Recall: 0.7312987203850263 S: 7.560930772551138, RU: 6.164547317813605, MI: 4.37790252446852 threshold: 0.6\n",
      "5.729965156794425 4.2450400842871305\n",
      "Fscore: 0.6956668888190446, Precision: 0.665874074283321, Recall: 0.7282505788423193 S: 7.52147517886001, RU: 6.2090436903764, MI: 4.245040084287102 threshold: 0.61\n",
      "5.594947735191638 4.137872745280362\n",
      "Fscore: 0.6963476752458397, Precision: 0.6703647792904299, Recall: 0.7244259463186742 S: 7.5049912350605545, RU: 6.261222131677005, MI: 4.137872745280333 threshold: 0.62\n",
      "5.4520905923344944 4.003813338307401\n",
      "Fscore: 0.6962105798766621, Precision: 0.6750378238302507, Recall: 0.7187545227953751 S: 7.480558517029072, RU: 6.3188792106423515, MI: 4.003813338307381 threshold: 0.63\n",
      "5.29616724738676 3.872145169765057\n",
      "Fscore: 0.6973952955473999, Precision: 0.6807293844462565, Recall: 0.7148977308784699 S: 7.448298235854473, RU: 6.36267541168792, MI: 3.8721451697650515 threshold: 0.64\n",
      "5.155052264808362 3.7422926442947837\n",
      "Fscore: 0.6976646975871138, Precision: 0.6854596475516975, Recall: 0.7103122644561813 S: 7.422719707173897, RU: 6.410305266968565, MI: 3.7422926442947815 threshold: 0.65\n",
      "5.014808362369338 3.609091757702467\n",
      "Fscore: 0.6982033771250883, Precision: 0.6901166218552666, Recall: 0.7064818999816328 S: 7.396970209134132, RU: 6.456750340481029, MI: 3.6090917577024784 threshold: 0.66\n",
      "4.883275261324042 3.506391872565287\n",
      "Fscore: 0.6984223001799199, Precision: 0.6944971513181648, Recall: 0.7023920694245811 S: 7.377643186866383, RU: 6.4911351109589415, MI: 3.5063918725653034 threshold: 0.67\n",
      "4.736062717770035 3.4098319120332157\n",
      "Fscore: 0.6991709456116489, Precision: 0.7001801980599106, Recall: 0.6981645984852045 S: 7.364420677535071, RU: 6.527460321394985, MI: 3.4098319120332308 threshold: 0.68\n",
      "4.601916376306621 3.284263774814669\n",
      "Fscore: 0.6995669860795836, Precision: 0.7051944261375075, Recall: 0.6940286487437666 S: 7.348658707170225, RU: 6.5739178768759166, MI: 3.284263774814685 threshold: 0.69\n",
      "4.474738675958188 3.1696526438336288\n",
      "Fscore: 0.6993022590938935, Precision: 0.7095993956275028, Recall: 0.6892996955052977 S: 7.345490461397952, RU: 6.6264268075582535, MI: 3.1696526438336456 threshold: 0.7\n",
      "4.350174216027875 3.06890365385518\n",
      "Fscore: 0.6995614010714991, Precision: 0.7147062823959386, Recall: 0.6850450518142339 S: 7.345285256752782, RU: 6.673458313829794, MI: 3.068903653855199 threshold: 0.71\n",
      "4.206445993031359 2.948888896608458\n",
      "Fscore: 0.6992234511366273, Precision: 0.7200810807597594, Recall: 0.6795401175987165 S: 7.353407541154592, RU: 6.736219766439367, MI: 2.9488888966084814 threshold: 0.72\n",
      "4.076655052264808 2.841898531903154\n",
      "Fscore: 0.6982153275103391, Precision: 0.7249936400487796, Recall: 0.6733447158908771 S: 7.372716727043412, RU: 6.802982042574585, MI: 2.84189853190318 threshold: 0.73\n",
      "3.9581881533101044 2.744195324860069\n",
      "Fscore: 0.6978569831026893, Precision: 0.7301798176439888, Recall: 0.668274507902541 S: 7.380704776436508, RU: 6.851583394802158, MI: 2.744195324860097 threshold: 0.74\n",
      "3.8449477351916377 2.661203760955668\n",
      "Fscore: 0.696953822545683, Precision: 0.7345222496428523, Recall: 0.663041408290204 S: 7.395797413706069, RU: 6.900421286215547, MI: 2.661203760955698 threshold: 0.75\n",
      "3.7290940766550524 2.5740004593232877\n",
      "Fscore: 0.6947645118510531, Precision: 0.739011952126123, Recall: 0.6555162736025144 S: 7.452021246875496, RU: 6.993364161781309, MI: 2.5740004593233157 threshold: 0.76\n",
      "3.5949477351916377 2.4829713507372677\n",
      "Fscore: 0.694549046758061, Precision: 0.7451914433030428, Recall: 0.6503518456782756 S: 7.461359390076494, RU: 7.036102416771693, MI: 2.482971350737298 threshold: 0.77\n",
      "3.4625435540069684 2.3911521915847276\n",
      "Fscore: 0.692995678799684, Precision: 0.7506393406540378, Recall: 0.6435738692957257 S: 7.495666831041739, RU: 7.104041978948232, MI: 2.391152191584757 threshold: 0.78\n",
      "3.336236933797909 2.288238174020582\n",
      "Fscore: 0.6917136582472606, Precision: 0.7568326235639843, Recall: 0.6369127693264842 S: 7.517661145648125, RU: 7.1609493197300536, MI: 2.2882381740206097 threshold: 0.79\n"
     ]
    },
    {
     "name": "stdout",
     "output_type": "stream",
     "text": [
      "3.2090592334494774 2.1936904522469893\n",
      "Fscore: 0.6899059212998161, Precision: 0.7623928421980052, Recall: 0.6300060912224998 S: 7.556270955798274, RU: 7.230833489796377, MI: 2.193690452247013 threshold: 0.8\n",
      "3.0888501742160277 2.1062846004846874\n",
      "Fscore: 0.6869731353111672, Precision: 0.767204039542276, Recall: 0.6219339529721939 S: 7.6088587253039375, RU: 7.311518056012365, MI: 2.1062846004847104 threshold: 0.81\n",
      "2.9547038327526134 2.0082429606089103\n",
      "Fscore: 0.6845028725327241, Precision: 0.7739889815892498, Recall: 0.6135645219485073 S: 7.658523608843422, RU: 7.390530703432382, MI: 2.0082429606089325 threshold: 0.82\n",
      "2.8162020905923346 1.893239612192992\n",
      "Fscore: 0.6823975404416697, Precision: 0.7801696393808862, Recall: 0.6064022472145754 S: 7.701676990306746, RU: 7.465351447443291, MI: 1.8932396121930066 threshold: 0.83\n",
      "2.6951219512195124 1.7888220549780676\n",
      "Fscore: 0.6798815209966882, Precision: 0.7868520127890579, Recall: 0.5985149629957596 S: 7.7577238383483715, RU: 7.548668412885983, MI: 1.7888220549780802 threshold: 0.84\n",
      "2.5853658536585367 1.6999136535636987\n",
      "Fscore: 0.6777757803646447, Precision: 0.7927547191199624, Recall: 0.5919246727580437 S: 7.801419998460118, RU: 7.613963984863676, MI: 1.6999136535637098 threshold: 0.85\n",
      "2.4625435540069684 1.614642350966207\n",
      "Fscore: 0.6749964917595003, Precision: 0.8003418247155086, Recall: 0.5835966497042696 S: 7.83986607794911, RU: 7.671794457533613, MI: 1.614642350966214 threshold: 0.86\n",
      "2.3458188153310107 1.5491737560597851\n",
      "Fscore: 0.6723419310065007, Precision: 0.8074214061379016, Recall: 0.5759817079509207 S: 7.9021348069351225, RU: 7.748793143484422, MI: 1.5491737560597891 threshold: 0.87\n",
      "2.226480836236934 1.4628804537586833\n",
      "Fscore: 0.6671875218721494, Precision: 0.8131395932748363, Recall: 0.5656566626043785 S: 7.973485064189647, RU: 7.838140394689684, MI: 1.462880453758686 threshold: 0.88\n",
      "2.093205574912892 1.368721081975776\n",
      "Fscore: 0.6633174303360123, Precision: 0.8204366319535582, Recall: 0.5567046912020529 S: 8.033183321325458, RU: 7.915720868864476, MI: 1.368721081975777 threshold: 0.89\n",
      "1.9337979094076656 1.2569940937789843\n",
      "Fscore: 0.6585346967847013, Precision: 0.8295204392772024, Recall: 0.5459916199516943 S: 8.11161931271854, RU: 8.013634239386844, MI: 1.256994093778985 threshold: 0.9\n",
      "1.8231707317073171 1.1691472417167135\n",
      "Fscore: 0.6523870940719095, Precision: 0.8363420097437972, Recall: 0.5347646550681537 S: 8.206573087595514, RU: 8.12286504684358, MI: 1.1691472417167135 threshold: 0.91\n",
      "1.6907665505226481 1.0914256978705859\n",
      "Fscore: 0.6453983550672777, Precision: 0.8444634714603854, Recall: 0.5222811734521006 S: 8.307069649541415, RU: 8.23505896204513, MI: 1.0914256978705874 threshold: 0.92\n",
      "1.5548780487804879 0.9790292955028412\n",
      "Fscore: 0.6378671653918216, Precision: 0.8532677027138242, Recall: 0.5092987986919234 S: 8.40981692307544, RU: 8.352635650990246, MI: 0.9790292955028407 threshold: 0.93\n",
      "1.4250871080139373 0.8703278615534713\n",
      "Fscore: 0.6296659989565163, Precision: 0.8617366076853935, Recall: 0.49607118491538194 S: 8.52849734625274, RU: 8.483972913584992, MI: 0.8703278615534684 threshold: 0.94\n",
      "1.2726480836236933 0.757318966695986\n",
      "Fscore: 0.6185982334879357, Precision: 0.8719018476515717, Recall: 0.47934085021417 S: 8.65314703640471, RU: 8.619943249019805, MI: 0.7573189666959852 threshold: 0.95\n",
      "1.1289198606271778 0.6496807380518075\n",
      "Fscore: 0.6052193137703863, Precision: 0.8816151269248035, Recall: 0.4607646470857343 S: 8.83754139943171, RU: 8.813628817080616, MI: 0.6496807380518073 threshold: 0.96\n",
      "0.9947735191637631 0.5652376584537722\n",
      "Fscore: 0.586281232307112, Precision: 0.8917385997815634, Recall: 0.43669509376483995 S: 9.008465623555526, RU: 8.990715170677323, MI: 0.5652376584537712 threshold: 0.97\n",
      "0.8074912891986062 0.452061794272201\n",
      "Fscore: 0.5596049484537836, Precision: 0.9085508548643295, Recall: 0.40431877835497415 S: 9.220408575449213, RU: 9.209319976652825, MI: 0.4520617942722014 threshold: 0.98\n",
      "0.5592334494773519 0.30502102267095305\n",
      "Fscore: 0.5113801259989544, Precision: 0.9313945039974932, Recall: 0.3524445082124081 S: 9.536670944550497, RU: 9.531791797996977, MI: 0.3050210226709535 threshold: 0.99\n",
      "0.0 0.0\n",
      "Fscore: 0.0822278815565866, Precision: 1.0, Recall: 0.04287677392209039 S: 10.624241168351684, RU: 10.624241168351684, MI: 0.0 threshold: 1.0\n",
      "\n",
      "Final Results (Maximal F1-score):\n",
      "Fmax: 0.700, Smin: 7.345, threshold: 0.69\n",
      "AUPR: 0.710\n"
     ]
    }
   ],
   "source": [
    "\n",
    "recs = []\n",
    "precs = []\n",
    "f1s = []\n",
    "\n",
    "for i in range(1):\n",
    "    \n",
    "#     print('Splitting into train-test...')\n",
    "#     X_train_ng, y_train, X_test_ng, y_test, start_index, prev_index1 = train_test_split(X_ng,y,i,prev_index,Kfolds)\n",
    "#     X_train_sg, _, X_test_sg, _, _, _= train_test_split(X_sg,y,i,prev_index,Kfolds)\n",
    "    \n",
    "#     prev_index = prev_index1\n",
    "    \n",
    "    print('Tokenizing...')\n",
    "    X_train_ng, X_test_ng, vocab_size_ng, tokenizer1 = tokenization(X_train_ng, X_test_ng, MAX_LEN_NG)  \n",
    "    X_train_sg, X_test_sg, vocab_size_sg, tokenizer2 = tokenization(X_train_sg, X_test_sg, MAX_LEN_SG)\n",
    "    \n",
    "   \n",
    "    print('Shuffling...')   \n",
    "    shuffled = [[X_train_ng[i],X_train_sg[i],y_train[i]] for i in range(len(X_train_ng))]\n",
    "    np.random.shuffle(shuffled)\n",
    "\n",
    "    X_train_ng = [shuffled[i][0] for i in range(len(shuffled))]\n",
    "    X_train_sg = [shuffled[i][1] for i in range(len(shuffled))]\n",
    "    y_train = [shuffled[i][2] for i in range(len(shuffled))]\n",
    "    X_train_ng = np.array(X_train_ng)\n",
    "    X_train_sg = np.array(X_train_sg)\n",
    "    y_train = np.array(y_train)\n",
    "    \n",
    "    \n",
    "    model = get_model_ng_sg(vocab_size_ng, vocab_size_sg)\n",
    "    \n",
    "    model.compile(\n",
    "        loss=custom_loss, \n",
    "        optimizer='adam', \n",
    "        metrics=[\n",
    "            recall,\n",
    "            precision,\n",
    "            f1_score\n",
    "        ])\n",
    "\n",
    "    print('Training...')\n",
    "    history = model.fit([X_train_ng,X_train_sg], y_train, batch_size=32, epochs=10,validation_split=0.2)\n",
    "    \n",
    "    print('Evaluating model...')\n",
    "    predictions = model.predict([X_test_ng,X_test_sg])\n",
    "    \n",
    "    print('Computing Metrics...\\n')\n",
    "    compute_metrics(predictions)\n",
    "    \n",
    "#     recs.append(rec.numpy())\n",
    "#     precs.append(prec.numpy())\n",
    "#     f1s.append(f1.numpy())\n",
    "\n",
    "# print('Recall:',sum(recs)/len(recs))\n",
    "# print('Precision:',sum(precs)/len(precs))\n",
    "# print('F1-Score:',sum(f1s)/len(f1s))"
   ]
  },
  {
   "cell_type": "code",
   "execution_count": 33,
   "id": "f3d5d51f",
   "metadata": {},
   "outputs": [
    {
     "name": "stdout",
     "output_type": "stream",
     "text": [
      "24017\n"
     ]
    }
   ],
   "source": [
    "print(len(predictions))"
   ]
  },
  {
   "cell_type": "code",
   "execution_count": 34,
   "id": "d734cd02",
   "metadata": {},
   "outputs": [],
   "source": [
    "model.save('cc_model.h5')"
   ]
  },
  {
   "cell_type": "code",
   "execution_count": 35,
   "id": "eb50bb0b",
   "metadata": {},
   "outputs": [],
   "source": [
    "np.save('cc_predictions',predictions)"
   ]
  },
  {
   "cell_type": "code",
   "execution_count": 70,
   "id": "ab990bc8",
   "metadata": {},
   "outputs": [
    {
     "name": "stdout",
     "output_type": "stream",
     "text": [
      "35365\n"
     ]
    }
   ],
   "source": [
    "predictions = np.load('cc_predictions.npy')\n",
    "print(len(predictions))"
   ]
  },
  {
   "cell_type": "code",
   "execution_count": null,
   "id": "f2506bfb",
   "metadata": {},
   "outputs": [],
   "source": []
  }
 ],
 "metadata": {
  "kernelspec": {
   "display_name": "Python 3",
   "language": "python",
   "name": "python3"
  },
  "language_info": {
   "codemirror_mode": {
    "name": "ipython",
    "version": 3
   },
   "file_extension": ".py",
   "mimetype": "text/x-python",
   "name": "python",
   "nbconvert_exporter": "python",
   "pygments_lexer": "ipython3",
   "version": "3.8.8"
  }
 },
 "nbformat": 4,
 "nbformat_minor": 5
}
