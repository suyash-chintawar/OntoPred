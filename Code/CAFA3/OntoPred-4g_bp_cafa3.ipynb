{
 "cells": [
  {
   "cell_type": "code",
   "execution_count": 1,
   "id": "a056c8a4",
   "metadata": {},
   "outputs": [
    {
     "name": "stdout",
     "output_type": "stream",
     "text": [
      "Fri Jan 27 23:52:57 2023       \r\n",
      "+-----------------------------------------------------------------------------+\r\n",
      "| NVIDIA-SMI 460.106.00   Driver Version: 460.106.00   CUDA Version: 11.2     |\r\n",
      "|-------------------------------+----------------------+----------------------+\r\n",
      "| GPU  Name        Persistence-M| Bus-Id        Disp.A | Volatile Uncorr. ECC |\r\n",
      "| Fan  Temp  Perf  Pwr:Usage/Cap|         Memory-Usage | GPU-Util  Compute M. |\r\n",
      "|                               |                      |               MIG M. |\r\n",
      "|===============================+======================+======================|\r\n",
      "|   0  Tesla V100-DGXS...  Off  | 00000000:07:00.0 Off |                    0 |\r\n",
      "| N/A   40C    P0    53W / 300W |      0MiB / 32508MiB |      0%      Default |\r\n",
      "|                               |                      |                  N/A |\r\n",
      "+-------------------------------+----------------------+----------------------+\r\n",
      "|   1  Tesla V100-DGXS...  Off  | 00000000:08:00.0 Off |                    0 |\r\n",
      "| N/A   39C    P0    52W / 300W |      0MiB / 32508MiB |      0%      Default |\r\n",
      "|                               |                      |                  N/A |\r\n",
      "+-------------------------------+----------------------+----------------------+\r\n",
      "|   2  Tesla V100-DGXS...  Off  | 00000000:0E:00.0 Off |                    0 |\r\n",
      "| N/A   39C    P0    53W / 300W |      0MiB / 32508MiB |      0%      Default |\r\n",
      "|                               |                      |                  N/A |\r\n",
      "+-------------------------------+----------------------+----------------------+\r\n",
      "|   3  Tesla V100-DGXS...  Off  | 00000000:0F:00.0 Off |                    0 |\r\n",
      "| N/A   40C    P0    53W / 300W |      0MiB / 32508MiB |      0%      Default |\r\n",
      "|                               |                      |                  N/A |\r\n",
      "+-------------------------------+----------------------+----------------------+\r\n",
      "                                                                               \r\n",
      "+-----------------------------------------------------------------------------+\r\n",
      "| Processes:                                                                  |\r\n",
      "|  GPU   GI   CI        PID   Type   Process name                  GPU Memory |\r\n",
      "|        ID   ID                                                   Usage      |\r\n",
      "|=============================================================================|\r\n",
      "|  No running processes found                                                 |\r\n",
      "+-----------------------------------------------------------------------------+\r\n"
     ]
    }
   ],
   "source": [
    "!nvidia-smi"
   ]
  },
  {
   "cell_type": "code",
   "execution_count": 2,
   "id": "86add81b",
   "metadata": {},
   "outputs": [],
   "source": [
    "import os\n",
    "os.environ[\"CUDA_VISIBLE_DEVICES\"]=\"3\""
   ]
  },
  {
   "cell_type": "code",
   "execution_count": 3,
   "id": "6fb10a5a",
   "metadata": {},
   "outputs": [
    {
     "name": "stderr",
     "output_type": "stream",
     "text": [
      "2023-01-27 23:53:02.957375: I tensorflow/core/platform/cpu_feature_guard.cc:193] This TensorFlow binary is optimized with oneAPI Deep Neural Network Library (oneDNN) to use the following CPU instructions in performance-critical operations:  AVX2 FMA\n",
      "To enable them in other operations, rebuild TensorFlow with the appropriate compiler flags.\n",
      "2023-01-27 23:53:03.130724: E tensorflow/stream_executor/cuda/cuda_blas.cc:2981] Unable to register cuBLAS factory: Attempting to register factory for plugin cuBLAS when one has already been registered\n"
     ]
    },
    {
     "name": "stdout",
     "output_type": "stream",
     "text": [
      "[name: \"/device:CPU:0\"\n",
      "device_type: \"CPU\"\n",
      "memory_limit: 268435456\n",
      "locality {\n",
      "}\n",
      "incarnation: 3224009696458445910\n",
      "xla_global_id: -1\n",
      ", name: \"/device:GPU:0\"\n",
      "device_type: \"GPU\"\n",
      "memory_limit: 32476168192\n",
      "locality {\n",
      "  bus_id: 1\n",
      "  links {\n",
      "  }\n",
      "}\n",
      "incarnation: 9848476473341986004\n",
      "physical_device_desc: \"device: 0, name: Tesla V100-DGXS-32GB, pci bus id: 0000:0f:00.0, compute capability: 7.0\"\n",
      "xla_global_id: 416903419\n",
      "]\n"
     ]
    },
    {
     "name": "stderr",
     "output_type": "stream",
     "text": [
      "2023-01-27 23:53:22.990867: I tensorflow/core/platform/cpu_feature_guard.cc:193] This TensorFlow binary is optimized with oneAPI Deep Neural Network Library (oneDNN) to use the following CPU instructions in performance-critical operations:  AVX2 FMA\n",
      "To enable them in other operations, rebuild TensorFlow with the appropriate compiler flags.\n",
      "2023-01-27 23:53:27.170180: I tensorflow/core/common_runtime/gpu/gpu_device.cc:1616] Created device /device:GPU:0 with 30971 MB memory:  -> device: 0, name: Tesla V100-DGXS-32GB, pci bus id: 0000:0f:00.0, compute capability: 7.0\n"
     ]
    }
   ],
   "source": [
    "from tensorflow.python.client import device_lib\n",
    "print(device_lib.list_local_devices())"
   ]
  },
  {
   "cell_type": "code",
   "execution_count": 7,
   "id": "d8be3b48",
   "metadata": {},
   "outputs": [],
   "source": [
    "import gc\n",
    "import gdown\n",
    "import numpy as np\n",
    "import pandas as pd\n",
    "from tqdm import tqdm\n",
    "import matplotlib.pyplot as plt\n",
    "from collections import defaultdict\n",
    "import tqdm.notebook as tqdm"
   ]
  },
  {
   "cell_type": "code",
   "execution_count": 8,
   "id": "e6e98a41",
   "metadata": {},
   "outputs": [],
   "source": [
    "aspect = ['biological','process']\n",
    "aspect_abbr = 'bp'"
   ]
  },
  {
   "cell_type": "code",
   "execution_count": 9,
   "id": "5ce40988",
   "metadata": {},
   "outputs": [],
   "source": [
    "file = 'cafa3_train/bp_df.csv'\n",
    "# if not os.path.exists(file):\n",
    "#     url = \"https://drive.google.com/file/d/1RyeLQPFTMWAIr-OzELTWIx60ln-mZ7g_/view?usp=sharing\"\n",
    "#     output = file\n",
    "#     gdown.download(url=url, output=output, quiet=False, fuzzy=True)"
   ]
  },
  {
   "cell_type": "code",
   "execution_count": 10,
   "id": "bd949fb2",
   "metadata": {},
   "outputs": [
    {
     "data": {
      "text/html": [
       "<div>\n",
       "<style scoped>\n",
       "    .dataframe tbody tr th:only-of-type {\n",
       "        vertical-align: middle;\n",
       "    }\n",
       "\n",
       "    .dataframe tbody tr th {\n",
       "        vertical-align: top;\n",
       "    }\n",
       "\n",
       "    .dataframe thead th {\n",
       "        text-align: right;\n",
       "    }\n",
       "</style>\n",
       "<table border=\"1\" class=\"dataframe\">\n",
       "  <thead>\n",
       "    <tr style=\"text-align: right;\">\n",
       "      <th></th>\n",
       "      <th>Entry</th>\n",
       "      <th>Sequence</th>\n",
       "      <th>Gene Ontology (biological process)</th>\n",
       "    </tr>\n",
       "  </thead>\n",
       "  <tbody>\n",
       "    <tr>\n",
       "      <th>0</th>\n",
       "      <td>A0A060X6Z0</td>\n",
       "      <td>MPISSSSSSSTKSMRRAASELERSDSVTSPRFIGRRQSLIEDARKE...</td>\n",
       "      <td>GO:0008152;GO:0055114;GO:0044710;GO:0008150;GO...</td>\n",
       "    </tr>\n",
       "    <tr>\n",
       "      <th>1</th>\n",
       "      <td>A0A075F932</td>\n",
       "      <td>MVSESHHEALAAPPATTVAAAPPSNVTEPASPGGGGGKEDAFSKLK...</td>\n",
       "      <td>GO:0046883;GO:0009987;GO:0044763;GO:0044765;GO...</td>\n",
       "    </tr>\n",
       "    <tr>\n",
       "      <th>2</th>\n",
       "      <td>A0A078CGE6</td>\n",
       "      <td>MARQMTSSQFHKSKTLDNKYMLGDEIGKGAYGRVYIGLDLENGDFV...</td>\n",
       "      <td>GO:0009987;GO:0071704;GO:0043170;GO:0043412;GO...</td>\n",
       "    </tr>\n",
       "    <tr>\n",
       "      <th>3</th>\n",
       "      <td>A0A086F3E3</td>\n",
       "      <td>MTKGRLEAFSDGVLAIIITIMVLELKVPEGSSWASLQPILPRFLAY...</td>\n",
       "      <td>GO:0009987;GO:0044763;GO:0044765;GO:0098655;GO...</td>\n",
       "    </tr>\n",
       "    <tr>\n",
       "      <th>4</th>\n",
       "      <td>A0A087X1C5</td>\n",
       "      <td>MGLEALVPLAMIVAIFLLLVDLMHRHQRWAARYPPGPLPLPGLGNL...</td>\n",
       "      <td>GO:0009410;GO:0070887;GO:0009987;GO:0051716;GO...</td>\n",
       "    </tr>\n",
       "    <tr>\n",
       "      <th>...</th>\n",
       "      <td>...</td>\n",
       "      <td>...</td>\n",
       "      <td>...</td>\n",
       "    </tr>\n",
       "    <tr>\n",
       "      <th>53495</th>\n",
       "      <td>W5EP13</td>\n",
       "      <td>MLLFAPTPPPSPATAHRRPGGSAASCIRCSSVRELDRSPSRPPLPP...</td>\n",
       "      <td>GO:0009987;GO:0016311;GO:0008152;GO:0044237;GO...</td>\n",
       "    </tr>\n",
       "    <tr>\n",
       "      <th>53496</th>\n",
       "      <td>W8DXL4</td>\n",
       "      <td>MWLSACLCLVLSFLGGVNGTCPSQCSCEYHGRHDGSGSRLVLCNDL...</td>\n",
       "      <td>GO:0003008;GO:0050877;GO:0050953;GO:0007600;GO...</td>\n",
       "    </tr>\n",
       "    <tr>\n",
       "      <th>53497</th>\n",
       "      <td>W8E7I1</td>\n",
       "      <td>MSSEEGKLFVGGLNFNTDERALEDHFSSFGPISEVVVVKDRETQRS...</td>\n",
       "      <td>GO:0009987;GO:0051716;GO:0070417;GO:0009266;GO...</td>\n",
       "    </tr>\n",
       "    <tr>\n",
       "      <th>53498</th>\n",
       "      <td>X1WGX5</td>\n",
       "      <td>MEGKPRKKSFTPRDGKKPSFKSKGKPGGKPQGKRPFKPHNNDKGKG...</td>\n",
       "      <td>GO:0008354;GO:0009987;GO:0032504;GO:0044763;GO...</td>\n",
       "    </tr>\n",
       "    <tr>\n",
       "      <th>53499</th>\n",
       "      <td>X5M5N0</td>\n",
       "      <td>MPDSITNGGRPPAPPSSVSSTTASTTGNFGTRRRLVNRIKKVDELH...</td>\n",
       "      <td>GO:0034645;GO:0097659;GO:0051253;GO:0071704;GO...</td>\n",
       "    </tr>\n",
       "  </tbody>\n",
       "</table>\n",
       "<p>53500 rows × 3 columns</p>\n",
       "</div>"
      ],
      "text/plain": [
       "            Entry                                           Sequence  \\\n",
       "0      A0A060X6Z0  MPISSSSSSSTKSMRRAASELERSDSVTSPRFIGRRQSLIEDARKE...   \n",
       "1      A0A075F932  MVSESHHEALAAPPATTVAAAPPSNVTEPASPGGGGGKEDAFSKLK...   \n",
       "2      A0A078CGE6  MARQMTSSQFHKSKTLDNKYMLGDEIGKGAYGRVYIGLDLENGDFV...   \n",
       "3      A0A086F3E3  MTKGRLEAFSDGVLAIIITIMVLELKVPEGSSWASLQPILPRFLAY...   \n",
       "4      A0A087X1C5  MGLEALVPLAMIVAIFLLLVDLMHRHQRWAARYPPGPLPLPGLGNL...   \n",
       "...           ...                                                ...   \n",
       "53495      W5EP13  MLLFAPTPPPSPATAHRRPGGSAASCIRCSSVRELDRSPSRPPLPP...   \n",
       "53496      W8DXL4  MWLSACLCLVLSFLGGVNGTCPSQCSCEYHGRHDGSGSRLVLCNDL...   \n",
       "53497      W8E7I1  MSSEEGKLFVGGLNFNTDERALEDHFSSFGPISEVVVVKDRETQRS...   \n",
       "53498      X1WGX5  MEGKPRKKSFTPRDGKKPSFKSKGKPGGKPQGKRPFKPHNNDKGKG...   \n",
       "53499      X5M5N0  MPDSITNGGRPPAPPSSVSSTTASTTGNFGTRRRLVNRIKKVDELH...   \n",
       "\n",
       "                      Gene Ontology (biological process)  \n",
       "0      GO:0008152;GO:0055114;GO:0044710;GO:0008150;GO...  \n",
       "1      GO:0046883;GO:0009987;GO:0044763;GO:0044765;GO...  \n",
       "2      GO:0009987;GO:0071704;GO:0043170;GO:0043412;GO...  \n",
       "3      GO:0009987;GO:0044763;GO:0044765;GO:0098655;GO...  \n",
       "4      GO:0009410;GO:0070887;GO:0009987;GO:0051716;GO...  \n",
       "...                                                  ...  \n",
       "53495  GO:0009987;GO:0016311;GO:0008152;GO:0044237;GO...  \n",
       "53496  GO:0003008;GO:0050877;GO:0050953;GO:0007600;GO...  \n",
       "53497  GO:0009987;GO:0051716;GO:0070417;GO:0009266;GO...  \n",
       "53498  GO:0008354;GO:0009987;GO:0032504;GO:0044763;GO...  \n",
       "53499  GO:0034645;GO:0097659;GO:0051253;GO:0071704;GO...  \n",
       "\n",
       "[53500 rows x 3 columns]"
      ]
     },
     "execution_count": 10,
     "metadata": {},
     "output_type": "execute_result"
    }
   ],
   "source": [
    "df = pd.read_csv(file)\n",
    "df"
   ]
  },
  {
   "cell_type": "code",
   "execution_count": 11,
   "id": "724323ff",
   "metadata": {},
   "outputs": [
    {
     "name": "stdout",
     "output_type": "stream",
     "text": [
      "3992\n"
     ]
    }
   ],
   "source": [
    "go_terms_bp = set()\n",
    "for idx, row in df.iterrows():\n",
    "    for term in row['Gene Ontology ('+' '.join(aspect)+')'].split(';'):\n",
    "        go_terms_bp.add(term)\n",
    "go_terms_bp = list(go_terms_bp)\n",
    "go_terms_bp.sort()\n",
    "print(len(go_terms_bp))\n",
    "# print(go_terms_bp)"
   ]
  },
  {
   "cell_type": "code",
   "execution_count": 12,
   "id": "72f8a1f9",
   "metadata": {},
   "outputs": [],
   "source": [
    "def get_segments(sequence,segment_size=100,gap=30):\n",
    "    segments = []\n",
    "    start = 0\n",
    "    end = segment_size\n",
    "    while end <= len(sequence):\n",
    "        segments.append(sequence[start:end])\n",
    "        start += gap\n",
    "        end += gap\n",
    "    last_segment = sequence[start:]\n",
    "    segments.append(last_segment)\n",
    "    \n",
    "    return segments\n",
    "\n",
    "def get_training_data(df,segment_size=100,gap=30):\n",
    "    training_data = list()\n",
    "    for idx,row in tqdm.tqdm(df.iterrows()):\n",
    "        labels = [0] * len(go_terms_bp)\n",
    "        for term in row['Gene Ontology ('+' '.join(aspect)+')'].split(';'):\n",
    "            labels[go_terms_bp.index(term)] = 1\n",
    "        segments = get_segments(row['Sequence'],segment_size,gap)\n",
    "        for segment in segments:\n",
    "            training_data.append([row['Entry'],segment,labels])\n",
    "    return training_data"
   ]
  },
  {
   "cell_type": "code",
   "execution_count": 13,
   "id": "1f1d6c8d",
   "metadata": {},
   "outputs": [
    {
     "data": {
      "application/vnd.jupyter.widget-view+json": {
       "model_id": "18bc730aedd64e4fab5fb7d530acc6f0",
       "version_major": 2,
       "version_minor": 0
      },
      "text/plain": [
       "0it [00:00, ?it/s]"
      ]
     },
     "metadata": {},
     "output_type": "display_data"
    },
    {
     "name": "stdout",
     "output_type": "stream",
     "text": [
      "878652\n"
     ]
    }
   ],
   "source": [
    "training_data = get_training_data(df)\n",
    "print(len(training_data))"
   ]
  },
  {
   "cell_type": "code",
   "execution_count": 14,
   "id": "1c0991f7",
   "metadata": {},
   "outputs": [],
   "source": [
    "def get_ngrams(segment,n=3):\n",
    "    ngrams = []\n",
    "    for i in range(len(segment)-n+1):\n",
    "        ngrams.append(segment[i:i+n])\n",
    "    return ngrams"
   ]
  },
  {
   "cell_type": "code",
   "execution_count": 15,
   "id": "5358736d",
   "metadata": {},
   "outputs": [
    {
     "name": "stdout",
     "output_type": "stream",
     "text": [
      "Preparing from scratch...\n"
     ]
    },
    {
     "data": {
      "application/vnd.jupyter.widget-view+json": {
       "model_id": "512024bfcc7247da9ffdf6fe003e9bdb",
       "version_major": 2,
       "version_minor": 0
      },
      "text/plain": [
       "  0%|          | 0/878652 [00:00<?, ?it/s]"
      ]
     },
     "metadata": {},
     "output_type": "display_data"
    },
    {
     "name": "stdout",
     "output_type": "stream",
     "text": [
      "878652\n"
     ]
    }
   ],
   "source": [
    "# Generate training data of ngrams\n",
    "# if os.path.exists('bp/training_data_4grams.npy'):\n",
    "#     print('Loading saved ngrams...')\n",
    "#     training_data_ngrams = np.load('bp/training_data_4grams.npy',allow_pickle=True)\n",
    "# else:\n",
    "print('Preparing from scratch...')\n",
    "training_data_ngrams = []\n",
    "\n",
    "for i in tqdm.tqdm(range(len(training_data))):\n",
    "    training_data_ngrams.append([training_data[i][0],get_ngrams(training_data[i][1],n=4),training_data[i][2]])\n",
    "        \n",
    "#     np.save('bp/training_data_4grams.npy',training_data_ngrams)\n",
    "    \n",
    "print(len(training_data_ngrams))"
   ]
  },
  {
   "cell_type": "code",
   "execution_count": 16,
   "id": "4acd14a0",
   "metadata": {},
   "outputs": [],
   "source": [
    "def get_skip_grams(segment,skip=1,n=3):\n",
    "    skip_grams = []\n",
    "    window_size = skip + n\n",
    "    for i in range(len(segment)-window_size+1):\n",
    "        window = segment[i:i+window_size]\n",
    "        indices = list(range(window_size))\n",
    "        indices.pop(0)\n",
    "        for idx in indices[::-1]:\n",
    "            temp = ''\n",
    "            for j in range(window_size):\n",
    "                if j!=idx:\n",
    "                    temp+=window[j]\n",
    "            skip_grams.append(temp)\n",
    "\n",
    "    return skip_grams"
   ]
  },
  {
   "cell_type": "code",
   "execution_count": 17,
   "id": "fa91e8e9",
   "metadata": {},
   "outputs": [
    {
     "name": "stdout",
     "output_type": "stream",
     "text": [
      "Preparing from scratch...\n"
     ]
    },
    {
     "data": {
      "application/vnd.jupyter.widget-view+json": {
       "model_id": "fcc7070cbb6b4b54912576aacbbfd8f4",
       "version_major": 2,
       "version_minor": 0
      },
      "text/plain": [
       "  0%|          | 0/878652 [00:00<?, ?it/s]"
      ]
     },
     "metadata": {},
     "output_type": "display_data"
    },
    {
     "name": "stdout",
     "output_type": "stream",
     "text": [
      "878652\n"
     ]
    }
   ],
   "source": [
    "# if os.path.exists('bp/training_data_skip1_4grams.npy'):\n",
    "#     print('Loading saved skip grams...')\n",
    "#     training_data_skip_grams = np.load('bp/training_data_skip1_4grams.npy',allow_pickle=True)\n",
    "# else:\n",
    "print('Preparing from scratch...')\n",
    "training_data_skip_grams = []\n",
    "for i in tqdm.tqdm(range(len(training_data))):\n",
    "    training_data_skip_grams.append([training_data[i][0],get_skip_grams(training_data[i][1],n=4),training_data[i][2]])\n",
    "#     np.save('bp/training_data_skip1_4grams.npy',training_data_skip_grams)\n",
    "print(len(training_data_skip_grams))"
   ]
  },
  {
   "cell_type": "code",
   "execution_count": 18,
   "id": "11d856c7",
   "metadata": {},
   "outputs": [],
   "source": [
    "import tensorflow as tf\n",
    "import tensorflow_addons as tfa"
   ]
  },
  {
   "cell_type": "code",
   "execution_count": 19,
   "id": "0e391f5a",
   "metadata": {},
   "outputs": [],
   "source": [
    "#Assuming training_data as global variable\n",
    "\n",
    "def train_test_split(X,y,fold_no,prev_index,Kfolds=5):\n",
    "    test_split = 1/Kfolds\n",
    "    \n",
    "    start_index = prev_index\n",
    "    end_index = (fold_no + 1) * (test_split) * len(X)\n",
    "    end_index = round(end_index)\n",
    "    \n",
    "    if end_index==len(X):\n",
    "        end_index -= 1\n",
    "    \n",
    "    entry = training_data[end_index][0]\n",
    "    entries = [sample[0] for sample in training_data]\n",
    "    \n",
    "    first_occurence = entries.index(entry)\n",
    "    entries.reverse()\n",
    "    \n",
    "    last_occurence = entries.index(entry)\n",
    "    last_occurence = len(entries) - last_occurence - 1\n",
    "    \n",
    "    del entries\n",
    "    gc.collect()\n",
    "    \n",
    "    end_index = first_occurence if (abs(end_index-first_occurence) < abs(end_index-last_occurence)) else last_occurence\n",
    "    \n",
    "    X_test = X[start_index:end_index+1]\n",
    "    y_test = y[start_index:end_index+1]\n",
    "    X_train = X[:start_index]\n",
    "    X_train.extend(X[end_index+1:])\n",
    "    y_train = y[:start_index]\n",
    "    y_train.extend(y[end_index+1:])\n",
    "    \n",
    "    return X_train, y_train, X_test, y_test, start_index, end_index + 1"
   ]
  },
  {
   "cell_type": "code",
   "execution_count": 20,
   "id": "730f9429",
   "metadata": {},
   "outputs": [],
   "source": [
    "MAX_WORDS = 331776\n",
    "MAX_LEN_NG = 97 #100\n",
    "MAX_LEN_SG = 384 #300\n",
    "\n",
    "def tokenization(X_train,X_test,maxlen):\n",
    "\n",
    "    tokenizer = tf.keras.preprocessing.text.Tokenizer(num_words=MAX_WORDS)\n",
    "    tokenizer.fit_on_texts(X_train)\n",
    "\n",
    "    X_train = tokenizer.texts_to_sequences(X_train)\n",
    "    X_test = tokenizer.texts_to_sequences(X_test)\n",
    "\n",
    "    vocab_size = len(tokenizer.word_index) + 1\n",
    "\n",
    "    X_train = tf.keras.preprocessing.sequence.pad_sequences(X_train, padding='post', maxlen=maxlen)\n",
    "    X_test = tf.keras.preprocessing.sequence.pad_sequences(X_test, padding='post', maxlen=maxlen)\n",
    "    \n",
    "    return X_train, X_test, vocab_size, tokenizer"
   ]
  },
  {
   "cell_type": "code",
   "execution_count": 21,
   "id": "10a7f090",
   "metadata": {},
   "outputs": [],
   "source": [
    "from tensorflow.keras import backend as K\n",
    "\n",
    "false_negative_penalty = 6\n",
    "false_positive_penalty = 1\n",
    "\n",
    "def custom_loss(y_true, y_logit):\n",
    "\n",
    "    loss = float(0)\n",
    "    y_true = tf.cast(y_true, tf.float32)\n",
    "    y_logit = tf.cast(y_logit, tf.float32)\n",
    "    \n",
    "    first_term = false_negative_penalty * float(y_true) * - K.log(y_logit + K.epsilon())\n",
    "    second_term = false_positive_penalty * (1 - float(y_true)) * - K.log(1 - y_logit + K.epsilon())\n",
    "    \n",
    "    loss = K.mean(first_term+second_term)\n",
    "\n",
    "    return loss\n",
    "\n",
    "def precision(y_true, y_pred):\n",
    "    \n",
    "    true_positives = K.sum(K.round(K.clip(y_true * y_pred, 0, 1)), axis=1)\n",
    "    predicted_positives = K.sum(K.round(K.clip(y_pred, 0, 1)), axis=1)\n",
    "    precision = true_positives / (predicted_positives + K.epsilon())\n",
    "    \n",
    "    return K.mean(precision)\n",
    "\n",
    "\n",
    "def recall(y_true, y_pred):\n",
    "    true_positives = K.sum(K.round(K.clip(y_true * y_pred, 0, 1)), axis=1)\n",
    "    possible_positives = K.sum(K.round(K.clip(y_true, 0, 1)), axis=1)\n",
    "    recall = true_positives / (possible_positives + K.epsilon())\n",
    "    return K.mean(recall)\n",
    "\n",
    "def f1_score(y_true, y_pred):\n",
    "    rec = recall(y_true,y_pred)\n",
    "    prec = precision(y_true,y_pred)\n",
    "    f1 = 2*prec*rec/(prec+rec)\n",
    "    return f1"
   ]
  },
  {
   "cell_type": "code",
   "execution_count": 22,
   "id": "36c30cf1",
   "metadata": {},
   "outputs": [],
   "source": [
    "class attention(tf.keras.layers.Layer):\n",
    "    \n",
    "    def __init__(self, return_sequences=True,**kwargs):\n",
    "        self.return_sequences = return_sequences\n",
    "        super(attention,self).__init__()\n",
    "\n",
    "    def get_config(self):\n",
    "      config = super().get_config().copy()\n",
    "      config.update({\n",
    "          'return_sequences': self.return_sequences \n",
    "      })\n",
    "      return config\n",
    "        \n",
    "    def build(self, input_shape):\n",
    "        \n",
    "        self.W=self.add_weight(name=\"att_weight\", shape=(input_shape[-1],1),\n",
    "                               initializer=\"normal\")\n",
    "        self.b=self.add_weight(name=\"att_bias\", shape=(input_shape[1],1),\n",
    "                               initializer=\"zeros\")\n",
    "        \n",
    "        super(attention,self).build(input_shape)\n",
    "        \n",
    "    def call(self, x):\n",
    "        \n",
    "        e = K.tanh(K.dot(x,self.W)+self.b)\n",
    "        a = K.softmax(e, axis=1)\n",
    "        output = x*a\n",
    "        \n",
    "        if self.return_sequences:\n",
    "            return output\n",
    "        \n",
    "        return K.sum(output, axis=1)"
   ]
  },
  {
   "cell_type": "code",
   "execution_count": 23,
   "id": "03b912ca",
   "metadata": {},
   "outputs": [],
   "source": [
    "NUM_CLASSES = 3992 #For bp (Change according to aspects)\n",
    "\n",
    "def get_model_ng_sg(vocab_size_ng, vocab_size_sg):\n",
    "    #Input layers\n",
    "\n",
    "    input_ngrams = tf.keras.layers.Input(shape=(MAX_LEN_NG,)) \n",
    "    input_skip_grams = tf.keras.layers.Input(shape=(MAX_LEN_SG,)) \n",
    "\n",
    "    #embeddings\n",
    "    embedding_layer_ngrams = tf.keras.layers.Embedding(vocab_size_ng, 32)(input_ngrams)\n",
    "    embedding_layer_skip_grams = tf.keras.layers.Embedding(vocab_size_sg, 32)(input_skip_grams)\n",
    "\n",
    "    #BI-LSTMs for each of the inputs\n",
    "    sequence_output_1 = tf.keras.layers.Bidirectional(tf.keras.layers.LSTM(70,return_sequences=True))(embedding_layer_ngrams)\n",
    "    attention_output_1 = attention(return_sequences=False)(sequence_output_1)\n",
    "    dropout_1 = tf.keras.layers.Dropout(0.3)(attention_output_1)\n",
    "    dense_layer_1 = tf.keras.layers.Dense(NUM_CLASSES, activation='sigmoid')(dropout_1)\n",
    "\n",
    "    sequence_output_2 = tf.keras.layers.Bidirectional(tf.keras.layers.LSTM(70, return_sequences=True))(embedding_layer_skip_grams)\n",
    "    attention_output_2 = attention(return_sequences=False)(sequence_output_2)\n",
    "    dropout_2 = tf.keras.layers.Dropout(0.3)(attention_output_2)\n",
    "    dense_layer_2 = tf.keras.layers.Dense(NUM_CLASSES, activation='sigmoid')(dropout_2)\n",
    "\n",
    "    max_layer = tf.keras.layers.Maximum()([dense_layer_1,dense_layer_2])\n",
    "\n",
    "    model = tf.keras.models.Model(\n",
    "        inputs=[\n",
    "            input_ngrams,\n",
    "            input_skip_grams\n",
    "        ], \n",
    "        outputs=max_layer)\n",
    "    \n",
    "    return model"
   ]
  },
  {
   "cell_type": "code",
   "execution_count": 24,
   "id": "08fb6188",
   "metadata": {},
   "outputs": [],
   "source": [
    "def evaluate_annotations(real_annots, pred_annots):\n",
    "    total = 0\n",
    "    p = 0.0\n",
    "    r = 0.0\n",
    "    p_total= 0\n",
    "    fps = []\n",
    "    fns = []\n",
    "    for i in range(len(real_annots)):\n",
    "        if len(real_annots[i]) == 0:\n",
    "            continue\n",
    "        tp = set(real_annots[i]).intersection(set(pred_annots[i]))\n",
    "        fp = set(pred_annots[i]) - tp\n",
    "        fn = set(real_annots[i]) - tp\n",
    "        \n",
    "        fps.append(fp)\n",
    "        fns.append(fn)\n",
    "        tpn = len(tp)\n",
    "        fpn = len(fp)\n",
    "        fnn = len(fn)\n",
    "        total += 1\n",
    "        recall = tpn / (1.0 * (tpn + fnn))\n",
    "        r += recall\n",
    "        if len(pred_annots[i]) > 0:\n",
    "            p_total += 1\n",
    "            precision = tpn / (1.0 * (tpn + fpn))\n",
    "            p += precision\n",
    "    r /= total\n",
    "    if p_total > 0:\n",
    "        p /= p_total\n",
    "    f = 0.0\n",
    "    if p + r > 0:\n",
    "        f = 2 * p * r / (p + r)\n",
    "    return f, p, r, fps, fns"
   ]
  },
  {
   "cell_type": "markdown",
   "id": "84680b09",
   "metadata": {},
   "source": [
    "### Model using skip grams and ngrams"
   ]
  },
  {
   "cell_type": "code",
   "execution_count": 25,
   "id": "6163d660",
   "metadata": {},
   "outputs": [],
   "source": [
    "#Considering ngrams and skip grams\n",
    "X_train_ng = [' '.join(sample[1]) for sample in training_data_ngrams]\n",
    "X_train_sg = [' '.join(sample[1]) for sample in training_data_skip_grams]\n",
    "y_train = [sample[2] for sample in training_data]\n",
    "\n",
    "del training_data_ngrams\n",
    "del training_data_skip_grams"
   ]
  },
  {
   "cell_type": "code",
   "execution_count": 26,
   "id": "32366243",
   "metadata": {},
   "outputs": [
    {
     "name": "stdout",
     "output_type": "stream",
     "text": [
      "878652 878652\n"
     ]
    }
   ],
   "source": [
    "print(len(X_train_ng),len(X_train_sg))"
   ]
  },
  {
   "cell_type": "code",
   "execution_count": 27,
   "id": "27dfda2e",
   "metadata": {},
   "outputs": [
    {
     "data": {
      "text/html": [
       "<div>\n",
       "<style scoped>\n",
       "    .dataframe tbody tr th:only-of-type {\n",
       "        vertical-align: middle;\n",
       "    }\n",
       "\n",
       "    .dataframe tbody tr th {\n",
       "        vertical-align: top;\n",
       "    }\n",
       "\n",
       "    .dataframe thead th {\n",
       "        text-align: right;\n",
       "    }\n",
       "</style>\n",
       "<table border=\"1\" class=\"dataframe\">\n",
       "  <thead>\n",
       "    <tr style=\"text-align: right;\">\n",
       "      <th></th>\n",
       "      <th>Entry</th>\n",
       "      <th>Sequence</th>\n",
       "      <th>Gene Ontology (biological process)</th>\n",
       "    </tr>\n",
       "  </thead>\n",
       "  <tbody>\n",
       "    <tr>\n",
       "      <th>0</th>\n",
       "      <td>T100900000026</td>\n",
       "      <td>MAESFKELDPDSSMGKALEMTCAIQNQLARILAEFEMTLERDVLQP...</td>\n",
       "      <td>GO:0019222;GO:0009987;GO:0044763;GO:0008150;GO...</td>\n",
       "    </tr>\n",
       "    <tr>\n",
       "      <th>1</th>\n",
       "      <td>T100900000115</td>\n",
       "      <td>MNNLSFSELCCLFCCPPCPGKIASKLAFLPPDPTYTLMCDESGSRW...</td>\n",
       "      <td>GO:0044380;GO:0071704;GO:0043170;GO:0043412;GO...</td>\n",
       "    </tr>\n",
       "    <tr>\n",
       "      <th>2</th>\n",
       "      <td>T100900000116</td>\n",
       "      <td>MPEPGPRMNGFSLGELCWLFCCPPCPSRIAAKLAFLPPEPTYTVLA...</td>\n",
       "      <td>GO:0044380;GO:0071704;GO:0009057;GO:0043170;GO...</td>\n",
       "    </tr>\n",
       "    <tr>\n",
       "      <th>3</th>\n",
       "      <td>T100900000141</td>\n",
       "      <td>MAVPGPTARAGARPRLDLQLVQRFVRIQKVFFPSWSSQNVLMFMTL...</td>\n",
       "      <td>GO:0010033;GO:0009987;GO:0070887;GO:0051716;GO...</td>\n",
       "    </tr>\n",
       "    <tr>\n",
       "      <th>4</th>\n",
       "      <td>T100900000161</td>\n",
       "      <td>MADDLEQQPQGWLSSWLPTWRPTSMSQLKNVEARILQCLQNKFLAR...</td>\n",
       "      <td>GO:0009987;GO:0071704;GO:0044763;GO:0009308;GO...</td>\n",
       "    </tr>\n",
       "    <tr>\n",
       "      <th>...</th>\n",
       "      <td>...</td>\n",
       "      <td>...</td>\n",
       "      <td>...</td>\n",
       "    </tr>\n",
       "    <tr>\n",
       "      <th>2387</th>\n",
       "      <td>T992870000466</td>\n",
       "      <td>MIPEKRIIRRIQSGGCAIHCQDCSISQLCIPFTLNEHELDQLDNII...</td>\n",
       "      <td>GO:0034645;GO:0097659;GO:0016070;GO:0071704;GO...</td>\n",
       "    </tr>\n",
       "    <tr>\n",
       "      <th>2388</th>\n",
       "      <td>T992870000685</td>\n",
       "      <td>MPEVKTEKPHLLDMGKPQLRMVDLNLLTVFDAVMQEQNITRAAHTL...</td>\n",
       "      <td>GO:0034645;GO:0097659;GO:0016070;GO:0071704;GO...</td>\n",
       "    </tr>\n",
       "    <tr>\n",
       "      <th>2389</th>\n",
       "      <td>T992870001023</td>\n",
       "      <td>MMRVLVVEDNALLRHHLKVQLQDSGHQVDAAEDAREADYYLNEHLP...</td>\n",
       "      <td>GO:0034645;GO:0097659;GO:0016070;GO:0071704;GO...</td>\n",
       "    </tr>\n",
       "    <tr>\n",
       "      <th>2390</th>\n",
       "      <td>T992870001087</td>\n",
       "      <td>MIDGKTANEIFDSIRQHIIAGTLRAEDSLPPVRELASELKVNRNTV...</td>\n",
       "      <td>GO:0034645;GO:0097659;GO:0051253;GO:0071704;GO...</td>\n",
       "    </tr>\n",
       "    <tr>\n",
       "      <th>2391</th>\n",
       "      <td>T992870001259</td>\n",
       "      <td>MKQGLQLRLSQQLAMTPQLQQAIRLLQLSTLELQQELQQALENNPL...</td>\n",
       "      <td>GO:0034645;GO:0097659;GO:0016070;GO:0071704;GO...</td>\n",
       "    </tr>\n",
       "  </tbody>\n",
       "</table>\n",
       "<p>2392 rows × 3 columns</p>\n",
       "</div>"
      ],
      "text/plain": [
       "              Entry                                           Sequence  \\\n",
       "0     T100900000026  MAESFKELDPDSSMGKALEMTCAIQNQLARILAEFEMTLERDVLQP...   \n",
       "1     T100900000115  MNNLSFSELCCLFCCPPCPGKIASKLAFLPPDPTYTLMCDESGSRW...   \n",
       "2     T100900000116  MPEPGPRMNGFSLGELCWLFCCPPCPSRIAAKLAFLPPEPTYTVLA...   \n",
       "3     T100900000141  MAVPGPTARAGARPRLDLQLVQRFVRIQKVFFPSWSSQNVLMFMTL...   \n",
       "4     T100900000161  MADDLEQQPQGWLSSWLPTWRPTSMSQLKNVEARILQCLQNKFLAR...   \n",
       "...             ...                                                ...   \n",
       "2387  T992870000466  MIPEKRIIRRIQSGGCAIHCQDCSISQLCIPFTLNEHELDQLDNII...   \n",
       "2388  T992870000685  MPEVKTEKPHLLDMGKPQLRMVDLNLLTVFDAVMQEQNITRAAHTL...   \n",
       "2389  T992870001023  MMRVLVVEDNALLRHHLKVQLQDSGHQVDAAEDAREADYYLNEHLP...   \n",
       "2390  T992870001087  MIDGKTANEIFDSIRQHIIAGTLRAEDSLPPVRELASELKVNRNTV...   \n",
       "2391  T992870001259  MKQGLQLRLSQQLAMTPQLQQAIRLLQLSTLELQQELQQALENNPL...   \n",
       "\n",
       "                     Gene Ontology (biological process)  \n",
       "0     GO:0019222;GO:0009987;GO:0044763;GO:0008150;GO...  \n",
       "1     GO:0044380;GO:0071704;GO:0043170;GO:0043412;GO...  \n",
       "2     GO:0044380;GO:0071704;GO:0009057;GO:0043170;GO...  \n",
       "3     GO:0010033;GO:0009987;GO:0070887;GO:0051716;GO...  \n",
       "4     GO:0009987;GO:0071704;GO:0044763;GO:0009308;GO...  \n",
       "...                                                 ...  \n",
       "2387  GO:0034645;GO:0097659;GO:0016070;GO:0071704;GO...  \n",
       "2388  GO:0034645;GO:0097659;GO:0016070;GO:0071704;GO...  \n",
       "2389  GO:0034645;GO:0097659;GO:0016070;GO:0071704;GO...  \n",
       "2390  GO:0034645;GO:0097659;GO:0051253;GO:0071704;GO...  \n",
       "2391  GO:0034645;GO:0097659;GO:0016070;GO:0071704;GO...  \n",
       "\n",
       "[2392 rows x 3 columns]"
      ]
     },
     "execution_count": 27,
     "metadata": {},
     "output_type": "execute_result"
    }
   ],
   "source": [
    "test_df = pd.read_csv('cafa3_test/bp_df.csv')\n",
    "test_df"
   ]
  },
  {
   "cell_type": "code",
   "execution_count": 28,
   "id": "37914add",
   "metadata": {},
   "outputs": [
    {
     "data": {
      "application/vnd.jupyter.widget-view+json": {
       "model_id": "709130d3ec514c3dbc3e595f2f21fd1b",
       "version_major": 2,
       "version_minor": 0
      },
      "text/plain": [
       "0it [00:00, ?it/s]"
      ]
     },
     "metadata": {},
     "output_type": "display_data"
    },
    {
     "name": "stdout",
     "output_type": "stream",
     "text": [
      "35365\n"
     ]
    }
   ],
   "source": [
    "testing_data = get_training_data(test_df)\n",
    "print(len(testing_data))"
   ]
  },
  {
   "cell_type": "code",
   "execution_count": 29,
   "id": "bedb4917",
   "metadata": {},
   "outputs": [
    {
     "name": "stdout",
     "output_type": "stream",
     "text": [
      "Preparing from scratch...\n"
     ]
    },
    {
     "data": {
      "application/vnd.jupyter.widget-view+json": {
       "model_id": "80f2a646829346ce9064a50b6cd1e76d",
       "version_major": 2,
       "version_minor": 0
      },
      "text/plain": [
       "  0%|          | 0/35365 [00:00<?, ?it/s]"
      ]
     },
     "metadata": {},
     "output_type": "display_data"
    },
    {
     "name": "stdout",
     "output_type": "stream",
     "text": [
      "35365\n"
     ]
    }
   ],
   "source": [
    "print('Preparing from scratch...')\n",
    "testing_data_ngrams = []\n",
    "\n",
    "for i in tqdm.tqdm(range(len(testing_data))):\n",
    "    testing_data_ngrams.append([testing_data[i][0],get_ngrams(testing_data[i][1],n=4),testing_data[i][2]])\n",
    "    \n",
    "print(len(testing_data_ngrams))"
   ]
  },
  {
   "cell_type": "code",
   "execution_count": 30,
   "id": "da1d8eea",
   "metadata": {},
   "outputs": [
    {
     "name": "stdout",
     "output_type": "stream",
     "text": [
      "Preparing from scratch...\n"
     ]
    },
    {
     "data": {
      "application/vnd.jupyter.widget-view+json": {
       "model_id": "17308e4d6f5648f3adcf8d8b36bbee69",
       "version_major": 2,
       "version_minor": 0
      },
      "text/plain": [
       "  0%|          | 0/35365 [00:00<?, ?it/s]"
      ]
     },
     "metadata": {},
     "output_type": "display_data"
    },
    {
     "name": "stdout",
     "output_type": "stream",
     "text": [
      "35365\n"
     ]
    }
   ],
   "source": [
    "print('Preparing from scratch...')\n",
    "testing_data_skip_grams = []\n",
    "\n",
    "for i in tqdm.tqdm(range(len(testing_data))):\n",
    "    testing_data_skip_grams.append([testing_data[i][0],get_skip_grams(testing_data[i][1],n=4),testing_data[i][2]])\n",
    "    \n",
    "print(len(testing_data_skip_grams))"
   ]
  },
  {
   "cell_type": "code",
   "execution_count": 31,
   "id": "5eac38b0",
   "metadata": {},
   "outputs": [],
   "source": [
    "#Considering ngrams and skip grams\n",
    "X_test_ng = [' '.join(sample[1]) for sample in testing_data_ngrams]\n",
    "X_test_sg = [' '.join(sample[1]) for sample in testing_data_skip_grams]\n",
    "y_test = [sample[2] for sample in testing_data]\n",
    "\n",
    "del testing_data_ngrams\n",
    "del testing_data_skip_grams"
   ]
  },
  {
   "cell_type": "code",
   "execution_count": 32,
   "id": "2079b237",
   "metadata": {},
   "outputs": [
    {
     "name": "stdout",
     "output_type": "stream",
     "text": [
      "35365 35365\n"
     ]
    }
   ],
   "source": [
    "print(len(X_test_ng),len(X_test_sg))"
   ]
  },
  {
   "cell_type": "code",
   "execution_count": 33,
   "id": "52a27d45",
   "metadata": {},
   "outputs": [],
   "source": [
    "def compute_metrics(predictions):\n",
    "    final_predictions = []\n",
    "    actual_y_test = []\n",
    "\n",
    "    current_entry = ''\n",
    "    counter = 0\n",
    "    total_counts = 0\n",
    "    start_index = 0\n",
    "\n",
    "    if len(predictions) == len(testing_data):\n",
    "        temp = np.zeros(NUM_CLASSES)\n",
    "        for i in range(len(predictions)):\n",
    "            if current_entry != testing_data[start_index+i][0]:\n",
    "                #compute prev\n",
    "                if i!=0:\n",
    "                    temp /= counter\n",
    "                    final_predictions.append(temp)\n",
    "\n",
    "                #reset\n",
    "                total_counts += counter\n",
    "                counter = 1\n",
    "                temp = np.zeros(NUM_CLASSES)\n",
    "\n",
    "                #init new\n",
    "                current_entry = testing_data[start_index+i][0]\n",
    "                temp += np.array(predictions[i])\n",
    "                actual_y_test.append(testing_data[start_index+i][2])\n",
    "            else:\n",
    "                temp += np.array(predictions[i])\n",
    "                counter += 1\n",
    "\n",
    "        total_counts += counter\n",
    "        temp /= counter\n",
    "        final_predictions.append(temp)\n",
    "\n",
    "    else:\n",
    "        print('Lengths of predictions dont match with test data')\n",
    "    \n",
    "    final_predictions = np.array(final_predictions, dtype=float)\n",
    "    actual_y_test = np.array(actual_y_test, dtype=float)\n",
    "    \n",
    "    #Computing maximal F1-score\n",
    "    fmax = 0.0\n",
    "    tmax = 0.0\n",
    "    precisions = []\n",
    "    recalls = []\n",
    "    \n",
    "    for t in tqdm.tqdm(range(0, 101)):\n",
    "        \n",
    "        threshold = t / 100.0\n",
    "        pred_annots = []\n",
    "        real_annots = []\n",
    "    \n",
    "        for i in range(len(final_predictions)):\n",
    "            new_preds = []\n",
    "            new_ys = []\n",
    "            for j in range(NUM_CLASSES):\n",
    "                if final_predictions[i][j]>=threshold:\n",
    "                    new_preds.append(go_terms_bp[j]) #GO_TERMS_BP\n",
    "                if actual_y_test[i][j]==1:\n",
    "                    new_ys.append(go_terms_bp[j])\n",
    "            pred_annots.append(new_preds)\n",
    "            real_annots.append(new_ys)\n",
    "    \n",
    "        fscore, prec, rec, fps, fns = evaluate_annotations(real_annots, pred_annots)\n",
    "        avg_fp = sum(map(lambda x: len(x), fps)) / len(fps)\n",
    "        print(f'{avg_fp}')\n",
    "        precisions.append(prec)\n",
    "        recalls.append(rec)\n",
    "        print(f'Fscore: {fscore}, Precision: {prec}, Recall: {rec}, threshold: {threshold}')\n",
    "        if fmax < fscore:\n",
    "            fmax = fscore\n",
    "            tmax = threshold\n",
    "    print('\\nFinal Results (Maximal F1-score):')\n",
    "    print(f'Fmax: {fmax:0.3f}, threshold: {tmax}')\n",
    "    precisions = np.array(precisions)\n",
    "    recalls = np.array(recalls)\n",
    "        \n",
    "    \n",
    "#     rec = recall(actual_y_test,final_predictions)\n",
    "#     prec = precision(actual_y_test,final_predictions)\n",
    "#     f1 = f1_score(actual_y_test,final_predictions)\n",
    "    \n",
    "#     return rec,prec,f1"
   ]
  },
  {
   "cell_type": "code",
   "execution_count": 34,
   "id": "eaad7bdf",
   "metadata": {},
   "outputs": [
    {
     "name": "stdout",
     "output_type": "stream",
     "text": [
      "Tokenizing...\n",
      "Shuffling...\n"
     ]
    },
    {
     "name": "stderr",
     "output_type": "stream",
     "text": [
      "2023-01-28 00:22:49.510943: I tensorflow/core/common_runtime/gpu/gpu_device.cc:1616] Created device /job:localhost/replica:0/task:0/device:GPU:0 with 30971 MB memory:  -> device: 0, name: Tesla V100-DGXS-32GB, pci bus id: 0000:0f:00.0, compute capability: 7.0\n"
     ]
    },
    {
     "name": "stdout",
     "output_type": "stream",
     "text": [
      "Training...\n"
     ]
    },
    {
     "name": "stderr",
     "output_type": "stream",
     "text": [
      "2023-01-28 00:22:51.857638: W tensorflow/core/framework/cpu_allocator_impl.cc:82] Allocation of 22448485056 exceeds 10% of free system memory.\n",
      "2023-01-28 00:23:07.873143: W tensorflow/core/framework/cpu_allocator_impl.cc:82] Allocation of 22448485056 exceeds 10% of free system memory.\n"
     ]
    },
    {
     "name": "stdout",
     "output_type": "stream",
     "text": [
      "Epoch 1/5\n"
     ]
    },
    {
     "name": "stderr",
     "output_type": "stream",
     "text": [
      "2023-01-28 00:23:27.721160: I tensorflow/stream_executor/cuda/cuda_dnn.cc:384] Loaded cuDNN version 8100\n"
     ]
    },
    {
     "name": "stdout",
     "output_type": "stream",
     "text": [
      "21967/21967 [==============================] - 1014s 46ms/step - loss: 0.1834 - recall: 0.4919 - precision: 0.2888 - f1_score: 0.3619 - val_loss: 0.1683 - val_recall: 0.4967 - val_precision: 0.3072 - val_f1_score: 0.3781\n",
      "Epoch 2/5\n",
      "21967/21967 [==============================] - 1004s 46ms/step - loss: 0.1562 - recall: 0.5157 - precision: 0.3277 - f1_score: 0.3991 - val_loss: 0.1522 - val_recall: 0.5239 - val_precision: 0.3466 - val_f1_score: 0.4158\n",
      "Epoch 3/5\n",
      "21967/21967 [==============================] - 1004s 46ms/step - loss: 0.1376 - recall: 0.5522 - precision: 0.3636 - f1_score: 0.4371 - val_loss: 0.1400 - val_recall: 0.5645 - val_precision: 0.3577 - val_f1_score: 0.4366\n",
      "Epoch 4/5\n",
      "21967/21967 [==============================] - 1005s 46ms/step - loss: 0.1224 - recall: 0.5952 - precision: 0.3893 - f1_score: 0.4695 - val_loss: 0.1312 - val_recall: 0.5659 - val_precision: 0.4038 - val_f1_score: 0.4700\n",
      "Epoch 5/5\n",
      "21967/21967 [==============================] - 1004s 46ms/step - loss: 0.1106 - recall: 0.6337 - precision: 0.4110 - f1_score: 0.4975 - val_loss: 0.1230 - val_recall: 0.5990 - val_precision: 0.4149 - val_f1_score: 0.4890\n",
      "Evaluating model...\n",
      "1106/1106 [==============================] - 20s 17ms/step\n",
      "Computing Metrics...\n",
      "\n"
     ]
    },
    {
     "data": {
      "application/vnd.jupyter.widget-view+json": {
       "model_id": "49d94f13b93546a3a1403036e5868002",
       "version_major": 2,
       "version_minor": 0
      },
      "text/plain": [
       "  0%|          | 0/101 [00:00<?, ?it/s]"
      ]
     },
     "metadata": {},
     "output_type": "display_data"
    },
    {
     "name": "stdout",
     "output_type": "stream",
     "text": [
      "3962.0727424749166\n",
      "Fscore: 0.014882048137041373, Precision: 0.007496807997265417, Recall: 1.0, threshold: 0.0\n",
      "1316.0773411371238\n",
      "Fscore: 0.043628233353920264, Precision: 0.02232255182489113, Recall: 0.9577362069031286, threshold: 0.01\n",
      "875.1321070234113\n",
      "Fscore: 0.0626085275606236, Precision: 0.03239180667706394, Recall: 0.9323785420951314, threshold: 0.02\n",
      "668.813127090301\n",
      "Fscore: 0.07859257982845803, Precision: 0.04106380837972357, Recall: 0.9129496243313415, threshold: 0.03\n",
      "544.9142976588629\n",
      "Fscore: 0.09299499415867242, Precision: 0.04904033692656435, Recall: 0.8967347768669801, threshold: 0.04\n",
      "461.21488294314383\n",
      "Fscore: 0.10628077584692557, Precision: 0.05654112799702743, Recall: 0.8835187078096112, threshold: 0.05\n",
      "400.06103678929765\n",
      "Fscore: 0.11867380564409015, Precision: 0.06366909403746152, Recall: 0.8720591169255077, threshold: 0.06\n",
      "353.34740802675583\n",
      "Fscore: 0.13024828182817907, Precision: 0.07045764103434778, Recall: 0.8603155975879196, threshold: 0.07\n",
      "315.73327759197326\n",
      "Fscore: 0.1414440213613764, Precision: 0.07714206260143658, Recall: 0.849781566033374, threshold: 0.08\n",
      "285.2955685618729\n",
      "Fscore: 0.15200718538582003, Precision: 0.08355773276855019, Recall: 0.8406897177036686, threshold: 0.09\n",
      "259.57316053511704\n",
      "Fscore: 0.16221916083900628, Precision: 0.08987643193833243, Recall: 0.8315231150502755, threshold: 0.1\n",
      "237.81563545150502\n",
      "Fscore: 0.17220460488391515, Precision: 0.0961655425697827, Recall: 0.8228040398185225, threshold: 0.11\n",
      "219.01714046822744\n",
      "Fscore: 0.18180047486001105, Precision: 0.10232020670567543, Recall: 0.8144444927053052, threshold: 0.12\n",
      "202.7002508361204\n",
      "Fscore: 0.19106864637826707, Precision: 0.10838465222845681, Recall: 0.8057734835465754, threshold: 0.13\n",
      "188.377508361204\n",
      "Fscore: 0.20005545313582648, Precision: 0.11435625322889162, Recall: 0.7983232540204219, threshold: 0.14\n",
      "175.58403010033445\n",
      "Fscore: 0.2083689445326083, Precision: 0.12001826953264413, Recall: 0.7897057075598083, threshold: 0.15\n",
      "164.12416387959865\n",
      "Fscore: 0.21705188935650324, Precision: 0.12599866976579255, Recall: 0.7825982836693371, threshold: 0.16\n",
      "153.80309364548495\n",
      "Fscore: 0.22559454095384884, Precision: 0.13199757039842647, Recall: 0.7754548476534119, threshold: 0.17\n",
      "144.46362876254182\n",
      "Fscore: 0.23403207655200484, Precision: 0.13802234219211149, Recall: 0.7688562319861552, threshold: 0.18\n",
      "135.90384615384616\n",
      "Fscore: 0.24181023844017438, Precision: 0.1437205225797204, Recall: 0.76161471454054, threshold: 0.19\n",
      "128.21571906354515\n",
      "Fscore: 0.24947430251605204, Precision: 0.1494443791982293, Recall: 0.754486346174776, threshold: 0.2\n",
      "120.99498327759197\n",
      "Fscore: 0.25760360041793207, Precision: 0.15558643227091026, Recall: 0.7481832312737384, threshold: 0.21\n",
      "114.35117056856187\n",
      "Fscore: 0.2655070023944897, Precision: 0.16168595945395017, Recall: 0.7418787930670602, threshold: 0.22\n",
      "108.25292642140468\n",
      "Fscore: 0.2729156307596451, Precision: 0.16757609211519456, Recall: 0.7348436301401761, threshold: 0.23\n",
      "102.69147157190635\n",
      "Fscore: 0.2803856904236892, Precision: 0.17360681968359185, Recall: 0.7283908719150266, threshold: 0.24\n",
      "97.54598662207358\n",
      "Fscore: 0.28769889315691555, Precision: 0.17963255310237514, Recall: 0.722129682451708, threshold: 0.25\n",
      "92.68979933110369\n",
      "Fscore: 0.29483545033519876, Precision: 0.18566579096567798, Recall: 0.7156029455214501, threshold: 0.26\n",
      "88.11998327759197\n",
      "Fscore: 0.30182944712009663, Precision: 0.1917363310304053, Recall: 0.7088362557717396, threshold: 0.27\n",
      "83.94105351170569\n",
      "Fscore: 0.3087140783803625, Precision: 0.1978024776910585, Recall: 0.7027712426071427, threshold: 0.28\n",
      "79.93394648829431\n",
      "Fscore: 0.3157109826025392, Precision: 0.2040834130297714, Recall: 0.696888075987027, threshold: 0.29\n",
      "76.18896321070234\n",
      "Fscore: 0.3224379122348655, Precision: 0.2102997077246943, Recall: 0.6907860666534753, threshold: 0.3\n",
      "72.6826923076923\n",
      "Fscore: 0.3289417894604895, Precision: 0.21642731971422963, Recall: 0.6851124750873498, threshold: 0.31\n",
      "69.33235785953177\n",
      "Fscore: 0.33529363469374573, Precision: 0.2226172631694479, Recall: 0.6789298339927647, threshold: 0.32\n",
      "66.1183110367893\n",
      "Fscore: 0.3420451986840662, Precision: 0.22923516448255196, Recall: 0.6734696125444628, threshold: 0.33\n",
      "63.19648829431438\n",
      "Fscore: 0.3480313518723307, Precision: 0.23538903997930716, Recall: 0.667413030694729, threshold: 0.34\n",
      "60.34280936454849\n",
      "Fscore: 0.35387596567501634, Precision: 0.24168890018824188, Recall: 0.6604376929810213, threshold: 0.35\n",
      "57.67015050167224\n",
      "Fscore: 0.359789362823184, Precision: 0.2481077337048887, Recall: 0.6543214269122977, threshold: 0.36\n",
      "55.10953177257525\n",
      "Fscore: 0.36563997861553144, Precision: 0.2547064633820266, Recall: 0.6477634841850419, threshold: 0.37\n",
      "52.63586956521739\n",
      "Fscore: 0.3713591821716032, Precision: 0.26132695349321694, Recall: 0.6414378548056595, threshold: 0.38\n",
      "50.296822742474916\n",
      "Fscore: 0.3768749220732033, Precision: 0.2679661262179148, Recall: 0.6349264928965783, threshold: 0.39\n",
      "48.08653846153846\n",
      "Fscore: 0.38249754299465866, Precision: 0.2748171184231505, Recall: 0.6289275571229944, threshold: 0.4\n",
      "45.997491638795985\n",
      "Fscore: 0.38767570602516754, Precision: 0.28148100706360857, Recall: 0.6225434794515115, threshold: 0.41\n",
      "43.92098662207358\n",
      "Fscore: 0.3926616264004456, Precision: 0.2882971014729884, Recall: 0.6154603544244663, threshold: 0.42\n",
      "41.97951505016722\n",
      "Fscore: 0.3975516671616624, Precision: 0.29502409720051276, Recall: 0.6092957799133967, threshold: 0.43\n",
      "40.131270903010034\n",
      "Fscore: 0.40234225395605716, Precision: 0.30204283329707016, Recall: 0.6023720564201291, threshold: 0.44\n",
      "38.34030100334448\n",
      "Fscore: 0.4070648362017295, Precision: 0.30917661477547226, Recall: 0.5956547165511893, threshold: 0.45\n",
      "36.64464882943144\n",
      "Fscore: 0.41152263155747437, Precision: 0.3162200444144641, Recall: 0.5890512521550593, threshold: 0.46\n",
      "34.9824414715719\n",
      "Fscore: 0.41650747662097015, Precision: 0.32408815150762527, Recall: 0.5826642293144033, threshold: 0.47\n",
      "33.40510033444816\n",
      "Fscore: 0.4208807204865508, Precision: 0.331486712851031, Recall: 0.5762931452736781, threshold: 0.48\n",
      "31.92725752508361\n",
      "Fscore: 0.42431821097038647, Precision: 0.3383700419711544, Recall: 0.5687960760482325, threshold: 0.49\n",
      "30.52675585284281\n",
      "Fscore: 0.4279117520574406, Precision: 0.3455107040891574, Recall: 0.561925749594948, threshold: 0.5\n",
      "29.149247491638796\n",
      "Fscore: 0.43166413171922385, Precision: 0.35316600585226643, Recall: 0.5550306693200489, threshold: 0.51\n",
      "27.831103678929765\n",
      "Fscore: 0.435036651932556, Precision: 0.3608514700657532, Recall: 0.5476179859467725, threshold: 0.52\n",
      "26.604096989966557\n",
      "Fscore: 0.43770183573297256, Precision: 0.36829512502345546, Recall: 0.5393432618801695, threshold: 0.53\n",
      "25.381270903010034\n",
      "Fscore: 0.44119825572951965, Precision: 0.37667146406070995, Recall: 0.5324031054357409, threshold: 0.54\n",
      "24.178929765886288\n",
      "Fscore: 0.44445582559804847, Precision: 0.38511259198327535, Recall: 0.5254193822136974, threshold: 0.55\n",
      "23.032608695652176\n",
      "Fscore: 0.44741890833752174, Precision: 0.39383783424091745, Recall: 0.5178750711179079, threshold: 0.56\n",
      "21.96697324414716\n",
      "Fscore: 0.4498078573767403, Precision: 0.40173290826253594, Recall: 0.5109530664556805, threshold: 0.57\n",
      "20.918896321070235\n",
      "Fscore: 0.4520203220281404, Precision: 0.41017034864595525, Recall: 0.5033806043137379, threshold: 0.58\n",
      "19.933110367892976\n",
      "Fscore: 0.45425904602247436, Precision: 0.4188341985975879, Recall: 0.49623000303617576, threshold: 0.59\n",
      "18.987458193979933\n",
      "Fscore: 0.45576299400261905, Precision: 0.4270847553751374, Recall: 0.4885698868373094, threshold: 0.6\n",
      "18.079013377926422\n",
      "Fscore: 0.457631858545212, Precision: 0.43594813574792557, Recall: 0.4815855510509782, threshold: 0.61\n",
      "17.190635451505017\n",
      "Fscore: 0.4591512560314645, Precision: 0.44510363399615605, Recall: 0.47411446991271067, threshold: 0.62\n",
      "16.39005016722408\n",
      "Fscore: 0.46005835540594886, Precision: 0.45377045338611127, Recall: 0.466522969173274, threshold: 0.63\n",
      "15.588210702341136\n",
      "Fscore: 0.461071638682328, Precision: 0.46286626113733864, Recall: 0.4592908786799995, threshold: 0.64\n",
      "14.819816053511706\n",
      "Fscore: 0.4614733392750206, Precision: 0.47198838991693093, Recall: 0.45141659123038863, threshold: 0.65\n",
      "14.066053511705686\n",
      "Fscore: 0.46153952208913646, Precision: 0.4812690623023637, Recall: 0.44336389741607574, threshold: 0.66\n"
     ]
    },
    {
     "name": "stdout",
     "output_type": "stream",
     "text": [
      "13.32901337792642\n",
      "Fscore: 0.4608133116210171, Precision: 0.49015909023632037, Recall: 0.4347829002878031, threshold: 0.67\n",
      "12.640886287625419\n",
      "Fscore: 0.45954489442282515, Precision: 0.49882990793077886, Recall: 0.4259958760520955, threshold: 0.68\n",
      "11.993729096989966\n",
      "Fscore: 0.45866483735287855, Precision: 0.5072927193609819, Recall: 0.41854418066713406, threshold: 0.69\n",
      "11.320234113712374\n",
      "Fscore: 0.4579981382549503, Precision: 0.5177711063408056, Recall: 0.41059758596208695, threshold: 0.7\n",
      "10.681438127090301\n",
      "Fscore: 0.45650203000741957, Precision: 0.5273549895204155, Recall: 0.40243300618054023, threshold: 0.71\n",
      "10.076505016722408\n",
      "Fscore: 0.45432705001522167, Precision: 0.5363663699234266, Recall: 0.39405483258252344, threshold: 0.72\n",
      "9.507107023411372\n",
      "Fscore: 0.4517489438523788, Precision: 0.5456597519431727, Recall: 0.38541676563409666, threshold: 0.73\n",
      "8.92767558528428\n",
      "Fscore: 0.4491919984267938, Precision: 0.556257768241177, Recall: 0.3766887864240899, threshold: 0.74\n",
      "8.389214046822742\n",
      "Fscore: 0.4461286847904991, Precision: 0.5666820409895209, Recall: 0.3678697498343373, threshold: 0.75\n",
      "7.870819397993311\n",
      "Fscore: 0.44286723715263987, Precision: 0.5768223228456798, Recall: 0.35940324689247394, threshold: 0.76\n",
      "7.3950668896321075\n",
      "Fscore: 0.44011023039851926, Precision: 0.587165101245, Recall: 0.3519617795941801, threshold: 0.77\n",
      "6.919314381270903\n",
      "Fscore: 0.43641020997782304, Precision: 0.5980512485492127, Recall: 0.34355445669468504, threshold: 0.78\n",
      "6.452759197324415\n",
      "Fscore: 0.43205099653235396, Precision: 0.6090472072860905, Recall: 0.3347645267476432, threshold: 0.79\n",
      "6.020484949832776\n",
      "Fscore: 0.42857771268983896, Precision: 0.6197814682516072, Recall: 0.3275331241940724, threshold: 0.8\n",
      "5.606605351170568\n",
      "Fscore: 0.4242816209473402, Precision: 0.6312090247387714, Recall: 0.31953078169195104, threshold: 0.81\n",
      "5.219063545150502\n",
      "Fscore: 0.41844065259422675, Precision: 0.6406929243857954, Recall: 0.3106709053831896, threshold: 0.82\n",
      "4.843227424749164\n",
      "Fscore: 0.4128175580381941, Precision: 0.6504042916544343, Recall: 0.30236601922469, threshold: 0.83\n",
      "4.4870401337792645\n",
      "Fscore: 0.40606717375501833, Precision: 0.6601515506071608, Recall: 0.29321301685223433, threshold: 0.84\n",
      "4.155518394648829\n",
      "Fscore: 0.3989136884828306, Precision: 0.6695158087474247, Recall: 0.2840909768050878, threshold: 0.85\n",
      "3.8377926421404682\n",
      "Fscore: 0.3922902384828989, Precision: 0.680450124464002, Recall: 0.2755845373506283, threshold: 0.86\n",
      "3.5133779264214047\n",
      "Fscore: 0.38505854383956833, Precision: 0.6907102863486368, Recall: 0.2669349988992814, threshold: 0.87\n",
      "3.1952341137123748\n",
      "Fscore: 0.37651260260075703, Precision: 0.7014845135497638, Recall: 0.2573102506613654, threshold: 0.88\n",
      "2.887541806020067\n",
      "Fscore: 0.368321031661195, Precision: 0.7123158765815509, Recall: 0.2483747567743415, threshold: 0.89\n",
      "2.600334448160535\n",
      "Fscore: 0.35835192419757705, Precision: 0.722312921920638, Recall: 0.23828448861953336, threshold: 0.9\n",
      "2.301839464882943\n",
      "Fscore: 0.3493120578081991, Precision: 0.7359178468037976, Recall: 0.22900629371759001, threshold: 0.91\n",
      "2.0016722408026757\n",
      "Fscore: 0.33638092166207223, Precision: 0.7522977811509539, Recall: 0.2166199704955663, threshold: 0.92\n",
      "1.6839464882943145\n",
      "Fscore: 0.3202470341414644, Precision: 0.7718555216119514, Recall: 0.20203654520848666, threshold: 0.93\n",
      "1.3557692307692308\n",
      "Fscore: 0.30303840876314797, Precision: 0.7991751806026306, Recall: 0.1869671430084681, threshold: 0.94\n",
      "1.0518394648829432\n",
      "Fscore: 0.28224076717214064, Precision: 0.8282241553564625, Recall: 0.1701043063670015, threshold: 0.95\n",
      "0.7813545150501672\n",
      "Fscore: 0.25159581626909927, Precision: 0.8648644100256475, Recall: 0.14721020817864017, threshold: 0.96\n",
      "0.5020903010033445\n",
      "Fscore: 0.21078086463924245, Precision: 0.9103980563283918, Recall: 0.11918799509201511, threshold: 0.97\n",
      "0.2646321070234114\n",
      "Fscore: 0.16781043915558191, Precision: 0.961589545179948, Recall: 0.09192642454526863, threshold: 0.98\n",
      "0.08235785953177258\n",
      "Fscore: 0.14101528498287103, Precision: 0.9914682440466892, Recall: 0.07590562329680857, threshold: 0.99\n",
      "0.0\n",
      "Fscore: 0.00024339471497717135, Precision: 1.0, Recall: 0.00012171216953799266, threshold: 1.0\n",
      "\n",
      "Final Results (Maximal F1-score):\n",
      "Fmax: 0.462, threshold: 0.66\n"
     ]
    }
   ],
   "source": [
    "\n",
    "recs = []\n",
    "precs = []\n",
    "f1s = []\n",
    "\n",
    "for i in range(1):\n",
    "    \n",
    "#     print('Splitting into train-test...')\n",
    "#     X_train_ng, y_train, X_test_ng, y_test, start_index, prev_index1 = train_test_split(X_ng,y,i,prev_index,Kfolds)\n",
    "#     X_train_sg, _, X_test_sg, _, _, _= train_test_split(X_sg,y,i,prev_index,Kfolds)\n",
    "    \n",
    "#     prev_index = prev_index1\n",
    "    \n",
    "    print('Tokenizing...')\n",
    "    X_train_ng, X_test_ng, vocab_size_ng, tokenizer1 = tokenization(X_train_ng, X_test_ng, MAX_LEN_NG)  \n",
    "    X_train_sg, X_test_sg, vocab_size_sg, tokenizer2 = tokenization(X_train_sg, X_test_sg, MAX_LEN_SG)\n",
    "    \n",
    "   \n",
    "    print('Shuffling...')   \n",
    "    shuffled = [[X_train_ng[i],X_train_sg[i],y_train[i]] for i in range(len(X_train_ng))]\n",
    "    np.random.shuffle(shuffled)\n",
    "\n",
    "    X_train_ng = [shuffled[i][0] for i in range(len(shuffled))]\n",
    "    X_train_sg = [shuffled[i][1] for i in range(len(shuffled))]\n",
    "    y_train = [shuffled[i][2] for i in range(len(shuffled))]\n",
    "    X_train_ng = np.array(X_train_ng)\n",
    "    X_train_sg = np.array(X_train_sg)\n",
    "    y_train = np.array(y_train)\n",
    "    \n",
    "    \n",
    "    model = get_model_ng_sg(vocab_size_ng, vocab_size_sg)\n",
    "    \n",
    "    model.compile(\n",
    "        loss=custom_loss, \n",
    "        optimizer='adam', \n",
    "        metrics=[\n",
    "            recall,\n",
    "            precision,\n",
    "            f1_score\n",
    "        ])\n",
    "\n",
    "    print('Training...')\n",
    "    history = model.fit([X_train_ng,X_train_sg], y_train, batch_size=32, epochs=5,validation_split=0.2)\n",
    "    \n",
    "    print('Evaluating model...')\n",
    "    predictions = model.predict([X_test_ng,X_test_sg])\n",
    "    \n",
    "    print('Computing Metrics...\\n')\n",
    "    compute_metrics(predictions)\n",
    "    \n",
    "#     recs.append(rec.numpy())\n",
    "#     precs.append(prec.numpy())\n",
    "#     f1s.append(f1.numpy())\n",
    "\n",
    "# print('Recall:',sum(recs)/len(recs))\n",
    "# print('Precision:',sum(precs)/len(precs))\n",
    "# print('F1-Score:',sum(f1s)/len(f1s))"
   ]
  },
  {
   "cell_type": "code",
   "execution_count": 35,
   "id": "4b97a0f2",
   "metadata": {},
   "outputs": [],
   "source": [
    "model.save('bp_model.h5')\n",
    "np.save('bp_predictions',predictions)"
   ]
  },
  {
   "cell_type": "code",
   "execution_count": 36,
   "id": "3ac737a9",
   "metadata": {},
   "outputs": [
    {
     "name": "stderr",
     "output_type": "stream",
     "text": [
      "2023-01-28 01:57:05.395867: W tensorflow/core/framework/cpu_allocator_impl.cc:82] Allocation of 22448485056 exceeds 10% of free system memory.\n",
      "2023-01-28 01:57:21.667675: W tensorflow/core/framework/cpu_allocator_impl.cc:82] Allocation of 22448485056 exceeds 10% of free system memory.\n"
     ]
    },
    {
     "name": "stdout",
     "output_type": "stream",
     "text": [
      "Epoch 1/5\n",
      "21967/21967 [==============================] - 1009s 46ms/step - loss: 0.1014 - recall: 0.6667 - precision: 0.4310 - f1_score: 0.5225 - val_loss: 0.1184 - val_recall: 0.6201 - val_precision: 0.4257 - val_f1_score: 0.5036\n",
      "Epoch 2/5\n",
      "21967/21967 [==============================] - 1003s 46ms/step - loss: 0.0941 - recall: 0.6941 - precision: 0.4486 - f1_score: 0.5440 - val_loss: 0.1149 - val_recall: 0.6255 - val_precision: 0.4533 - val_f1_score: 0.5244\n",
      "Epoch 3/5\n",
      "21967/21967 [==============================] - 1002s 46ms/step - loss: 0.0881 - recall: 0.7160 - precision: 0.4645 - f1_score: 0.5625 - val_loss: 0.1112 - val_recall: 0.6376 - val_precision: 0.4680 - val_f1_score: 0.5386\n",
      "Epoch 4/5\n",
      "21967/21967 [==============================] - 1060s 48ms/step - loss: 0.0832 - recall: 0.7351 - precision: 0.4784 - f1_score: 0.5787 - val_loss: 0.1085 - val_recall: 0.6549 - val_precision: 0.4684 - val_f1_score: 0.5450\n",
      "Epoch 5/5\n",
      "21967/21967 [==============================] - 1067s 49ms/step - loss: 0.0792 - recall: 0.7508 - precision: 0.4907 - f1_score: 0.5927 - val_loss: 0.1083 - val_recall: 0.6474 - val_precision: 0.4989 - val_f1_score: 0.5623\n",
      "1106/1106 [==============================] - 20s 18ms/step\n"
     ]
    },
    {
     "data": {
      "application/vnd.jupyter.widget-view+json": {
       "model_id": "67908894c7f543c59ea87ca35496aaff",
       "version_major": 2,
       "version_minor": 0
      },
      "text/plain": [
       "  0%|          | 0/101 [00:00<?, ?it/s]"
      ]
     },
     "metadata": {},
     "output_type": "display_data"
    },
    {
     "name": "stdout",
     "output_type": "stream",
     "text": [
      "3962.0727424749166\n",
      "Fscore: 0.014882048137041373, Precision: 0.007496807997265417, Recall: 1.0, threshold: 0.0\n",
      "821.6404682274248\n",
      "Fscore: 0.06909580260718964, Precision: 0.03589061048541132, Recall: 0.9234652488920075, threshold: 0.01\n",
      "548.9531772575251\n",
      "Fscore: 0.09636716987215138, Precision: 0.050934419423618774, Recall: 0.8921666990803299, threshold: 0.02\n",
      "423.77801003344484\n",
      "Fscore: 0.11786802433569563, Precision: 0.06321806994748509, Recall: 0.8696648586818043, threshold: 0.03\n",
      "348.48745819397993\n",
      "Fscore: 0.13683357158418213, Precision: 0.07436830655508037, Recall: 0.8549143491089671, threshold: 0.04\n",
      "297.41471571906357\n",
      "Fscore: 0.15353770013894277, Precision: 0.08447561184185161, Recall: 0.8414812565318283, threshold: 0.05\n",
      "259.810618729097\n",
      "Fscore: 0.16871928323694907, Precision: 0.09392145428560097, Recall: 0.8286274265819035, threshold: 0.06\n",
      "230.55016722408027\n",
      "Fscore: 0.18304197060107918, Precision: 0.10306414146737464, Recall: 0.8171536137879851, threshold: 0.07\n",
      "207.37123745819397\n",
      "Fscore: 0.19597931465303003, Precision: 0.11155402029500201, Recall: 0.805871993214706, threshold: 0.08\n",
      "188.03553511705687\n",
      "Fscore: 0.2086051559489001, Precision: 0.12003614766429199, Recall: 0.795755820091531, threshold: 0.09\n",
      "171.82692307692307\n",
      "Fscore: 0.22033357382798133, Precision: 0.1281235586692286, Recall: 0.786052246972388, threshold: 0.1\n",
      "157.97115384615384\n",
      "Fscore: 0.23207469655736254, Precision: 0.13639855288300928, Recall: 0.7773276038014765, threshold: 0.11\n",
      "146.2215719063545\n",
      "Fscore: 0.24282531156886628, Precision: 0.1441797438065542, Recall: 0.7688838198747407, threshold: 0.12\n",
      "135.8603678929766\n",
      "Fscore: 0.2528388613636872, Precision: 0.15160557131721283, Recall: 0.7609697051878912, threshold: 0.13\n",
      "126.60953177257525\n",
      "Fscore: 0.26286493405565453, Precision: 0.15919996838179248, Recall: 0.7535443801169789, threshold: 0.14\n",
      "118.25292642140468\n",
      "Fscore: 0.2730247279210162, Precision: 0.1671116809641199, Recall: 0.7455333271371228, threshold: 0.15\n",
      "110.74832775919732\n",
      "Fscore: 0.28277772103153326, Precision: 0.17486007989795344, Recall: 0.7386425682365533, threshold: 0.16\n",
      "104.05978260869566\n",
      "Fscore: 0.2919246271149488, Precision: 0.1823666075842076, Recall: 0.7311953897271519, threshold: 0.17\n",
      "97.97617056856187\n",
      "Fscore: 0.3009050380500384, Precision: 0.18989564977529508, Recall: 0.7243410529826186, threshold: 0.18\n",
      "92.34698996655518\n",
      "Fscore: 0.3096725366705468, Precision: 0.19746001765996887, Recall: 0.717298988575196, threshold: 0.19\n",
      "87.26463210702342\n",
      "Fscore: 0.3179411386274845, Precision: 0.20481942759332908, Recall: 0.7101651433166233, threshold: 0.2\n",
      "82.56229096989966\n",
      "Fscore: 0.32622076869616634, Precision: 0.2122902720605463, Recall: 0.7040835081121947, threshold: 0.21\n",
      "78.24247491638796\n",
      "Fscore: 0.3342051427821748, Precision: 0.21971928273090313, Recall: 0.6977946016317456, threshold: 0.22\n",
      "74.17809364548495\n",
      "Fscore: 0.34184402693676647, Precision: 0.22711446284500514, Recall: 0.6908198825269332, threshold: 0.23\n",
      "70.4690635451505\n",
      "Fscore: 0.34937696585478706, Precision: 0.23449559056740693, Recall: 0.6849299453828988, threshold: 0.24\n",
      "67.01714046822742\n",
      "Fscore: 0.3562751538570201, Precision: 0.24162974969346418, Recall: 0.6779314087042049, threshold: 0.25\n",
      "63.76003344481605\n",
      "Fscore: 0.36355532390881123, Precision: 0.2491915693934562, Recall: 0.6719305049042773, threshold: 0.26\n",
      "60.71739130434783\n",
      "Fscore: 0.3701415705747995, Precision: 0.25644262194757134, Recall: 0.6649686997824094, threshold: 0.27\n",
      "57.83653846153846\n",
      "Fscore: 0.37678673105362936, Precision: 0.2639118654428389, Recall: 0.65837171803629, threshold: 0.28\n",
      "55.20275919732441\n",
      "Fscore: 0.3829825750221311, Precision: 0.27101982284175624, Recall: 0.6525699813430487, threshold: 0.29\n",
      "52.614548494983275\n",
      "Fscore: 0.3893398396969566, Precision: 0.27847505132933575, Recall: 0.6468663071600259, threshold: 0.3\n",
      "50.195234113712374\n",
      "Fscore: 0.3954545610442299, Precision: 0.2859527258031611, Recall: 0.6408656215996666, threshold: 0.31\n",
      "47.92391304347826\n",
      "Fscore: 0.4013952650934588, Precision: 0.29356090993111084, Recall: 0.634448635573859, threshold: 0.32\n",
      "45.73745819397993\n",
      "Fscore: 0.407142307373949, Precision: 0.30119310246712805, Recall: 0.6280782971242787, threshold: 0.33\n",
      "43.687290969899664\n",
      "Fscore: 0.4126818815171459, Precision: 0.30875453570447486, Recall: 0.6220726983989839, threshold: 0.34\n",
      "41.78260869565217\n",
      "Fscore: 0.4174829524283772, Precision: 0.3159347561437511, Recall: 0.6152315464938816, threshold: 0.35\n",
      "39.97826086956522\n",
      "Fscore: 0.42183357026034757, Precision: 0.3228194761525947, Recall: 0.6084576292617475, threshold: 0.36\n",
      "38.240802675585286\n",
      "Fscore: 0.42676593005797314, Precision: 0.3304636690760595, Recall: 0.6022795824105766, threshold: 0.37\n",
      "36.59364548494983\n",
      "Fscore: 0.4310478792899083, Precision: 0.3377026642371997, Recall: 0.5957093501172286, threshold: 0.38\n",
      "35.01086956521739\n",
      "Fscore: 0.4350197419157064, Precision: 0.34493601954732345, Recall: 0.5887880151048813, threshold: 0.39\n",
      "33.552675585284284\n",
      "Fscore: 0.43923636335218985, Precision: 0.3524081092244725, Recall: 0.5828395992428939, threshold: 0.4\n",
      "32.168896321070235\n",
      "Fscore: 0.4427213198245406, Precision: 0.3594648502544743, Recall: 0.5761691681507164, threshold: 0.41\n",
      "30.850752508361204\n",
      "Fscore: 0.44613428394499427, Precision: 0.36657257179347086, Recall: 0.5698062855007496, threshold: 0.42\n",
      "29.59113712374582\n",
      "Fscore: 0.4490217054927944, Precision: 0.3733755199410876, Recall: 0.5631078076234928, threshold: 0.43\n",
      "28.36622073578595\n",
      "Fscore: 0.45275432386586517, Precision: 0.3812563537382436, Recall: 0.5572584045806093, threshold: 0.44\n",
      "27.226170568561873\n",
      "Fscore: 0.4560793933482224, Precision: 0.3886585061530418, Recall: 0.5518006772711069, threshold: 0.45\n",
      "26.07566889632107\n",
      "Fscore: 0.4590934429634616, Precision: 0.3962132195627043, Recall: 0.5456972253305096, threshold: 0.46\n",
      "24.990384615384617\n",
      "Fscore: 0.46209457977374185, Precision: 0.403957997568115, Recall: 0.5397780265771487, threshold: 0.47\n",
      "23.95526755852843\n",
      "Fscore: 0.4648543609490386, Precision: 0.41168982141932314, Recall: 0.5337860912805283, threshold: 0.48\n",
      "23.01923076923077\n",
      "Fscore: 0.4667775195324247, Precision: 0.4184538742693062, Recall: 0.5277192894906579, threshold: 0.49\n",
      "22.09448160535117\n",
      "Fscore: 0.46897107299243945, Precision: 0.4260530944224253, Recall: 0.5215042124199395, threshold: 0.5\n",
      "21.160953177257525\n",
      "Fscore: 0.4709332265314174, Precision: 0.43366676071491794, Recall: 0.5152066976015744, threshold: 0.51\n",
      "20.292642140468228\n",
      "Fscore: 0.4723426969047708, Precision: 0.44102354569760577, Recall: 0.5084501259313975, threshold: 0.52\n",
      "19.434364548494983\n",
      "Fscore: 0.4737939683438247, Precision: 0.4486723103087747, Recall: 0.5018956605213892, threshold: 0.53\n",
      "18.657190635451506\n",
      "Fscore: 0.4745892919102989, Precision: 0.45589838228088975, Recall: 0.494878299123247, threshold: 0.54\n",
      "17.91638795986622\n",
      "Fscore: 0.4761278431650321, Precision: 0.4635449206791261, Recall: 0.4894129531475372, threshold: 0.55\n",
      "17.20777591973244\n",
      "Fscore: 0.4768562672525614, Precision: 0.4709383665249957, Recall: 0.4829247916691782, threshold: 0.56\n",
      "16.506688963210703\n",
      "Fscore: 0.47792675448293875, Precision: 0.47873016452673267, Recall: 0.4771260365038206, threshold: 0.57\n",
      "15.859113712374581\n",
      "Fscore: 0.4780637510339103, Precision: 0.48575962147439883, Recall: 0.4706079282686718, threshold: 0.58\n",
      "15.203595317725753\n",
      "Fscore: 0.4785508259951784, Precision: 0.49328857918430363, Recall: 0.4646681519829487, threshold: 0.59\n",
      "14.554347826086957\n",
      "Fscore: 0.47956726252343707, Precision: 0.5019619178739687, Recall: 0.45908550619574023, threshold: 0.6\n",
      "13.956103678929766\n",
      "Fscore: 0.4792814253405733, Precision: 0.509615795987467, Recall: 0.4523554212408326, threshold: 0.61\n",
      "13.33779264214047\n",
      "Fscore: 0.4791603924110813, Precision: 0.5183592533407018, Recall: 0.44547324643584046, threshold: 0.62\n",
      "12.762541806020067\n",
      "Fscore: 0.4788533393871775, Precision: 0.5271057971587587, Recall: 0.43869427268471417, threshold: 0.63\n",
      "12.233277591973245\n",
      "Fscore: 0.47771855099967936, Precision: 0.5348763184671445, Recall: 0.4315973453095903, threshold: 0.64\n",
      "11.697742474916389\n",
      "Fscore: 0.47676411673105, Precision: 0.5433997515348795, Recall: 0.42468602375232356, threshold: 0.65\n",
      "11.180183946488294\n",
      "Fscore: 0.476108528190028, Precision: 0.5521776001166342, Recall: 0.4184605763784104, threshold: 0.66\n",
      "10.684364548494983\n",
      "Fscore: 0.4737750197241792, Precision: 0.5591639461519166, Recall: 0.4110103622017999, threshold: 0.67\n"
     ]
    },
    {
     "name": "stdout",
     "output_type": "stream",
     "text": [
      "10.206939799331103\n",
      "Fscore: 0.47164442834973913, Precision: 0.5671392188223006, Recall: 0.40367389675758925, threshold: 0.68\n",
      "9.747909698996656\n",
      "Fscore: 0.4703636481940246, Precision: 0.5760990185481615, Recall: 0.39742207271411045, threshold: 0.69\n",
      "9.292642140468228\n",
      "Fscore: 0.46885365019686626, Precision: 0.5846196882360067, Recall: 0.3913573114405887, threshold: 0.7\n",
      "8.85994983277592\n",
      "Fscore: 0.466374492457912, Precision: 0.592567155882742, Recall: 0.3844931215524485, threshold: 0.71\n",
      "8.445234113712374\n",
      "Fscore: 0.4634502093159597, Precision: 0.6012534509062267, Recall: 0.37703607923928767, threshold: 0.72\n",
      "8.069816053511706\n",
      "Fscore: 0.46021289758281964, Precision: 0.6091887175783355, Recall: 0.3697831948044375, threshold: 0.73\n",
      "7.676839464882943\n",
      "Fscore: 0.4565085217641863, Precision: 0.6172212643606948, Recall: 0.3621988041078448, threshold: 0.74\n",
      "7.273411371237458\n",
      "Fscore: 0.45322558061754364, Precision: 0.6261016458266203, Recall: 0.3551604482026552, threshold: 0.75\n",
      "6.915969899665551\n",
      "Fscore: 0.4488344506741148, Precision: 0.6344823337223274, Recall: 0.34723452921911746, threshold: 0.76\n",
      "6.58319397993311\n",
      "Fscore: 0.4445586775408438, Precision: 0.6426374816326456, Recall: 0.33981745545300973, threshold: 0.77\n",
      "6.236204013377926\n",
      "Fscore: 0.4410195274813871, Precision: 0.6517571745752909, Recall: 0.33326303409859065, threshold: 0.78\n",
      "5.920150501672241\n",
      "Fscore: 0.4361870935876585, Precision: 0.6598970643091618, Recall: 0.3257540638956685, threshold: 0.79\n",
      "5.610367892976589\n",
      "Fscore: 0.4315484693112843, Precision: 0.6687024986041267, Recall: 0.31856870355309136, threshold: 0.8\n",
      "5.300167224080267\n",
      "Fscore: 0.42547815281024987, Precision: 0.6767408019364404, Recall: 0.3102773227939331, threshold: 0.81\n",
      "5.009615384615385\n",
      "Fscore: 0.4195888052833078, Precision: 0.6844498017646682, Recall: 0.30252207720532526, threshold: 0.82\n",
      "4.713628762541806\n",
      "Fscore: 0.41449731496438796, Precision: 0.6944567575658829, Recall: 0.29540812367496416, threshold: 0.83\n",
      "4.405100334448161\n",
      "Fscore: 0.4086887547509626, Precision: 0.7047064731605198, Recall: 0.2877971906815321, threshold: 0.84\n",
      "4.1074414715719065\n",
      "Fscore: 0.4018301482570687, Precision: 0.7141658470136445, Recall: 0.2795644773922884, threshold: 0.85\n",
      "3.82190635451505\n",
      "Fscore: 0.39415315292737657, Precision: 0.7239973095437531, Recall: 0.27078629132652404, threshold: 0.86\n",
      "3.5618729096989967\n",
      "Fscore: 0.38631074562207585, Precision: 0.7343669202429403, Recall: 0.2620914445242259, threshold: 0.87\n",
      "3.282190635451505\n",
      "Fscore: 0.37694309444914625, Precision: 0.7462659329278043, Recall: 0.2521536584535007, threshold: 0.88\n",
      "3.012541806020067\n",
      "Fscore: 0.36678644285970435, Precision: 0.7578763994025639, Recall: 0.24193814486017126, threshold: 0.89\n",
      "2.7650501672240804\n",
      "Fscore: 0.3563420683843146, Precision: 0.7699810358459794, Recall: 0.23181142103318939, threshold: 0.9\n",
      "2.5175585284280935\n",
      "Fscore: 0.3446474809515744, Precision: 0.7809045543430807, Recall: 0.2211183637286356, threshold: 0.91\n",
      "2.2466555183946486\n",
      "Fscore: 0.3326509003669614, Precision: 0.7961747137218117, Recall: 0.21024731685889347, threshold: 0.92\n",
      "1.9632107023411371\n",
      "Fscore: 0.3175441500075812, Precision: 0.8106283379117233, Recall: 0.1974440541431085, threshold: 0.93\n",
      "1.6831103678929766\n",
      "Fscore: 0.3005440365164731, Precision: 0.8266737135094191, Recall: 0.183657031379793, threshold: 0.94\n",
      "1.3979933110367893\n",
      "Fscore: 0.2782482712057487, Precision: 0.846392164747887, Recall: 0.1664907410616918, threshold: 0.95\n",
      "1.1283444816053512\n",
      "Fscore: 0.2509804725955449, Precision: 0.8732411146993426, Recall: 0.14655045817238135, threshold: 0.96\n",
      "0.8386287625418061\n",
      "Fscore: 0.21687905620382272, Precision: 0.9096931803686461, Recall: 0.12311544405149714, threshold: 0.97\n",
      "0.5589464882943144\n",
      "Fscore: 0.18365195652716132, Precision: 0.946509073598762, Recall: 0.1016916352890736, threshold: 0.98\n",
      "0.31270903010033446\n",
      "Fscore: 0.15518746924465354, Precision: 0.9722177997393436, Recall: 0.08432369851151923, threshold: 0.99\n",
      "0.0\n",
      "Fscore: 0.003298262891379418, Precision: 1.0, Recall: 0.0016518555726583177, threshold: 1.0\n",
      "\n",
      "Final Results (Maximal F1-score):\n",
      "Fmax: 0.480, threshold: 0.6\n"
     ]
    }
   ],
   "source": [
    "history_new = model.fit([X_train_ng,X_train_sg], y_train, batch_size=32, epochs=5,validation_split=0.2)\n",
    "predictions = model.predict([X_test_ng,X_test_sg])\n",
    "compute_metrics(predictions)"
   ]
  },
  {
   "cell_type": "code",
   "execution_count": 37,
   "id": "b9fe0577",
   "metadata": {},
   "outputs": [],
   "source": [
    "model.save('bp_model_10epoch.h5')\n",
    "np.save('bp_predictions_10epoch',predictions)"
   ]
  },
  {
   "cell_type": "code",
   "execution_count": null,
   "id": "09f3b91d",
   "metadata": {},
   "outputs": [],
   "source": []
  }
 ],
 "metadata": {
  "kernelspec": {
   "display_name": "Python 3 (ipykernel)",
   "language": "python",
   "name": "python3"
  },
  "language_info": {
   "codemirror_mode": {
    "name": "ipython",
    "version": 3
   },
   "file_extension": ".py",
   "mimetype": "text/x-python",
   "name": "python",
   "nbconvert_exporter": "python",
   "pygments_lexer": "ipython3",
   "version": "3.8.10"
  }
 },
 "nbformat": 4,
 "nbformat_minor": 5
}
